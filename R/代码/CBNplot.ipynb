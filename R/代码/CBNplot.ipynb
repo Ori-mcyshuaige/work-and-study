{
 "cells": [
  {
   "cell_type": "code",
   "execution_count": 1,
   "id": "57b5c735-aff8-4b8d-a3b9-c22dbb3b7076",
   "metadata": {},
   "outputs": [
    {
     "data": {
      "text/html": [
       "<table class=\"dataframe\">\n",
       "<caption>A matrix: 2 × 6 of type dbl</caption>\n",
       "<thead>\n",
       "\t<tr><th></th><th scope=col>used</th><th scope=col>(Mb)</th><th scope=col>gc trigger</th><th scope=col>(Mb)</th><th scope=col>max used</th><th scope=col>(Mb)</th></tr>\n",
       "</thead>\n",
       "<tbody>\n",
       "\t<tr><th scope=row>Ncells</th><td> 626434</td><td>33.5</td><td>1644548</td><td>87.9</td><td>1644548</td><td>87.9</td></tr>\n",
       "\t<tr><th scope=row>Vcells</th><td>1353242</td><td>10.4</td><td>8388608</td><td>64.0</td><td>4881410</td><td>37.3</td></tr>\n",
       "</tbody>\n",
       "</table>\n"
      ],
      "text/latex": [
       "A matrix: 2 × 6 of type dbl\n",
       "\\begin{tabular}{r|llllll}\n",
       "  & used & (Mb) & gc trigger & (Mb) & max used & (Mb)\\\\\n",
       "\\hline\n",
       "\tNcells &  626434 & 33.5 & 1644548 & 87.9 & 1644548 & 87.9\\\\\n",
       "\tVcells & 1353242 & 10.4 & 8388608 & 64.0 & 4881410 & 37.3\\\\\n",
       "\\end{tabular}\n"
      ],
      "text/markdown": [
       "\n",
       "A matrix: 2 × 6 of type dbl\n",
       "\n",
       "| <!--/--> | used | (Mb) | gc trigger | (Mb) | max used | (Mb) |\n",
       "|---|---|---|---|---|---|---|\n",
       "| Ncells |  626434 | 33.5 | 1644548 | 87.9 | 1644548 | 87.9 |\n",
       "| Vcells | 1353242 | 10.4 | 8388608 | 64.0 | 4881410 | 37.3 |\n",
       "\n"
      ],
      "text/plain": [
       "       used    (Mb) gc trigger (Mb) max used (Mb)\n",
       "Ncells  626434 33.5 1644548    87.9 1644548  87.9\n",
       "Vcells 1353242 10.4 8388608    64.0 4881410  37.3"
      ]
     },
     "metadata": {},
     "output_type": "display_data"
    }
   ],
   "source": [
    "rm(list = ls())\n",
    "options(stringsAsFactors = F)\n",
    "gc()"
   ]
  },
  {
   "cell_type": "code",
   "execution_count": 3,
   "id": "c65e0064-e1d3-48cb-b101-2fbacae3fb01",
   "metadata": {},
   "outputs": [],
   "source": [
    "library(DESeq2)\n",
    "library(bnlearn)\n",
    "library(org.Hs.eg.db)\n",
    "library(GEOquery)\n",
    "library(clusterProfiler)\n",
    "library(dplyr)\n",
    "library(limma)"
   ]
  },
  {
   "cell_type": "markdown",
   "id": "ba5ad0a1-b461-4593-ab0e-28dcb60342cc",
   "metadata": {},
   "source": [
    "## 原始数据的整理"
   ]
  },
  {
   "cell_type": "code",
   "execution_count": 5,
   "id": "c9653363-402d-46a7-9ae6-f61ce480d3a4",
   "metadata": {},
   "outputs": [],
   "source": [
    "getx_data <- data.table::fread(\"./00.data/gtex/gtex_gene_expected_count\",data.table = F)  \n",
    "phenotype <- data.table::fread(\"./00.data/gtex/GTEX_phenotype\",data.table = F)\n",
    "phenotype <- phenotype %>% filter(phenotype$`_primary_site` == \"Stomach\")\n",
    "selectdata <- getx_data[,colnames(getx_data) %in% phenotype$Sample] \n",
    "selectdata1 <- cbind(getx_data[,1],selectdata)"
   ]
  },
  {
   "cell_type": "markdown",
   "id": "f8c2100a-096c-4ca8-976d-6bc35ae4b313",
   "metadata": {},
   "source": [
    "#### 截取selectdata数据中的ENSG_ID,该步骤对后面的CBNplot包的使用非常重要！！！CBNplot需要ENSG_ID！！！"
   ]
  },
  {
   "cell_type": "code",
   "execution_count": 6,
   "id": "a8fb2473-11e2-46f5-9bfe-6ffcf23af8fa",
   "metadata": {},
   "outputs": [],
   "source": [
    "ensg <- sapply(selectdata1$`getx_data[, 1]`, function(x) substr(x,1,15))"
   ]
  },
  {
   "cell_type": "code",
   "execution_count": 7,
   "id": "86ddddeb-bd54-413d-a1ce-6ab98d6beb7e",
   "metadata": {},
   "outputs": [],
   "source": [
    "mydata <- cbind(ensg,selectdata1)"
   ]
  },
  {
   "cell_type": "code",
   "execution_count": 8,
   "id": "5228b6eb-7993-4da1-8f8b-5e8b9337e759",
   "metadata": {},
   "outputs": [
    {
     "data": {
      "text/html": [
       "<table class=\"dataframe\">\n",
       "<caption>A data.frame: 6 × 176</caption>\n",
       "<thead>\n",
       "\t<tr><th></th><th scope=col>ensg</th><th scope=col>getx_data[, 1]</th><th scope=col>GTEX-QLQ7-0826-SM-447B3</th><th scope=col>GTEX-132AR-2426-SM-5IFFD</th><th scope=col>GTEX-11EQ9-1226-SM-5987E</th><th scope=col>GTEX-RWS6-0926-SM-47JXE</th><th scope=col>GTEX-13X6H-1626-SM-5Q5CT</th><th scope=col>GTEX-ZTX8-0426-SM-59HLG</th><th scope=col>GTEX-11EM3-1026-SM-5A5KL</th><th scope=col>GTEX-S3XE-1026-SM-4AD4O</th><th scope=col>⋯</th><th scope=col>GTEX-1122O-1926-SM-5EGIQ</th><th scope=col>GTEX-13O61-1126-SM-5L3FI</th><th scope=col>GTEX-ZPIC-2026-SM-57WG3</th><th scope=col>GTEX-Y9LG-1026-SM-5IFJN</th><th scope=col>GTEX-13O3Q-2126-SM-5KM4C</th><th scope=col>GTEX-ZLV1-0826-SM-4WWEQ</th><th scope=col>GTEX-PX3G-1526-SM-48U11</th><th scope=col>GTEX-13FTX-0726-SM-5N9BI</th><th scope=col>GTEX-WFG7-1326-SM-4LMK1</th><th scope=col>GTEX-12C56-0526-SM-5FQST</th></tr>\n",
       "\t<tr><th></th><th scope=col>&lt;chr&gt;</th><th scope=col>&lt;chr&gt;</th><th scope=col>&lt;dbl&gt;</th><th scope=col>&lt;dbl&gt;</th><th scope=col>&lt;dbl&gt;</th><th scope=col>&lt;dbl&gt;</th><th scope=col>&lt;dbl&gt;</th><th scope=col>&lt;dbl&gt;</th><th scope=col>&lt;dbl&gt;</th><th scope=col>&lt;dbl&gt;</th><th scope=col>⋯</th><th scope=col>&lt;dbl&gt;</th><th scope=col>&lt;dbl&gt;</th><th scope=col>&lt;dbl&gt;</th><th scope=col>&lt;dbl&gt;</th><th scope=col>&lt;dbl&gt;</th><th scope=col>&lt;dbl&gt;</th><th scope=col>&lt;dbl&gt;</th><th scope=col>&lt;dbl&gt;</th><th scope=col>&lt;dbl&gt;</th><th scope=col>&lt;dbl&gt;</th></tr>\n",
       "</thead>\n",
       "<tbody>\n",
       "\t<tr><th scope=row>ENSG00000242268.2</th><td>ENSG00000242268</td><td>ENSG00000242268.2 </td><td>1.0000</td><td>1.5850</td><td>1.5850</td><td>1.0000</td><td>2.0000</td><td>0.0000</td><td>0.0000</td><td>1.0000</td><td>⋯</td><td>1.5850</td><td>2.0000</td><td>0.0000</td><td>1.0000</td><td>2.8074</td><td>0.0000</td><td>0.0000</td><td>1.5850</td><td>1.0000</td><td>1.5850</td></tr>\n",
       "\t<tr><th scope=row>ENSG00000259041.1</th><td>ENSG00000259041</td><td>ENSG00000259041.1 </td><td>0.0000</td><td>0.0000</td><td>0.0000</td><td>0.0000</td><td>0.0000</td><td>0.0000</td><td>0.0000</td><td>0.0000</td><td>⋯</td><td>0.0000</td><td>0.0000</td><td>0.0000</td><td>0.0000</td><td>0.0000</td><td>0.0000</td><td>0.0000</td><td>0.0000</td><td>0.0000</td><td>0.0000</td></tr>\n",
       "\t<tr><th scope=row>ENSG00000270112.3</th><td>ENSG00000270112</td><td>ENSG00000270112.3 </td><td>1.0000</td><td>0.0000</td><td>0.0000</td><td>0.0000</td><td>0.0000</td><td>1.5850</td><td>0.0000</td><td>1.5850</td><td>⋯</td><td>0.0000</td><td>1.0000</td><td>0.0000</td><td>1.0000</td><td>1.0000</td><td>1.5850</td><td>1.9561</td><td>0.0000</td><td>0.0000</td><td>0.0000</td></tr>\n",
       "\t<tr><th scope=row>ENSG00000167578.16</th><td>ENSG00000167578</td><td>ENSG00000167578.16</td><td>8.8543</td><td>9.0328</td><td>8.9683</td><td>9.0298</td><td>9.6756</td><td>9.1426</td><td>8.6864</td><td>9.3345</td><td>⋯</td><td>8.6554</td><td>9.1817</td><td>9.2099</td><td>9.7245</td><td>8.9106</td><td>9.9282</td><td>8.5038</td><td>9.4118</td><td>9.3541</td><td>9.1145</td></tr>\n",
       "\t<tr><th scope=row>ENSG00000278814.1</th><td>ENSG00000278814</td><td>ENSG00000278814.1 </td><td>0.0000</td><td>0.0000</td><td>0.0000</td><td>0.0000</td><td>0.0000</td><td>0.0000</td><td>0.0000</td><td>0.0000</td><td>⋯</td><td>0.0000</td><td>0.0000</td><td>0.0000</td><td>0.0000</td><td>0.0000</td><td>0.0000</td><td>0.0000</td><td>0.0000</td><td>0.0000</td><td>0.0000</td></tr>\n",
       "\t<tr><th scope=row>ENSG00000078237.5</th><td>ENSG00000078237</td><td>ENSG00000078237.5 </td><td>6.8826</td><td>6.8948</td><td>8.1799</td><td>6.7004</td><td>8.0168</td><td>8.2479</td><td>7.0768</td><td>6.6294</td><td>⋯</td><td>6.7814</td><td>7.7415</td><td>7.4009</td><td>7.3576</td><td>6.6724</td><td>7.5622</td><td>5.7279</td><td>7.5236</td><td>7.6865</td><td>7.5850</td></tr>\n",
       "</tbody>\n",
       "</table>\n"
      ],
      "text/latex": [
       "A data.frame: 6 × 176\n",
       "\\begin{tabular}{r|lllllllllllllllllllll}\n",
       "  & ensg & getx\\_data{[}, 1{]} & GTEX-QLQ7-0826-SM-447B3 & GTEX-132AR-2426-SM-5IFFD & GTEX-11EQ9-1226-SM-5987E & GTEX-RWS6-0926-SM-47JXE & GTEX-13X6H-1626-SM-5Q5CT & GTEX-ZTX8-0426-SM-59HLG & GTEX-11EM3-1026-SM-5A5KL & GTEX-S3XE-1026-SM-4AD4O & ⋯ & GTEX-1122O-1926-SM-5EGIQ & GTEX-13O61-1126-SM-5L3FI & GTEX-ZPIC-2026-SM-57WG3 & GTEX-Y9LG-1026-SM-5IFJN & GTEX-13O3Q-2126-SM-5KM4C & GTEX-ZLV1-0826-SM-4WWEQ & GTEX-PX3G-1526-SM-48U11 & GTEX-13FTX-0726-SM-5N9BI & GTEX-WFG7-1326-SM-4LMK1 & GTEX-12C56-0526-SM-5FQST\\\\\n",
       "  & <chr> & <chr> & <dbl> & <dbl> & <dbl> & <dbl> & <dbl> & <dbl> & <dbl> & <dbl> & ⋯ & <dbl> & <dbl> & <dbl> & <dbl> & <dbl> & <dbl> & <dbl> & <dbl> & <dbl> & <dbl>\\\\\n",
       "\\hline\n",
       "\tENSG00000242268.2 & ENSG00000242268 & ENSG00000242268.2  & 1.0000 & 1.5850 & 1.5850 & 1.0000 & 2.0000 & 0.0000 & 0.0000 & 1.0000 & ⋯ & 1.5850 & 2.0000 & 0.0000 & 1.0000 & 2.8074 & 0.0000 & 0.0000 & 1.5850 & 1.0000 & 1.5850\\\\\n",
       "\tENSG00000259041.1 & ENSG00000259041 & ENSG00000259041.1  & 0.0000 & 0.0000 & 0.0000 & 0.0000 & 0.0000 & 0.0000 & 0.0000 & 0.0000 & ⋯ & 0.0000 & 0.0000 & 0.0000 & 0.0000 & 0.0000 & 0.0000 & 0.0000 & 0.0000 & 0.0000 & 0.0000\\\\\n",
       "\tENSG00000270112.3 & ENSG00000270112 & ENSG00000270112.3  & 1.0000 & 0.0000 & 0.0000 & 0.0000 & 0.0000 & 1.5850 & 0.0000 & 1.5850 & ⋯ & 0.0000 & 1.0000 & 0.0000 & 1.0000 & 1.0000 & 1.5850 & 1.9561 & 0.0000 & 0.0000 & 0.0000\\\\\n",
       "\tENSG00000167578.16 & ENSG00000167578 & ENSG00000167578.16 & 8.8543 & 9.0328 & 8.9683 & 9.0298 & 9.6756 & 9.1426 & 8.6864 & 9.3345 & ⋯ & 8.6554 & 9.1817 & 9.2099 & 9.7245 & 8.9106 & 9.9282 & 8.5038 & 9.4118 & 9.3541 & 9.1145\\\\\n",
       "\tENSG00000278814.1 & ENSG00000278814 & ENSG00000278814.1  & 0.0000 & 0.0000 & 0.0000 & 0.0000 & 0.0000 & 0.0000 & 0.0000 & 0.0000 & ⋯ & 0.0000 & 0.0000 & 0.0000 & 0.0000 & 0.0000 & 0.0000 & 0.0000 & 0.0000 & 0.0000 & 0.0000\\\\\n",
       "\tENSG00000078237.5 & ENSG00000078237 & ENSG00000078237.5  & 6.8826 & 6.8948 & 8.1799 & 6.7004 & 8.0168 & 8.2479 & 7.0768 & 6.6294 & ⋯ & 6.7814 & 7.7415 & 7.4009 & 7.3576 & 6.6724 & 7.5622 & 5.7279 & 7.5236 & 7.6865 & 7.5850\\\\\n",
       "\\end{tabular}\n"
      ],
      "text/markdown": [
       "\n",
       "A data.frame: 6 × 176\n",
       "\n",
       "| <!--/--> | ensg &lt;chr&gt; | getx_data[, 1] &lt;chr&gt; | GTEX-QLQ7-0826-SM-447B3 &lt;dbl&gt; | GTEX-132AR-2426-SM-5IFFD &lt;dbl&gt; | GTEX-11EQ9-1226-SM-5987E &lt;dbl&gt; | GTEX-RWS6-0926-SM-47JXE &lt;dbl&gt; | GTEX-13X6H-1626-SM-5Q5CT &lt;dbl&gt; | GTEX-ZTX8-0426-SM-59HLG &lt;dbl&gt; | GTEX-11EM3-1026-SM-5A5KL &lt;dbl&gt; | GTEX-S3XE-1026-SM-4AD4O &lt;dbl&gt; | ⋯ ⋯ | GTEX-1122O-1926-SM-5EGIQ &lt;dbl&gt; | GTEX-13O61-1126-SM-5L3FI &lt;dbl&gt; | GTEX-ZPIC-2026-SM-57WG3 &lt;dbl&gt; | GTEX-Y9LG-1026-SM-5IFJN &lt;dbl&gt; | GTEX-13O3Q-2126-SM-5KM4C &lt;dbl&gt; | GTEX-ZLV1-0826-SM-4WWEQ &lt;dbl&gt; | GTEX-PX3G-1526-SM-48U11 &lt;dbl&gt; | GTEX-13FTX-0726-SM-5N9BI &lt;dbl&gt; | GTEX-WFG7-1326-SM-4LMK1 &lt;dbl&gt; | GTEX-12C56-0526-SM-5FQST &lt;dbl&gt; |\n",
       "|---|---|---|---|---|---|---|---|---|---|---|---|---|---|---|---|---|---|---|---|---|---|\n",
       "| ENSG00000242268.2 | ENSG00000242268 | ENSG00000242268.2  | 1.0000 | 1.5850 | 1.5850 | 1.0000 | 2.0000 | 0.0000 | 0.0000 | 1.0000 | ⋯ | 1.5850 | 2.0000 | 0.0000 | 1.0000 | 2.8074 | 0.0000 | 0.0000 | 1.5850 | 1.0000 | 1.5850 |\n",
       "| ENSG00000259041.1 | ENSG00000259041 | ENSG00000259041.1  | 0.0000 | 0.0000 | 0.0000 | 0.0000 | 0.0000 | 0.0000 | 0.0000 | 0.0000 | ⋯ | 0.0000 | 0.0000 | 0.0000 | 0.0000 | 0.0000 | 0.0000 | 0.0000 | 0.0000 | 0.0000 | 0.0000 |\n",
       "| ENSG00000270112.3 | ENSG00000270112 | ENSG00000270112.3  | 1.0000 | 0.0000 | 0.0000 | 0.0000 | 0.0000 | 1.5850 | 0.0000 | 1.5850 | ⋯ | 0.0000 | 1.0000 | 0.0000 | 1.0000 | 1.0000 | 1.5850 | 1.9561 | 0.0000 | 0.0000 | 0.0000 |\n",
       "| ENSG00000167578.16 | ENSG00000167578 | ENSG00000167578.16 | 8.8543 | 9.0328 | 8.9683 | 9.0298 | 9.6756 | 9.1426 | 8.6864 | 9.3345 | ⋯ | 8.6554 | 9.1817 | 9.2099 | 9.7245 | 8.9106 | 9.9282 | 8.5038 | 9.4118 | 9.3541 | 9.1145 |\n",
       "| ENSG00000278814.1 | ENSG00000278814 | ENSG00000278814.1  | 0.0000 | 0.0000 | 0.0000 | 0.0000 | 0.0000 | 0.0000 | 0.0000 | 0.0000 | ⋯ | 0.0000 | 0.0000 | 0.0000 | 0.0000 | 0.0000 | 0.0000 | 0.0000 | 0.0000 | 0.0000 | 0.0000 |\n",
       "| ENSG00000078237.5 | ENSG00000078237 | ENSG00000078237.5  | 6.8826 | 6.8948 | 8.1799 | 6.7004 | 8.0168 | 8.2479 | 7.0768 | 6.6294 | ⋯ | 6.7814 | 7.7415 | 7.4009 | 7.3576 | 6.6724 | 7.5622 | 5.7279 | 7.5236 | 7.6865 | 7.5850 |\n",
       "\n"
      ],
      "text/plain": [
       "                   ensg            getx_data[, 1]     GTEX-QLQ7-0826-SM-447B3\n",
       "ENSG00000242268.2  ENSG00000242268 ENSG00000242268.2  1.0000                 \n",
       "ENSG00000259041.1  ENSG00000259041 ENSG00000259041.1  0.0000                 \n",
       "ENSG00000270112.3  ENSG00000270112 ENSG00000270112.3  1.0000                 \n",
       "ENSG00000167578.16 ENSG00000167578 ENSG00000167578.16 8.8543                 \n",
       "ENSG00000278814.1  ENSG00000278814 ENSG00000278814.1  0.0000                 \n",
       "ENSG00000078237.5  ENSG00000078237 ENSG00000078237.5  6.8826                 \n",
       "                   GTEX-132AR-2426-SM-5IFFD GTEX-11EQ9-1226-SM-5987E\n",
       "ENSG00000242268.2  1.5850                   1.5850                  \n",
       "ENSG00000259041.1  0.0000                   0.0000                  \n",
       "ENSG00000270112.3  0.0000                   0.0000                  \n",
       "ENSG00000167578.16 9.0328                   8.9683                  \n",
       "ENSG00000278814.1  0.0000                   0.0000                  \n",
       "ENSG00000078237.5  6.8948                   8.1799                  \n",
       "                   GTEX-RWS6-0926-SM-47JXE GTEX-13X6H-1626-SM-5Q5CT\n",
       "ENSG00000242268.2  1.0000                  2.0000                  \n",
       "ENSG00000259041.1  0.0000                  0.0000                  \n",
       "ENSG00000270112.3  0.0000                  0.0000                  \n",
       "ENSG00000167578.16 9.0298                  9.6756                  \n",
       "ENSG00000278814.1  0.0000                  0.0000                  \n",
       "ENSG00000078237.5  6.7004                  8.0168                  \n",
       "                   GTEX-ZTX8-0426-SM-59HLG GTEX-11EM3-1026-SM-5A5KL\n",
       "ENSG00000242268.2  0.0000                  0.0000                  \n",
       "ENSG00000259041.1  0.0000                  0.0000                  \n",
       "ENSG00000270112.3  1.5850                  0.0000                  \n",
       "ENSG00000167578.16 9.1426                  8.6864                  \n",
       "ENSG00000278814.1  0.0000                  0.0000                  \n",
       "ENSG00000078237.5  8.2479                  7.0768                  \n",
       "                   GTEX-S3XE-1026-SM-4AD4O ⋯ GTEX-1122O-1926-SM-5EGIQ\n",
       "ENSG00000242268.2  1.0000                  ⋯ 1.5850                  \n",
       "ENSG00000259041.1  0.0000                  ⋯ 0.0000                  \n",
       "ENSG00000270112.3  1.5850                  ⋯ 0.0000                  \n",
       "ENSG00000167578.16 9.3345                  ⋯ 8.6554                  \n",
       "ENSG00000278814.1  0.0000                  ⋯ 0.0000                  \n",
       "ENSG00000078237.5  6.6294                  ⋯ 6.7814                  \n",
       "                   GTEX-13O61-1126-SM-5L3FI GTEX-ZPIC-2026-SM-57WG3\n",
       "ENSG00000242268.2  2.0000                   0.0000                 \n",
       "ENSG00000259041.1  0.0000                   0.0000                 \n",
       "ENSG00000270112.3  1.0000                   0.0000                 \n",
       "ENSG00000167578.16 9.1817                   9.2099                 \n",
       "ENSG00000278814.1  0.0000                   0.0000                 \n",
       "ENSG00000078237.5  7.7415                   7.4009                 \n",
       "                   GTEX-Y9LG-1026-SM-5IFJN GTEX-13O3Q-2126-SM-5KM4C\n",
       "ENSG00000242268.2  1.0000                  2.8074                  \n",
       "ENSG00000259041.1  0.0000                  0.0000                  \n",
       "ENSG00000270112.3  1.0000                  1.0000                  \n",
       "ENSG00000167578.16 9.7245                  8.9106                  \n",
       "ENSG00000278814.1  0.0000                  0.0000                  \n",
       "ENSG00000078237.5  7.3576                  6.6724                  \n",
       "                   GTEX-ZLV1-0826-SM-4WWEQ GTEX-PX3G-1526-SM-48U11\n",
       "ENSG00000242268.2  0.0000                  0.0000                 \n",
       "ENSG00000259041.1  0.0000                  0.0000                 \n",
       "ENSG00000270112.3  1.5850                  1.9561                 \n",
       "ENSG00000167578.16 9.9282                  8.5038                 \n",
       "ENSG00000278814.1  0.0000                  0.0000                 \n",
       "ENSG00000078237.5  7.5622                  5.7279                 \n",
       "                   GTEX-13FTX-0726-SM-5N9BI GTEX-WFG7-1326-SM-4LMK1\n",
       "ENSG00000242268.2  1.5850                   1.0000                 \n",
       "ENSG00000259041.1  0.0000                   0.0000                 \n",
       "ENSG00000270112.3  0.0000                   0.0000                 \n",
       "ENSG00000167578.16 9.4118                   9.3541                 \n",
       "ENSG00000278814.1  0.0000                   0.0000                 \n",
       "ENSG00000078237.5  7.5236                   7.6865                 \n",
       "                   GTEX-12C56-0526-SM-5FQST\n",
       "ENSG00000242268.2  1.5850                  \n",
       "ENSG00000259041.1  0.0000                  \n",
       "ENSG00000270112.3  0.0000                  \n",
       "ENSG00000167578.16 9.1145                  \n",
       "ENSG00000278814.1  0.0000                  \n",
       "ENSG00000078237.5  7.5850                  "
      ]
     },
     "metadata": {},
     "output_type": "display_data"
    }
   ],
   "source": [
    "head(mydata)"
   ]
  },
  {
   "cell_type": "markdown",
   "id": "85e60638-7afa-4e89-9087-cff9ca512a47",
   "metadata": {},
   "source": [
    "#### 将ENSG_id作为行名"
   ]
  },
  {
   "cell_type": "code",
   "execution_count": 9,
   "id": "614d009e-3d6d-45fa-ad70-d9e975d2eca8",
   "metadata": {},
   "outputs": [],
   "source": [
    "rownames(mydata) <- mydata[,1]\n",
    "mydata <- mydata[,-c(1:2)]"
   ]
  },
  {
   "cell_type": "markdown",
   "id": "9d9b4cab-4134-48e7-956b-de029c702ac4",
   "metadata": {},
   "source": [
    "#### 最终需要的数据格式"
   ]
  },
  {
   "cell_type": "code",
   "execution_count": 10,
   "id": "c566cff1-28be-4b15-87ad-0c7a0a900774",
   "metadata": {},
   "outputs": [
    {
     "data": {
      "text/html": [
       "<table class=\"dataframe\">\n",
       "<caption>A data.frame: 6 × 174</caption>\n",
       "<thead>\n",
       "\t<tr><th></th><th scope=col>GTEX-QLQ7-0826-SM-447B3</th><th scope=col>GTEX-132AR-2426-SM-5IFFD</th><th scope=col>GTEX-11EQ9-1226-SM-5987E</th><th scope=col>GTEX-RWS6-0926-SM-47JXE</th><th scope=col>GTEX-13X6H-1626-SM-5Q5CT</th><th scope=col>GTEX-ZTX8-0426-SM-59HLG</th><th scope=col>GTEX-11EM3-1026-SM-5A5KL</th><th scope=col>GTEX-S3XE-1026-SM-4AD4O</th><th scope=col>GTEX-ZYY3-1726-SM-5EGH3</th><th scope=col>GTEX-111YS-1126-SM-5GZYQ</th><th scope=col>⋯</th><th scope=col>GTEX-1122O-1926-SM-5EGIQ</th><th scope=col>GTEX-13O61-1126-SM-5L3FI</th><th scope=col>GTEX-ZPIC-2026-SM-57WG3</th><th scope=col>GTEX-Y9LG-1026-SM-5IFJN</th><th scope=col>GTEX-13O3Q-2126-SM-5KM4C</th><th scope=col>GTEX-ZLV1-0826-SM-4WWEQ</th><th scope=col>GTEX-PX3G-1526-SM-48U11</th><th scope=col>GTEX-13FTX-0726-SM-5N9BI</th><th scope=col>GTEX-WFG7-1326-SM-4LMK1</th><th scope=col>GTEX-12C56-0526-SM-5FQST</th></tr>\n",
       "\t<tr><th></th><th scope=col>&lt;dbl&gt;</th><th scope=col>&lt;dbl&gt;</th><th scope=col>&lt;dbl&gt;</th><th scope=col>&lt;dbl&gt;</th><th scope=col>&lt;dbl&gt;</th><th scope=col>&lt;dbl&gt;</th><th scope=col>&lt;dbl&gt;</th><th scope=col>&lt;dbl&gt;</th><th scope=col>&lt;dbl&gt;</th><th scope=col>&lt;dbl&gt;</th><th scope=col>⋯</th><th scope=col>&lt;dbl&gt;</th><th scope=col>&lt;dbl&gt;</th><th scope=col>&lt;dbl&gt;</th><th scope=col>&lt;dbl&gt;</th><th scope=col>&lt;dbl&gt;</th><th scope=col>&lt;dbl&gt;</th><th scope=col>&lt;dbl&gt;</th><th scope=col>&lt;dbl&gt;</th><th scope=col>&lt;dbl&gt;</th><th scope=col>&lt;dbl&gt;</th></tr>\n",
       "</thead>\n",
       "<tbody>\n",
       "\t<tr><th scope=row>ENSG00000242268</th><td>1.0000</td><td>1.5850</td><td>1.5850</td><td>1.0000</td><td>2.0000</td><td>0.0000</td><td>0.0000</td><td>1.0000</td><td>0.0000</td><td>0.0000</td><td>⋯</td><td>1.5850</td><td>2.0000</td><td>0.0000</td><td>1.0000</td><td>2.8074</td><td>0.0000</td><td>0.0000</td><td>1.5850</td><td>1.0000</td><td>1.5850</td></tr>\n",
       "\t<tr><th scope=row>ENSG00000259041</th><td>0.0000</td><td>0.0000</td><td>0.0000</td><td>0.0000</td><td>0.0000</td><td>0.0000</td><td>0.0000</td><td>0.0000</td><td>0.0000</td><td>0.0000</td><td>⋯</td><td>0.0000</td><td>0.0000</td><td>0.0000</td><td>0.0000</td><td>0.0000</td><td>0.0000</td><td>0.0000</td><td>0.0000</td><td>0.0000</td><td>0.0000</td></tr>\n",
       "\t<tr><th scope=row>ENSG00000270112</th><td>1.0000</td><td>0.0000</td><td>0.0000</td><td>0.0000</td><td>0.0000</td><td>1.5850</td><td>0.0000</td><td>1.5850</td><td>0.0000</td><td>1.0000</td><td>⋯</td><td>0.0000</td><td>1.0000</td><td>0.0000</td><td>1.0000</td><td>1.0000</td><td>1.5850</td><td>1.9561</td><td>0.0000</td><td>0.0000</td><td>0.0000</td></tr>\n",
       "\t<tr><th scope=row>ENSG00000167578</th><td>8.8543</td><td>9.0328</td><td>8.9683</td><td>9.0298</td><td>9.6756</td><td>9.1426</td><td>8.6864</td><td>9.3345</td><td>9.3502</td><td>8.6179</td><td>⋯</td><td>8.6554</td><td>9.1817</td><td>9.2099</td><td>9.7245</td><td>8.9106</td><td>9.9282</td><td>8.5038</td><td>9.4118</td><td>9.3541</td><td>9.1145</td></tr>\n",
       "\t<tr><th scope=row>ENSG00000278814</th><td>0.0000</td><td>0.0000</td><td>0.0000</td><td>0.0000</td><td>0.0000</td><td>0.0000</td><td>0.0000</td><td>0.0000</td><td>0.0000</td><td>0.0000</td><td>⋯</td><td>0.0000</td><td>0.0000</td><td>0.0000</td><td>0.0000</td><td>0.0000</td><td>0.0000</td><td>0.0000</td><td>0.0000</td><td>0.0000</td><td>0.0000</td></tr>\n",
       "\t<tr><th scope=row>ENSG00000078237</th><td>6.8826</td><td>6.8948</td><td>8.1799</td><td>6.7004</td><td>8.0168</td><td>8.2479</td><td>7.0768</td><td>6.6294</td><td>6.2288</td><td>6.9658</td><td>⋯</td><td>6.7814</td><td>7.7415</td><td>7.4009</td><td>7.3576</td><td>6.6724</td><td>7.5622</td><td>5.7279</td><td>7.5236</td><td>7.6865</td><td>7.5850</td></tr>\n",
       "</tbody>\n",
       "</table>\n"
      ],
      "text/latex": [
       "A data.frame: 6 × 174\n",
       "\\begin{tabular}{r|lllllllllllllllllllll}\n",
       "  & GTEX-QLQ7-0826-SM-447B3 & GTEX-132AR-2426-SM-5IFFD & GTEX-11EQ9-1226-SM-5987E & GTEX-RWS6-0926-SM-47JXE & GTEX-13X6H-1626-SM-5Q5CT & GTEX-ZTX8-0426-SM-59HLG & GTEX-11EM3-1026-SM-5A5KL & GTEX-S3XE-1026-SM-4AD4O & GTEX-ZYY3-1726-SM-5EGH3 & GTEX-111YS-1126-SM-5GZYQ & ⋯ & GTEX-1122O-1926-SM-5EGIQ & GTEX-13O61-1126-SM-5L3FI & GTEX-ZPIC-2026-SM-57WG3 & GTEX-Y9LG-1026-SM-5IFJN & GTEX-13O3Q-2126-SM-5KM4C & GTEX-ZLV1-0826-SM-4WWEQ & GTEX-PX3G-1526-SM-48U11 & GTEX-13FTX-0726-SM-5N9BI & GTEX-WFG7-1326-SM-4LMK1 & GTEX-12C56-0526-SM-5FQST\\\\\n",
       "  & <dbl> & <dbl> & <dbl> & <dbl> & <dbl> & <dbl> & <dbl> & <dbl> & <dbl> & <dbl> & ⋯ & <dbl> & <dbl> & <dbl> & <dbl> & <dbl> & <dbl> & <dbl> & <dbl> & <dbl> & <dbl>\\\\\n",
       "\\hline\n",
       "\tENSG00000242268 & 1.0000 & 1.5850 & 1.5850 & 1.0000 & 2.0000 & 0.0000 & 0.0000 & 1.0000 & 0.0000 & 0.0000 & ⋯ & 1.5850 & 2.0000 & 0.0000 & 1.0000 & 2.8074 & 0.0000 & 0.0000 & 1.5850 & 1.0000 & 1.5850\\\\\n",
       "\tENSG00000259041 & 0.0000 & 0.0000 & 0.0000 & 0.0000 & 0.0000 & 0.0000 & 0.0000 & 0.0000 & 0.0000 & 0.0000 & ⋯ & 0.0000 & 0.0000 & 0.0000 & 0.0000 & 0.0000 & 0.0000 & 0.0000 & 0.0000 & 0.0000 & 0.0000\\\\\n",
       "\tENSG00000270112 & 1.0000 & 0.0000 & 0.0000 & 0.0000 & 0.0000 & 1.5850 & 0.0000 & 1.5850 & 0.0000 & 1.0000 & ⋯ & 0.0000 & 1.0000 & 0.0000 & 1.0000 & 1.0000 & 1.5850 & 1.9561 & 0.0000 & 0.0000 & 0.0000\\\\\n",
       "\tENSG00000167578 & 8.8543 & 9.0328 & 8.9683 & 9.0298 & 9.6756 & 9.1426 & 8.6864 & 9.3345 & 9.3502 & 8.6179 & ⋯ & 8.6554 & 9.1817 & 9.2099 & 9.7245 & 8.9106 & 9.9282 & 8.5038 & 9.4118 & 9.3541 & 9.1145\\\\\n",
       "\tENSG00000278814 & 0.0000 & 0.0000 & 0.0000 & 0.0000 & 0.0000 & 0.0000 & 0.0000 & 0.0000 & 0.0000 & 0.0000 & ⋯ & 0.0000 & 0.0000 & 0.0000 & 0.0000 & 0.0000 & 0.0000 & 0.0000 & 0.0000 & 0.0000 & 0.0000\\\\\n",
       "\tENSG00000078237 & 6.8826 & 6.8948 & 8.1799 & 6.7004 & 8.0168 & 8.2479 & 7.0768 & 6.6294 & 6.2288 & 6.9658 & ⋯ & 6.7814 & 7.7415 & 7.4009 & 7.3576 & 6.6724 & 7.5622 & 5.7279 & 7.5236 & 7.6865 & 7.5850\\\\\n",
       "\\end{tabular}\n"
      ],
      "text/markdown": [
       "\n",
       "A data.frame: 6 × 174\n",
       "\n",
       "| <!--/--> | GTEX-QLQ7-0826-SM-447B3 &lt;dbl&gt; | GTEX-132AR-2426-SM-5IFFD &lt;dbl&gt; | GTEX-11EQ9-1226-SM-5987E &lt;dbl&gt; | GTEX-RWS6-0926-SM-47JXE &lt;dbl&gt; | GTEX-13X6H-1626-SM-5Q5CT &lt;dbl&gt; | GTEX-ZTX8-0426-SM-59HLG &lt;dbl&gt; | GTEX-11EM3-1026-SM-5A5KL &lt;dbl&gt; | GTEX-S3XE-1026-SM-4AD4O &lt;dbl&gt; | GTEX-ZYY3-1726-SM-5EGH3 &lt;dbl&gt; | GTEX-111YS-1126-SM-5GZYQ &lt;dbl&gt; | ⋯ ⋯ | GTEX-1122O-1926-SM-5EGIQ &lt;dbl&gt; | GTEX-13O61-1126-SM-5L3FI &lt;dbl&gt; | GTEX-ZPIC-2026-SM-57WG3 &lt;dbl&gt; | GTEX-Y9LG-1026-SM-5IFJN &lt;dbl&gt; | GTEX-13O3Q-2126-SM-5KM4C &lt;dbl&gt; | GTEX-ZLV1-0826-SM-4WWEQ &lt;dbl&gt; | GTEX-PX3G-1526-SM-48U11 &lt;dbl&gt; | GTEX-13FTX-0726-SM-5N9BI &lt;dbl&gt; | GTEX-WFG7-1326-SM-4LMK1 &lt;dbl&gt; | GTEX-12C56-0526-SM-5FQST &lt;dbl&gt; |\n",
       "|---|---|---|---|---|---|---|---|---|---|---|---|---|---|---|---|---|---|---|---|---|---|\n",
       "| ENSG00000242268 | 1.0000 | 1.5850 | 1.5850 | 1.0000 | 2.0000 | 0.0000 | 0.0000 | 1.0000 | 0.0000 | 0.0000 | ⋯ | 1.5850 | 2.0000 | 0.0000 | 1.0000 | 2.8074 | 0.0000 | 0.0000 | 1.5850 | 1.0000 | 1.5850 |\n",
       "| ENSG00000259041 | 0.0000 | 0.0000 | 0.0000 | 0.0000 | 0.0000 | 0.0000 | 0.0000 | 0.0000 | 0.0000 | 0.0000 | ⋯ | 0.0000 | 0.0000 | 0.0000 | 0.0000 | 0.0000 | 0.0000 | 0.0000 | 0.0000 | 0.0000 | 0.0000 |\n",
       "| ENSG00000270112 | 1.0000 | 0.0000 | 0.0000 | 0.0000 | 0.0000 | 1.5850 | 0.0000 | 1.5850 | 0.0000 | 1.0000 | ⋯ | 0.0000 | 1.0000 | 0.0000 | 1.0000 | 1.0000 | 1.5850 | 1.9561 | 0.0000 | 0.0000 | 0.0000 |\n",
       "| ENSG00000167578 | 8.8543 | 9.0328 | 8.9683 | 9.0298 | 9.6756 | 9.1426 | 8.6864 | 9.3345 | 9.3502 | 8.6179 | ⋯ | 8.6554 | 9.1817 | 9.2099 | 9.7245 | 8.9106 | 9.9282 | 8.5038 | 9.4118 | 9.3541 | 9.1145 |\n",
       "| ENSG00000278814 | 0.0000 | 0.0000 | 0.0000 | 0.0000 | 0.0000 | 0.0000 | 0.0000 | 0.0000 | 0.0000 | 0.0000 | ⋯ | 0.0000 | 0.0000 | 0.0000 | 0.0000 | 0.0000 | 0.0000 | 0.0000 | 0.0000 | 0.0000 | 0.0000 |\n",
       "| ENSG00000078237 | 6.8826 | 6.8948 | 8.1799 | 6.7004 | 8.0168 | 8.2479 | 7.0768 | 6.6294 | 6.2288 | 6.9658 | ⋯ | 6.7814 | 7.7415 | 7.4009 | 7.3576 | 6.6724 | 7.5622 | 5.7279 | 7.5236 | 7.6865 | 7.5850 |\n",
       "\n"
      ],
      "text/plain": [
       "                GTEX-QLQ7-0826-SM-447B3 GTEX-132AR-2426-SM-5IFFD\n",
       "ENSG00000242268 1.0000                  1.5850                  \n",
       "ENSG00000259041 0.0000                  0.0000                  \n",
       "ENSG00000270112 1.0000                  0.0000                  \n",
       "ENSG00000167578 8.8543                  9.0328                  \n",
       "ENSG00000278814 0.0000                  0.0000                  \n",
       "ENSG00000078237 6.8826                  6.8948                  \n",
       "                GTEX-11EQ9-1226-SM-5987E GTEX-RWS6-0926-SM-47JXE\n",
       "ENSG00000242268 1.5850                   1.0000                 \n",
       "ENSG00000259041 0.0000                   0.0000                 \n",
       "ENSG00000270112 0.0000                   0.0000                 \n",
       "ENSG00000167578 8.9683                   9.0298                 \n",
       "ENSG00000278814 0.0000                   0.0000                 \n",
       "ENSG00000078237 8.1799                   6.7004                 \n",
       "                GTEX-13X6H-1626-SM-5Q5CT GTEX-ZTX8-0426-SM-59HLG\n",
       "ENSG00000242268 2.0000                   0.0000                 \n",
       "ENSG00000259041 0.0000                   0.0000                 \n",
       "ENSG00000270112 0.0000                   1.5850                 \n",
       "ENSG00000167578 9.6756                   9.1426                 \n",
       "ENSG00000278814 0.0000                   0.0000                 \n",
       "ENSG00000078237 8.0168                   8.2479                 \n",
       "                GTEX-11EM3-1026-SM-5A5KL GTEX-S3XE-1026-SM-4AD4O\n",
       "ENSG00000242268 0.0000                   1.0000                 \n",
       "ENSG00000259041 0.0000                   0.0000                 \n",
       "ENSG00000270112 0.0000                   1.5850                 \n",
       "ENSG00000167578 8.6864                   9.3345                 \n",
       "ENSG00000278814 0.0000                   0.0000                 \n",
       "ENSG00000078237 7.0768                   6.6294                 \n",
       "                GTEX-ZYY3-1726-SM-5EGH3 GTEX-111YS-1126-SM-5GZYQ ⋯\n",
       "ENSG00000242268 0.0000                  0.0000                   ⋯\n",
       "ENSG00000259041 0.0000                  0.0000                   ⋯\n",
       "ENSG00000270112 0.0000                  1.0000                   ⋯\n",
       "ENSG00000167578 9.3502                  8.6179                   ⋯\n",
       "ENSG00000278814 0.0000                  0.0000                   ⋯\n",
       "ENSG00000078237 6.2288                  6.9658                   ⋯\n",
       "                GTEX-1122O-1926-SM-5EGIQ GTEX-13O61-1126-SM-5L3FI\n",
       "ENSG00000242268 1.5850                   2.0000                  \n",
       "ENSG00000259041 0.0000                   0.0000                  \n",
       "ENSG00000270112 0.0000                   1.0000                  \n",
       "ENSG00000167578 8.6554                   9.1817                  \n",
       "ENSG00000278814 0.0000                   0.0000                  \n",
       "ENSG00000078237 6.7814                   7.7415                  \n",
       "                GTEX-ZPIC-2026-SM-57WG3 GTEX-Y9LG-1026-SM-5IFJN\n",
       "ENSG00000242268 0.0000                  1.0000                 \n",
       "ENSG00000259041 0.0000                  0.0000                 \n",
       "ENSG00000270112 0.0000                  1.0000                 \n",
       "ENSG00000167578 9.2099                  9.7245                 \n",
       "ENSG00000278814 0.0000                  0.0000                 \n",
       "ENSG00000078237 7.4009                  7.3576                 \n",
       "                GTEX-13O3Q-2126-SM-5KM4C GTEX-ZLV1-0826-SM-4WWEQ\n",
       "ENSG00000242268 2.8074                   0.0000                 \n",
       "ENSG00000259041 0.0000                   0.0000                 \n",
       "ENSG00000270112 1.0000                   1.5850                 \n",
       "ENSG00000167578 8.9106                   9.9282                 \n",
       "ENSG00000278814 0.0000                   0.0000                 \n",
       "ENSG00000078237 6.6724                   7.5622                 \n",
       "                GTEX-PX3G-1526-SM-48U11 GTEX-13FTX-0726-SM-5N9BI\n",
       "ENSG00000242268 0.0000                  1.5850                  \n",
       "ENSG00000259041 0.0000                  0.0000                  \n",
       "ENSG00000270112 1.9561                  0.0000                  \n",
       "ENSG00000167578 8.5038                  9.4118                  \n",
       "ENSG00000278814 0.0000                  0.0000                  \n",
       "ENSG00000078237 5.7279                  7.5236                  \n",
       "                GTEX-WFG7-1326-SM-4LMK1 GTEX-12C56-0526-SM-5FQST\n",
       "ENSG00000242268 1.0000                  1.5850                  \n",
       "ENSG00000259041 0.0000                  0.0000                  \n",
       "ENSG00000270112 0.0000                  0.0000                  \n",
       "ENSG00000167578 9.3541                  9.1145                  \n",
       "ENSG00000278814 0.0000                  0.0000                  \n",
       "ENSG00000078237 7.6865                  7.5850                  "
      ]
     },
     "metadata": {},
     "output_type": "display_data"
    }
   ],
   "source": [
    "head(mydata)"
   ]
  },
  {
   "cell_type": "markdown",
   "id": "afa3b60f-1d73-40b6-af61-5878e3cec6fd",
   "metadata": {},
   "source": [
    "#### 将数据转换成counts格式"
   ]
  },
  {
   "cell_type": "code",
   "execution_count": 11,
   "id": "46c3266f-1de6-458a-ab5d-42bb7f098ad2",
   "metadata": {},
   "outputs": [],
   "source": [
    "rt=avereps(mydata)\n",
    "rt <-  2^rt-1\n",
    "rt <- round(rt,0)"
   ]
  },
  {
   "cell_type": "code",
   "execution_count": 12,
   "id": "a3ae6339-0c21-466c-ae7b-436ca029f619",
   "metadata": {},
   "outputs": [
    {
     "data": {
      "text/html": [
       "<table class=\"dataframe\">\n",
       "<caption>A matrix: 6 × 174 of type dbl</caption>\n",
       "<thead>\n",
       "\t<tr><th></th><th scope=col>GTEX-QLQ7-0826-SM-447B3</th><th scope=col>GTEX-132AR-2426-SM-5IFFD</th><th scope=col>GTEX-11EQ9-1226-SM-5987E</th><th scope=col>GTEX-RWS6-0926-SM-47JXE</th><th scope=col>GTEX-13X6H-1626-SM-5Q5CT</th><th scope=col>GTEX-ZTX8-0426-SM-59HLG</th><th scope=col>GTEX-11EM3-1026-SM-5A5KL</th><th scope=col>GTEX-S3XE-1026-SM-4AD4O</th><th scope=col>GTEX-ZYY3-1726-SM-5EGH3</th><th scope=col>GTEX-111YS-1126-SM-5GZYQ</th><th scope=col>⋯</th><th scope=col>GTEX-1122O-1926-SM-5EGIQ</th><th scope=col>GTEX-13O61-1126-SM-5L3FI</th><th scope=col>GTEX-ZPIC-2026-SM-57WG3</th><th scope=col>GTEX-Y9LG-1026-SM-5IFJN</th><th scope=col>GTEX-13O3Q-2126-SM-5KM4C</th><th scope=col>GTEX-ZLV1-0826-SM-4WWEQ</th><th scope=col>GTEX-PX3G-1526-SM-48U11</th><th scope=col>GTEX-13FTX-0726-SM-5N9BI</th><th scope=col>GTEX-WFG7-1326-SM-4LMK1</th><th scope=col>GTEX-12C56-0526-SM-5FQST</th></tr>\n",
       "</thead>\n",
       "<tbody>\n",
       "\t<tr><th scope=row>ENSG00000242268</th><td>  1</td><td>  2</td><td>  2</td><td>  1</td><td>  3</td><td>  0</td><td>  0</td><td>  1</td><td>  0</td><td>  0</td><td>⋯</td><td>  2</td><td>  3</td><td>  0</td><td>  1</td><td>  6</td><td>  0</td><td>  0</td><td>  2</td><td>  1</td><td>  2</td></tr>\n",
       "\t<tr><th scope=row>ENSG00000259041</th><td>  0</td><td>  0</td><td>  0</td><td>  0</td><td>  0</td><td>  0</td><td>  0</td><td>  0</td><td>  0</td><td>  0</td><td>⋯</td><td>  0</td><td>  0</td><td>  0</td><td>  0</td><td>  0</td><td>  0</td><td>  0</td><td>  0</td><td>  0</td><td>  0</td></tr>\n",
       "\t<tr><th scope=row>ENSG00000270112</th><td>  1</td><td>  0</td><td>  0</td><td>  0</td><td>  0</td><td>  2</td><td>  0</td><td>  2</td><td>  0</td><td>  1</td><td>⋯</td><td>  0</td><td>  1</td><td>  0</td><td>  1</td><td>  1</td><td>  2</td><td>  3</td><td>  0</td><td>  0</td><td>  0</td></tr>\n",
       "\t<tr><th scope=row>ENSG00000167578</th><td>462</td><td>523</td><td>500</td><td>522</td><td>817</td><td>564</td><td>411</td><td>645</td><td>652</td><td>392</td><td>⋯</td><td>402</td><td>580</td><td>591</td><td>845</td><td>480</td><td>973</td><td>362</td><td>680</td><td>653</td><td>553</td></tr>\n",
       "\t<tr><th scope=row>ENSG00000278814</th><td>  0</td><td>  0</td><td>  0</td><td>  0</td><td>  0</td><td>  0</td><td>  0</td><td>  0</td><td>  0</td><td>  0</td><td>⋯</td><td>  0</td><td>  0</td><td>  0</td><td>  0</td><td>  0</td><td>  0</td><td>  0</td><td>  0</td><td>  0</td><td>  0</td></tr>\n",
       "\t<tr><th scope=row>ENSG00000078237</th><td>117</td><td>118</td><td>289</td><td>103</td><td>258</td><td>303</td><td>134</td><td> 98</td><td> 74</td><td>124</td><td>⋯</td><td>109</td><td>213</td><td>168</td><td>163</td><td>101</td><td>188</td><td> 52</td><td>183</td><td>205</td><td>191</td></tr>\n",
       "</tbody>\n",
       "</table>\n"
      ],
      "text/latex": [
       "A matrix: 6 × 174 of type dbl\n",
       "\\begin{tabular}{r|lllllllllllllllllllll}\n",
       "  & GTEX-QLQ7-0826-SM-447B3 & GTEX-132AR-2426-SM-5IFFD & GTEX-11EQ9-1226-SM-5987E & GTEX-RWS6-0926-SM-47JXE & GTEX-13X6H-1626-SM-5Q5CT & GTEX-ZTX8-0426-SM-59HLG & GTEX-11EM3-1026-SM-5A5KL & GTEX-S3XE-1026-SM-4AD4O & GTEX-ZYY3-1726-SM-5EGH3 & GTEX-111YS-1126-SM-5GZYQ & ⋯ & GTEX-1122O-1926-SM-5EGIQ & GTEX-13O61-1126-SM-5L3FI & GTEX-ZPIC-2026-SM-57WG3 & GTEX-Y9LG-1026-SM-5IFJN & GTEX-13O3Q-2126-SM-5KM4C & GTEX-ZLV1-0826-SM-4WWEQ & GTEX-PX3G-1526-SM-48U11 & GTEX-13FTX-0726-SM-5N9BI & GTEX-WFG7-1326-SM-4LMK1 & GTEX-12C56-0526-SM-5FQST\\\\\n",
       "\\hline\n",
       "\tENSG00000242268 &   1 &   2 &   2 &   1 &   3 &   0 &   0 &   1 &   0 &   0 & ⋯ &   2 &   3 &   0 &   1 &   6 &   0 &   0 &   2 &   1 &   2\\\\\n",
       "\tENSG00000259041 &   0 &   0 &   0 &   0 &   0 &   0 &   0 &   0 &   0 &   0 & ⋯ &   0 &   0 &   0 &   0 &   0 &   0 &   0 &   0 &   0 &   0\\\\\n",
       "\tENSG00000270112 &   1 &   0 &   0 &   0 &   0 &   2 &   0 &   2 &   0 &   1 & ⋯ &   0 &   1 &   0 &   1 &   1 &   2 &   3 &   0 &   0 &   0\\\\\n",
       "\tENSG00000167578 & 462 & 523 & 500 & 522 & 817 & 564 & 411 & 645 & 652 & 392 & ⋯ & 402 & 580 & 591 & 845 & 480 & 973 & 362 & 680 & 653 & 553\\\\\n",
       "\tENSG00000278814 &   0 &   0 &   0 &   0 &   0 &   0 &   0 &   0 &   0 &   0 & ⋯ &   0 &   0 &   0 &   0 &   0 &   0 &   0 &   0 &   0 &   0\\\\\n",
       "\tENSG00000078237 & 117 & 118 & 289 & 103 & 258 & 303 & 134 &  98 &  74 & 124 & ⋯ & 109 & 213 & 168 & 163 & 101 & 188 &  52 & 183 & 205 & 191\\\\\n",
       "\\end{tabular}\n"
      ],
      "text/markdown": [
       "\n",
       "A matrix: 6 × 174 of type dbl\n",
       "\n",
       "| <!--/--> | GTEX-QLQ7-0826-SM-447B3 | GTEX-132AR-2426-SM-5IFFD | GTEX-11EQ9-1226-SM-5987E | GTEX-RWS6-0926-SM-47JXE | GTEX-13X6H-1626-SM-5Q5CT | GTEX-ZTX8-0426-SM-59HLG | GTEX-11EM3-1026-SM-5A5KL | GTEX-S3XE-1026-SM-4AD4O | GTEX-ZYY3-1726-SM-5EGH3 | GTEX-111YS-1126-SM-5GZYQ | ⋯ | GTEX-1122O-1926-SM-5EGIQ | GTEX-13O61-1126-SM-5L3FI | GTEX-ZPIC-2026-SM-57WG3 | GTEX-Y9LG-1026-SM-5IFJN | GTEX-13O3Q-2126-SM-5KM4C | GTEX-ZLV1-0826-SM-4WWEQ | GTEX-PX3G-1526-SM-48U11 | GTEX-13FTX-0726-SM-5N9BI | GTEX-WFG7-1326-SM-4LMK1 | GTEX-12C56-0526-SM-5FQST |\n",
       "|---|---|---|---|---|---|---|---|---|---|---|---|---|---|---|---|---|---|---|---|---|---|\n",
       "| ENSG00000242268 |   1 |   2 |   2 |   1 |   3 |   0 |   0 |   1 |   0 |   0 | ⋯ |   2 |   3 |   0 |   1 |   6 |   0 |   0 |   2 |   1 |   2 |\n",
       "| ENSG00000259041 |   0 |   0 |   0 |   0 |   0 |   0 |   0 |   0 |   0 |   0 | ⋯ |   0 |   0 |   0 |   0 |   0 |   0 |   0 |   0 |   0 |   0 |\n",
       "| ENSG00000270112 |   1 |   0 |   0 |   0 |   0 |   2 |   0 |   2 |   0 |   1 | ⋯ |   0 |   1 |   0 |   1 |   1 |   2 |   3 |   0 |   0 |   0 |\n",
       "| ENSG00000167578 | 462 | 523 | 500 | 522 | 817 | 564 | 411 | 645 | 652 | 392 | ⋯ | 402 | 580 | 591 | 845 | 480 | 973 | 362 | 680 | 653 | 553 |\n",
       "| ENSG00000278814 |   0 |   0 |   0 |   0 |   0 |   0 |   0 |   0 |   0 |   0 | ⋯ |   0 |   0 |   0 |   0 |   0 |   0 |   0 |   0 |   0 |   0 |\n",
       "| ENSG00000078237 | 117 | 118 | 289 | 103 | 258 | 303 | 134 |  98 |  74 | 124 | ⋯ | 109 | 213 | 168 | 163 | 101 | 188 |  52 | 183 | 205 | 191 |\n",
       "\n"
      ],
      "text/plain": [
       "                GTEX-QLQ7-0826-SM-447B3 GTEX-132AR-2426-SM-5IFFD\n",
       "ENSG00000242268   1                       2                     \n",
       "ENSG00000259041   0                       0                     \n",
       "ENSG00000270112   1                       0                     \n",
       "ENSG00000167578 462                     523                     \n",
       "ENSG00000278814   0                       0                     \n",
       "ENSG00000078237 117                     118                     \n",
       "                GTEX-11EQ9-1226-SM-5987E GTEX-RWS6-0926-SM-47JXE\n",
       "ENSG00000242268   2                        1                    \n",
       "ENSG00000259041   0                        0                    \n",
       "ENSG00000270112   0                        0                    \n",
       "ENSG00000167578 500                      522                    \n",
       "ENSG00000278814   0                        0                    \n",
       "ENSG00000078237 289                      103                    \n",
       "                GTEX-13X6H-1626-SM-5Q5CT GTEX-ZTX8-0426-SM-59HLG\n",
       "ENSG00000242268   3                        0                    \n",
       "ENSG00000259041   0                        0                    \n",
       "ENSG00000270112   0                        2                    \n",
       "ENSG00000167578 817                      564                    \n",
       "ENSG00000278814   0                        0                    \n",
       "ENSG00000078237 258                      303                    \n",
       "                GTEX-11EM3-1026-SM-5A5KL GTEX-S3XE-1026-SM-4AD4O\n",
       "ENSG00000242268   0                        1                    \n",
       "ENSG00000259041   0                        0                    \n",
       "ENSG00000270112   0                        2                    \n",
       "ENSG00000167578 411                      645                    \n",
       "ENSG00000278814   0                        0                    \n",
       "ENSG00000078237 134                       98                    \n",
       "                GTEX-ZYY3-1726-SM-5EGH3 GTEX-111YS-1126-SM-5GZYQ ⋯\n",
       "ENSG00000242268   0                       0                      ⋯\n",
       "ENSG00000259041   0                       0                      ⋯\n",
       "ENSG00000270112   0                       1                      ⋯\n",
       "ENSG00000167578 652                     392                      ⋯\n",
       "ENSG00000278814   0                       0                      ⋯\n",
       "ENSG00000078237  74                     124                      ⋯\n",
       "                GTEX-1122O-1926-SM-5EGIQ GTEX-13O61-1126-SM-5L3FI\n",
       "ENSG00000242268   2                        3                     \n",
       "ENSG00000259041   0                        0                     \n",
       "ENSG00000270112   0                        1                     \n",
       "ENSG00000167578 402                      580                     \n",
       "ENSG00000278814   0                        0                     \n",
       "ENSG00000078237 109                      213                     \n",
       "                GTEX-ZPIC-2026-SM-57WG3 GTEX-Y9LG-1026-SM-5IFJN\n",
       "ENSG00000242268   0                       1                    \n",
       "ENSG00000259041   0                       0                    \n",
       "ENSG00000270112   0                       1                    \n",
       "ENSG00000167578 591                     845                    \n",
       "ENSG00000278814   0                       0                    \n",
       "ENSG00000078237 168                     163                    \n",
       "                GTEX-13O3Q-2126-SM-5KM4C GTEX-ZLV1-0826-SM-4WWEQ\n",
       "ENSG00000242268   6                        0                    \n",
       "ENSG00000259041   0                        0                    \n",
       "ENSG00000270112   1                        2                    \n",
       "ENSG00000167578 480                      973                    \n",
       "ENSG00000278814   0                        0                    \n",
       "ENSG00000078237 101                      188                    \n",
       "                GTEX-PX3G-1526-SM-48U11 GTEX-13FTX-0726-SM-5N9BI\n",
       "ENSG00000242268   0                       2                     \n",
       "ENSG00000259041   0                       0                     \n",
       "ENSG00000270112   3                       0                     \n",
       "ENSG00000167578 362                     680                     \n",
       "ENSG00000278814   0                       0                     \n",
       "ENSG00000078237  52                     183                     \n",
       "                GTEX-WFG7-1326-SM-4LMK1 GTEX-12C56-0526-SM-5FQST\n",
       "ENSG00000242268   1                       2                     \n",
       "ENSG00000259041   0                       0                     \n",
       "ENSG00000270112   0                       0                     \n",
       "ENSG00000167578 653                     553                     \n",
       "ENSG00000278814   0                       0                     \n",
       "ENSG00000078237 205                     191                     "
      ]
     },
     "metadata": {},
     "output_type": "display_data"
    }
   ],
   "source": [
    "head(rt)"
   ]
  },
  {
   "cell_type": "code",
   "execution_count": 13,
   "id": "11f4b477-bab7-4d53-b1ee-0533563cab21",
   "metadata": {},
   "outputs": [],
   "source": [
    "geo <- data.table::fread(\"./BIM课题研究结果/04BIM相关靶点基因筛选/数据下载/GEO/GSE191275_genes_fpkm_expression - 副本.txt\",data.table = F)\n",
    "rownames(geo)=geo[,1]\n",
    "geo <- geo[,-1]"
   ]
  },
  {
   "cell_type": "code",
   "execution_count": 14,
   "id": "7bf52dcb-684d-4ebd-b9c3-3793fd153dfb",
   "metadata": {},
   "outputs": [
    {
     "data": {
      "text/html": [
       "<table class=\"dataframe\">\n",
       "<caption>A data.frame: 6 × 20</caption>\n",
       "<thead>\n",
       "\t<tr><th></th><th scope=col>count.GC1</th><th scope=col>count.GC10</th><th scope=col>count.GC2</th><th scope=col>count.GC3</th><th scope=col>count.GC4</th><th scope=col>count.GC5</th><th scope=col>count.GC6</th><th scope=col>count.GC7</th><th scope=col>count.GC8</th><th scope=col>count.GC9</th><th scope=col>count.IM1</th><th scope=col>count.IM10</th><th scope=col>count.IM2</th><th scope=col>count.IM3</th><th scope=col>count.IM4</th><th scope=col>count.IM5</th><th scope=col>count.IM6</th><th scope=col>count.IM7</th><th scope=col>count.IM8</th><th scope=col>count.IM9</th></tr>\n",
       "\t<tr><th></th><th scope=col>&lt;int&gt;</th><th scope=col>&lt;int&gt;</th><th scope=col>&lt;int&gt;</th><th scope=col>&lt;int&gt;</th><th scope=col>&lt;int&gt;</th><th scope=col>&lt;int&gt;</th><th scope=col>&lt;int&gt;</th><th scope=col>&lt;int&gt;</th><th scope=col>&lt;int&gt;</th><th scope=col>&lt;int&gt;</th><th scope=col>&lt;int&gt;</th><th scope=col>&lt;int&gt;</th><th scope=col>&lt;int&gt;</th><th scope=col>&lt;int&gt;</th><th scope=col>&lt;int&gt;</th><th scope=col>&lt;int&gt;</th><th scope=col>&lt;int&gt;</th><th scope=col>&lt;int&gt;</th><th scope=col>&lt;int&gt;</th><th scope=col>&lt;int&gt;</th></tr>\n",
       "</thead>\n",
       "<tbody>\n",
       "\t<tr><th scope=row>ENSG00000000003</th><td> 953</td><td>1613</td><td>1077</td><td>1656</td><td>1262</td><td>1155</td><td>1351</td><td> 731</td><td>1679</td><td> 782</td><td>1244</td><td>1444</td><td>1129</td><td>1149</td><td>1140</td><td>1596</td><td>1130</td><td> 973</td><td> 616</td><td>1216</td></tr>\n",
       "\t<tr><th scope=row>ENSG00000000005</th><td>   0</td><td>   0</td><td>   0</td><td>  19</td><td>  41</td><td>   0</td><td>   0</td><td>  12</td><td>   0</td><td>   0</td><td>   0</td><td>   0</td><td>   0</td><td>   4</td><td>   0</td><td>   0</td><td>   4</td><td>   0</td><td>   0</td><td>   0</td></tr>\n",
       "\t<tr><th scope=row>ENSG00000000419</th><td>1891</td><td>1803</td><td>1667</td><td>1852</td><td>1998</td><td>1335</td><td>1748</td><td>1109</td><td>1607</td><td>1284</td><td>1132</td><td>1888</td><td>1038</td><td>1187</td><td>1388</td><td>1419</td><td>1280</td><td>1191</td><td>1154</td><td>1534</td></tr>\n",
       "\t<tr><th scope=row>ENSG00000000457</th><td>1228</td><td>1222</td><td>1109</td><td>1452</td><td>1032</td><td>1367</td><td>1209</td><td> 819</td><td>1069</td><td>1029</td><td> 945</td><td>1169</td><td>1052</td><td> 792</td><td> 995</td><td>1312</td><td>1120</td><td> 961</td><td> 781</td><td> 916</td></tr>\n",
       "\t<tr><th scope=row>ENSG00000000460</th><td> 429</td><td>1050</td><td> 581</td><td> 802</td><td> 285</td><td> 395</td><td> 410</td><td> 482</td><td> 446</td><td> 296</td><td> 365</td><td> 397</td><td> 194</td><td> 186</td><td> 233</td><td> 459</td><td> 468</td><td> 189</td><td>  82</td><td> 190</td></tr>\n",
       "\t<tr><th scope=row>ENSG00000000938</th><td>2776</td><td>2051</td><td>1238</td><td>1767</td><td>2261</td><td>2110</td><td> 919</td><td>1339</td><td>1278</td><td>2273</td><td> 170</td><td> 159</td><td>  64</td><td> 174</td><td> 301</td><td> 240</td><td> 207</td><td> 141</td><td> 241</td><td> 206</td></tr>\n",
       "</tbody>\n",
       "</table>\n"
      ],
      "text/latex": [
       "A data.frame: 6 × 20\n",
       "\\begin{tabular}{r|llllllllllllllllllll}\n",
       "  & count.GC1 & count.GC10 & count.GC2 & count.GC3 & count.GC4 & count.GC5 & count.GC6 & count.GC7 & count.GC8 & count.GC9 & count.IM1 & count.IM10 & count.IM2 & count.IM3 & count.IM4 & count.IM5 & count.IM6 & count.IM7 & count.IM8 & count.IM9\\\\\n",
       "  & <int> & <int> & <int> & <int> & <int> & <int> & <int> & <int> & <int> & <int> & <int> & <int> & <int> & <int> & <int> & <int> & <int> & <int> & <int> & <int>\\\\\n",
       "\\hline\n",
       "\tENSG00000000003 &  953 & 1613 & 1077 & 1656 & 1262 & 1155 & 1351 &  731 & 1679 &  782 & 1244 & 1444 & 1129 & 1149 & 1140 & 1596 & 1130 &  973 &  616 & 1216\\\\\n",
       "\tENSG00000000005 &    0 &    0 &    0 &   19 &   41 &    0 &    0 &   12 &    0 &    0 &    0 &    0 &    0 &    4 &    0 &    0 &    4 &    0 &    0 &    0\\\\\n",
       "\tENSG00000000419 & 1891 & 1803 & 1667 & 1852 & 1998 & 1335 & 1748 & 1109 & 1607 & 1284 & 1132 & 1888 & 1038 & 1187 & 1388 & 1419 & 1280 & 1191 & 1154 & 1534\\\\\n",
       "\tENSG00000000457 & 1228 & 1222 & 1109 & 1452 & 1032 & 1367 & 1209 &  819 & 1069 & 1029 &  945 & 1169 & 1052 &  792 &  995 & 1312 & 1120 &  961 &  781 &  916\\\\\n",
       "\tENSG00000000460 &  429 & 1050 &  581 &  802 &  285 &  395 &  410 &  482 &  446 &  296 &  365 &  397 &  194 &  186 &  233 &  459 &  468 &  189 &   82 &  190\\\\\n",
       "\tENSG00000000938 & 2776 & 2051 & 1238 & 1767 & 2261 & 2110 &  919 & 1339 & 1278 & 2273 &  170 &  159 &   64 &  174 &  301 &  240 &  207 &  141 &  241 &  206\\\\\n",
       "\\end{tabular}\n"
      ],
      "text/markdown": [
       "\n",
       "A data.frame: 6 × 20\n",
       "\n",
       "| <!--/--> | count.GC1 &lt;int&gt; | count.GC10 &lt;int&gt; | count.GC2 &lt;int&gt; | count.GC3 &lt;int&gt; | count.GC4 &lt;int&gt; | count.GC5 &lt;int&gt; | count.GC6 &lt;int&gt; | count.GC7 &lt;int&gt; | count.GC8 &lt;int&gt; | count.GC9 &lt;int&gt; | count.IM1 &lt;int&gt; | count.IM10 &lt;int&gt; | count.IM2 &lt;int&gt; | count.IM3 &lt;int&gt; | count.IM4 &lt;int&gt; | count.IM5 &lt;int&gt; | count.IM6 &lt;int&gt; | count.IM7 &lt;int&gt; | count.IM8 &lt;int&gt; | count.IM9 &lt;int&gt; |\n",
       "|---|---|---|---|---|---|---|---|---|---|---|---|---|---|---|---|---|---|---|---|---|\n",
       "| ENSG00000000003 |  953 | 1613 | 1077 | 1656 | 1262 | 1155 | 1351 |  731 | 1679 |  782 | 1244 | 1444 | 1129 | 1149 | 1140 | 1596 | 1130 |  973 |  616 | 1216 |\n",
       "| ENSG00000000005 |    0 |    0 |    0 |   19 |   41 |    0 |    0 |   12 |    0 |    0 |    0 |    0 |    0 |    4 |    0 |    0 |    4 |    0 |    0 |    0 |\n",
       "| ENSG00000000419 | 1891 | 1803 | 1667 | 1852 | 1998 | 1335 | 1748 | 1109 | 1607 | 1284 | 1132 | 1888 | 1038 | 1187 | 1388 | 1419 | 1280 | 1191 | 1154 | 1534 |\n",
       "| ENSG00000000457 | 1228 | 1222 | 1109 | 1452 | 1032 | 1367 | 1209 |  819 | 1069 | 1029 |  945 | 1169 | 1052 |  792 |  995 | 1312 | 1120 |  961 |  781 |  916 |\n",
       "| ENSG00000000460 |  429 | 1050 |  581 |  802 |  285 |  395 |  410 |  482 |  446 |  296 |  365 |  397 |  194 |  186 |  233 |  459 |  468 |  189 |   82 |  190 |\n",
       "| ENSG00000000938 | 2776 | 2051 | 1238 | 1767 | 2261 | 2110 |  919 | 1339 | 1278 | 2273 |  170 |  159 |   64 |  174 |  301 |  240 |  207 |  141 |  241 |  206 |\n",
       "\n"
      ],
      "text/plain": [
       "                count.GC1 count.GC10 count.GC2 count.GC3 count.GC4 count.GC5\n",
       "ENSG00000000003  953      1613       1077      1656      1262      1155     \n",
       "ENSG00000000005    0         0          0        19        41         0     \n",
       "ENSG00000000419 1891      1803       1667      1852      1998      1335     \n",
       "ENSG00000000457 1228      1222       1109      1452      1032      1367     \n",
       "ENSG00000000460  429      1050        581       802       285       395     \n",
       "ENSG00000000938 2776      2051       1238      1767      2261      2110     \n",
       "                count.GC6 count.GC7 count.GC8 count.GC9 count.IM1 count.IM10\n",
       "ENSG00000000003 1351       731      1679       782      1244      1444      \n",
       "ENSG00000000005    0        12         0         0         0         0      \n",
       "ENSG00000000419 1748      1109      1607      1284      1132      1888      \n",
       "ENSG00000000457 1209       819      1069      1029       945      1169      \n",
       "ENSG00000000460  410       482       446       296       365       397      \n",
       "ENSG00000000938  919      1339      1278      2273       170       159      \n",
       "                count.IM2 count.IM3 count.IM4 count.IM5 count.IM6 count.IM7\n",
       "ENSG00000000003 1129      1149      1140      1596      1130       973     \n",
       "ENSG00000000005    0         4         0         0         4         0     \n",
       "ENSG00000000419 1038      1187      1388      1419      1280      1191     \n",
       "ENSG00000000457 1052       792       995      1312      1120       961     \n",
       "ENSG00000000460  194       186       233       459       468       189     \n",
       "ENSG00000000938   64       174       301       240       207       141     \n",
       "                count.IM8 count.IM9\n",
       "ENSG00000000003  616      1216     \n",
       "ENSG00000000005    0         0     \n",
       "ENSG00000000419 1154      1534     \n",
       "ENSG00000000457  781       916     \n",
       "ENSG00000000460   82       190     \n",
       "ENSG00000000938  241       206     "
      ]
     },
     "metadata": {},
     "output_type": "display_data"
    }
   ],
   "source": [
    "head(geo)"
   ]
  },
  {
   "cell_type": "markdown",
   "id": "f0f0f326-f10c-45cc-a3c9-1cd21eaaf8c3",
   "metadata": {},
   "source": [
    "#### 整合两个数据"
   ]
  },
  {
   "cell_type": "code",
   "execution_count": 15,
   "id": "944e195b-071c-4797-8925-98f04a8f5f67",
   "metadata": {},
   "outputs": [],
   "source": [
    "same <- intersect(rownames(rt),rownames(geo))\n",
    "result <- cbind(rt[same,],geo[same,])"
   ]
  },
  {
   "cell_type": "code",
   "execution_count": 16,
   "id": "1cc8a108-e6e6-4941-ae43-b7c7a1f65fc1",
   "metadata": {},
   "outputs": [
    {
     "data": {
      "text/html": [
       "<table class=\"dataframe\">\n",
       "<caption>A data.frame: 6 × 194</caption>\n",
       "<thead>\n",
       "\t<tr><th></th><th scope=col>GTEX-QLQ7-0826-SM-447B3</th><th scope=col>GTEX-132AR-2426-SM-5IFFD</th><th scope=col>GTEX-11EQ9-1226-SM-5987E</th><th scope=col>GTEX-RWS6-0926-SM-47JXE</th><th scope=col>GTEX-13X6H-1626-SM-5Q5CT</th><th scope=col>GTEX-ZTX8-0426-SM-59HLG</th><th scope=col>GTEX-11EM3-1026-SM-5A5KL</th><th scope=col>GTEX-S3XE-1026-SM-4AD4O</th><th scope=col>GTEX-ZYY3-1726-SM-5EGH3</th><th scope=col>GTEX-111YS-1126-SM-5GZYQ</th><th scope=col>⋯</th><th scope=col>count.IM1</th><th scope=col>count.IM10</th><th scope=col>count.IM2</th><th scope=col>count.IM3</th><th scope=col>count.IM4</th><th scope=col>count.IM5</th><th scope=col>count.IM6</th><th scope=col>count.IM7</th><th scope=col>count.IM8</th><th scope=col>count.IM9</th></tr>\n",
       "\t<tr><th></th><th scope=col>&lt;dbl&gt;</th><th scope=col>&lt;dbl&gt;</th><th scope=col>&lt;dbl&gt;</th><th scope=col>&lt;dbl&gt;</th><th scope=col>&lt;dbl&gt;</th><th scope=col>&lt;dbl&gt;</th><th scope=col>&lt;dbl&gt;</th><th scope=col>&lt;dbl&gt;</th><th scope=col>&lt;dbl&gt;</th><th scope=col>&lt;dbl&gt;</th><th scope=col>⋯</th><th scope=col>&lt;int&gt;</th><th scope=col>&lt;int&gt;</th><th scope=col>&lt;int&gt;</th><th scope=col>&lt;int&gt;</th><th scope=col>&lt;int&gt;</th><th scope=col>&lt;int&gt;</th><th scope=col>&lt;int&gt;</th><th scope=col>&lt;int&gt;</th><th scope=col>&lt;int&gt;</th><th scope=col>&lt;int&gt;</th></tr>\n",
       "</thead>\n",
       "<tbody>\n",
       "\t<tr><th scope=row>ENSG00000242268</th><td>  1</td><td>  2</td><td>  2</td><td>  1</td><td>  3</td><td>  0</td><td>  0</td><td>  1</td><td>  0</td><td>  0</td><td>⋯</td><td>  0</td><td>  26</td><td>  0</td><td>  0</td><td>  9</td><td>  14</td><td> 20</td><td>  12</td><td>  12</td><td>  12</td></tr>\n",
       "\t<tr><th scope=row>ENSG00000259041</th><td>  0</td><td>  0</td><td>  0</td><td>  0</td><td>  0</td><td>  0</td><td>  0</td><td>  0</td><td>  0</td><td>  0</td><td>⋯</td><td>  0</td><td>   0</td><td>  0</td><td>  0</td><td>  0</td><td>   0</td><td>  0</td><td>   0</td><td>   0</td><td>   0</td></tr>\n",
       "\t<tr><th scope=row>ENSG00000270112</th><td>  1</td><td>  0</td><td>  0</td><td>  0</td><td>  0</td><td>  2</td><td>  0</td><td>  2</td><td>  0</td><td>  1</td><td>⋯</td><td>  1</td><td>   0</td><td> 11</td><td>  4</td><td>  7</td><td>  10</td><td>  8</td><td>   1</td><td>  12</td><td>   0</td></tr>\n",
       "\t<tr><th scope=row>ENSG00000167578</th><td>462</td><td>523</td><td>500</td><td>522</td><td>817</td><td>564</td><td>411</td><td>645</td><td>652</td><td>392</td><td>⋯</td><td>877</td><td>1794</td><td>985</td><td>850</td><td>912</td><td>1075</td><td>978</td><td>1088</td><td>1215</td><td>1980</td></tr>\n",
       "\t<tr><th scope=row>ENSG00000078237</th><td>117</td><td>118</td><td>289</td><td>103</td><td>258</td><td>303</td><td>134</td><td> 98</td><td> 74</td><td>124</td><td>⋯</td><td>372</td><td>1512</td><td>445</td><td>414</td><td>627</td><td> 875</td><td>486</td><td> 891</td><td>1000</td><td>1335</td></tr>\n",
       "\t<tr><th scope=row>ENSG00000269416</th><td>  2</td><td>  0</td><td>  3</td><td>  0</td><td>  0</td><td>  0</td><td>  1</td><td>  3</td><td>  0</td><td>  1</td><td>⋯</td><td>232</td><td> 381</td><td>191</td><td>292</td><td>294</td><td> 409</td><td>402</td><td> 206</td><td>  99</td><td> 143</td></tr>\n",
       "</tbody>\n",
       "</table>\n"
      ],
      "text/latex": [
       "A data.frame: 6 × 194\n",
       "\\begin{tabular}{r|lllllllllllllllllllll}\n",
       "  & GTEX-QLQ7-0826-SM-447B3 & GTEX-132AR-2426-SM-5IFFD & GTEX-11EQ9-1226-SM-5987E & GTEX-RWS6-0926-SM-47JXE & GTEX-13X6H-1626-SM-5Q5CT & GTEX-ZTX8-0426-SM-59HLG & GTEX-11EM3-1026-SM-5A5KL & GTEX-S3XE-1026-SM-4AD4O & GTEX-ZYY3-1726-SM-5EGH3 & GTEX-111YS-1126-SM-5GZYQ & ⋯ & count.IM1 & count.IM10 & count.IM2 & count.IM3 & count.IM4 & count.IM5 & count.IM6 & count.IM7 & count.IM8 & count.IM9\\\\\n",
       "  & <dbl> & <dbl> & <dbl> & <dbl> & <dbl> & <dbl> & <dbl> & <dbl> & <dbl> & <dbl> & ⋯ & <int> & <int> & <int> & <int> & <int> & <int> & <int> & <int> & <int> & <int>\\\\\n",
       "\\hline\n",
       "\tENSG00000242268 &   1 &   2 &   2 &   1 &   3 &   0 &   0 &   1 &   0 &   0 & ⋯ &   0 &   26 &   0 &   0 &   9 &   14 &  20 &   12 &   12 &   12\\\\\n",
       "\tENSG00000259041 &   0 &   0 &   0 &   0 &   0 &   0 &   0 &   0 &   0 &   0 & ⋯ &   0 &    0 &   0 &   0 &   0 &    0 &   0 &    0 &    0 &    0\\\\\n",
       "\tENSG00000270112 &   1 &   0 &   0 &   0 &   0 &   2 &   0 &   2 &   0 &   1 & ⋯ &   1 &    0 &  11 &   4 &   7 &   10 &   8 &    1 &   12 &    0\\\\\n",
       "\tENSG00000167578 & 462 & 523 & 500 & 522 & 817 & 564 & 411 & 645 & 652 & 392 & ⋯ & 877 & 1794 & 985 & 850 & 912 & 1075 & 978 & 1088 & 1215 & 1980\\\\\n",
       "\tENSG00000078237 & 117 & 118 & 289 & 103 & 258 & 303 & 134 &  98 &  74 & 124 & ⋯ & 372 & 1512 & 445 & 414 & 627 &  875 & 486 &  891 & 1000 & 1335\\\\\n",
       "\tENSG00000269416 &   2 &   0 &   3 &   0 &   0 &   0 &   1 &   3 &   0 &   1 & ⋯ & 232 &  381 & 191 & 292 & 294 &  409 & 402 &  206 &   99 &  143\\\\\n",
       "\\end{tabular}\n"
      ],
      "text/markdown": [
       "\n",
       "A data.frame: 6 × 194\n",
       "\n",
       "| <!--/--> | GTEX-QLQ7-0826-SM-447B3 &lt;dbl&gt; | GTEX-132AR-2426-SM-5IFFD &lt;dbl&gt; | GTEX-11EQ9-1226-SM-5987E &lt;dbl&gt; | GTEX-RWS6-0926-SM-47JXE &lt;dbl&gt; | GTEX-13X6H-1626-SM-5Q5CT &lt;dbl&gt; | GTEX-ZTX8-0426-SM-59HLG &lt;dbl&gt; | GTEX-11EM3-1026-SM-5A5KL &lt;dbl&gt; | GTEX-S3XE-1026-SM-4AD4O &lt;dbl&gt; | GTEX-ZYY3-1726-SM-5EGH3 &lt;dbl&gt; | GTEX-111YS-1126-SM-5GZYQ &lt;dbl&gt; | ⋯ ⋯ | count.IM1 &lt;int&gt; | count.IM10 &lt;int&gt; | count.IM2 &lt;int&gt; | count.IM3 &lt;int&gt; | count.IM4 &lt;int&gt; | count.IM5 &lt;int&gt; | count.IM6 &lt;int&gt; | count.IM7 &lt;int&gt; | count.IM8 &lt;int&gt; | count.IM9 &lt;int&gt; |\n",
       "|---|---|---|---|---|---|---|---|---|---|---|---|---|---|---|---|---|---|---|---|---|---|\n",
       "| ENSG00000242268 |   1 |   2 |   2 |   1 |   3 |   0 |   0 |   1 |   0 |   0 | ⋯ |   0 |   26 |   0 |   0 |   9 |   14 |  20 |   12 |   12 |   12 |\n",
       "| ENSG00000259041 |   0 |   0 |   0 |   0 |   0 |   0 |   0 |   0 |   0 |   0 | ⋯ |   0 |    0 |   0 |   0 |   0 |    0 |   0 |    0 |    0 |    0 |\n",
       "| ENSG00000270112 |   1 |   0 |   0 |   0 |   0 |   2 |   0 |   2 |   0 |   1 | ⋯ |   1 |    0 |  11 |   4 |   7 |   10 |   8 |    1 |   12 |    0 |\n",
       "| ENSG00000167578 | 462 | 523 | 500 | 522 | 817 | 564 | 411 | 645 | 652 | 392 | ⋯ | 877 | 1794 | 985 | 850 | 912 | 1075 | 978 | 1088 | 1215 | 1980 |\n",
       "| ENSG00000078237 | 117 | 118 | 289 | 103 | 258 | 303 | 134 |  98 |  74 | 124 | ⋯ | 372 | 1512 | 445 | 414 | 627 |  875 | 486 |  891 | 1000 | 1335 |\n",
       "| ENSG00000269416 |   2 |   0 |   3 |   0 |   0 |   0 |   1 |   3 |   0 |   1 | ⋯ | 232 |  381 | 191 | 292 | 294 |  409 | 402 |  206 |   99 |  143 |\n",
       "\n"
      ],
      "text/plain": [
       "                GTEX-QLQ7-0826-SM-447B3 GTEX-132AR-2426-SM-5IFFD\n",
       "ENSG00000242268   1                       2                     \n",
       "ENSG00000259041   0                       0                     \n",
       "ENSG00000270112   1                       0                     \n",
       "ENSG00000167578 462                     523                     \n",
       "ENSG00000078237 117                     118                     \n",
       "ENSG00000269416   2                       0                     \n",
       "                GTEX-11EQ9-1226-SM-5987E GTEX-RWS6-0926-SM-47JXE\n",
       "ENSG00000242268   2                        1                    \n",
       "ENSG00000259041   0                        0                    \n",
       "ENSG00000270112   0                        0                    \n",
       "ENSG00000167578 500                      522                    \n",
       "ENSG00000078237 289                      103                    \n",
       "ENSG00000269416   3                        0                    \n",
       "                GTEX-13X6H-1626-SM-5Q5CT GTEX-ZTX8-0426-SM-59HLG\n",
       "ENSG00000242268   3                        0                    \n",
       "ENSG00000259041   0                        0                    \n",
       "ENSG00000270112   0                        2                    \n",
       "ENSG00000167578 817                      564                    \n",
       "ENSG00000078237 258                      303                    \n",
       "ENSG00000269416   0                        0                    \n",
       "                GTEX-11EM3-1026-SM-5A5KL GTEX-S3XE-1026-SM-4AD4O\n",
       "ENSG00000242268   0                        1                    \n",
       "ENSG00000259041   0                        0                    \n",
       "ENSG00000270112   0                        2                    \n",
       "ENSG00000167578 411                      645                    \n",
       "ENSG00000078237 134                       98                    \n",
       "ENSG00000269416   1                        3                    \n",
       "                GTEX-ZYY3-1726-SM-5EGH3 GTEX-111YS-1126-SM-5GZYQ ⋯ count.IM1\n",
       "ENSG00000242268   0                       0                      ⋯   0      \n",
       "ENSG00000259041   0                       0                      ⋯   0      \n",
       "ENSG00000270112   0                       1                      ⋯   1      \n",
       "ENSG00000167578 652                     392                      ⋯ 877      \n",
       "ENSG00000078237  74                     124                      ⋯ 372      \n",
       "ENSG00000269416   0                       1                      ⋯ 232      \n",
       "                count.IM10 count.IM2 count.IM3 count.IM4 count.IM5 count.IM6\n",
       "ENSG00000242268   26         0         0         9         14       20      \n",
       "ENSG00000259041    0         0         0         0          0        0      \n",
       "ENSG00000270112    0        11         4         7         10        8      \n",
       "ENSG00000167578 1794       985       850       912       1075      978      \n",
       "ENSG00000078237 1512       445       414       627        875      486      \n",
       "ENSG00000269416  381       191       292       294        409      402      \n",
       "                count.IM7 count.IM8 count.IM9\n",
       "ENSG00000242268   12        12        12     \n",
       "ENSG00000259041    0         0         0     \n",
       "ENSG00000270112    1        12         0     \n",
       "ENSG00000167578 1088      1215      1980     \n",
       "ENSG00000078237  891      1000      1335     \n",
       "ENSG00000269416  206        99       143     "
      ]
     },
     "metadata": {},
     "output_type": "display_data"
    }
   ],
   "source": [
    "head(result)"
   ]
  },
  {
   "cell_type": "markdown",
   "id": "21dd1bd2-ccf3-4783-b177-032b3af71413",
   "metadata": {},
   "source": [
    "#### 下面进行DESeq2分析，CBNplot的使用需要DESeq的处理结果"
   ]
  },
  {
   "cell_type": "code",
   "execution_count": 18,
   "id": "e5fbc2c0-c804-4938-a2e8-0e0962e21b90",
   "metadata": {},
   "outputs": [],
   "source": [
    "data1 <- result[,c(175:184,1:174)]   ####挑选胃癌和正常组织进行差异性分析\n",
    "coldata1 <- data.frame(condition = factor(c(rep('GC',10),rep('NOR',174)),\n",
    "                                          levels = c('GC', 'NOR')))\n",
    "rownames(coldata1) <- colnames(data1)"
   ]
  },
  {
   "cell_type": "code",
   "execution_count": 19,
   "id": "e6699946-2e05-4891-b37b-d35d07f073aa",
   "metadata": {},
   "outputs": [
    {
     "name": "stderr",
     "output_type": "stream",
     "text": [
      "converting counts to integer mode\n",
      "\n",
      "estimating size factors\n",
      "\n",
      "estimating dispersions\n",
      "\n",
      "gene-wise dispersion estimates\n",
      "\n",
      "mean-dispersion relationship\n",
      "\n",
      "final dispersion estimates\n",
      "\n",
      "fitting model and testing\n",
      "\n",
      "-- replacing outliers and refitting for 384 genes\n",
      "-- DESeq argument 'minReplicatesForReplace' = 7 \n",
      "-- original counts are preserved in counts(dds)\n",
      "\n",
      "estimating dispersions\n",
      "\n",
      "fitting model and testing\n",
      "\n"
     ]
    }
   ],
   "source": [
    "dds1 <- DESeqDataSetFromMatrix(countData = data1, colData = coldata1, design= ~condition)\n",
    "filt <- rowSums(counts(dds1) < 10) > dim(coldata1)[1]*0.9  ###筛选数据\n",
    "dds1 <- dds1[!filt,]\n",
    "dds1.1 <- DESeq(dds1)\n",
    "res = results(dds1.1, pAdjustMethod = \"bonferroni\")\n",
    "myres <- data.frame(res)  #可视化res结果\n",
    "v = vst(dds1.1, blind=FALSE)\n",
    "vsted = assay(v)\n",
    "#####最终需要对res结果进行筛选，进一步进行kegg分析和CBNplot绘图"
   ]
  },
  {
   "cell_type": "markdown",
   "id": "b7fcfc02-6aaa-494f-8296-e92f19441489",
   "metadata": {},
   "source": [
    "#### 载入我们需要的基因，在res结果中筛选出这些基因"
   ]
  },
  {
   "cell_type": "code",
   "execution_count": 21,
   "id": "af9a9a15-529b-43bf-9d33-cfe7599015af",
   "metadata": {},
   "outputs": [
    {
     "name": "stderr",
     "output_type": "stream",
     "text": [
      "'select()' returned 1:many mapping between keys and columns\n",
      "\n"
     ]
    }
   ],
   "source": [
    "gene <- data.table::fread(\"./step1-TCSMP/myCytoscape/net.geneList.txt\",\n",
    "                          data.table = F,header = F)\n",
    "gene <- as.vector(gene$V1)\n",
    "ENS <- mapIds(org.Hs.eg.db,keys = gene,keytype =\"SYMBOL\",column = \"ENSEMBL\")  ###将基因id转化成ENSG_id,这一步很重要"
   ]
  },
  {
   "cell_type": "code",
   "execution_count": 22,
   "id": "6dbac32a-bbf7-4732-8437-c42a11db305a",
   "metadata": {},
   "outputs": [
    {
     "name": "stderr",
     "output_type": "stream",
     "text": [
      "'select()' returned 1:1 mapping between keys and columns\n",
      "\n"
     ]
    }
   ],
   "source": [
    "sig1 = subset(res, res@rownames %in% ENS)#####从res中将我们关注的基因挑选出来\n",
    "cand.entrez = clusterProfiler::bitr(rownames(sig1), \n",
    "                                    fromType=\"ENSEMBL\", \n",
    "                                    toType=\"ENTREZID\", \n",
    "                                    OrgDb=org.Hs.eg.db)$ENTREZID ###gene_id的转换"
   ]
  },
  {
   "cell_type": "markdown",
   "id": "dc61b9c9-92e6-43c9-a9d7-113c64aa3c67",
   "metadata": {},
   "source": [
    "#### 对我们关注的gene进行kegg分析"
   ]
  },
  {
   "cell_type": "code",
   "execution_count": 24,
   "id": "9755756a-d3cf-43ba-87bf-f70bd8693066",
   "metadata": {},
   "outputs": [],
   "source": [
    "pway = ReactomePA::enrichPathway(gene = cand.entrez) ###kegg分析\n",
    "pway = setReadable(pway, OrgDb=org.Hs.eg.db)"
   ]
  },
  {
   "cell_type": "markdown",
   "id": "fa5903cc-5743-4cda-916e-bdf5ab5a2786",
   "metadata": {},
   "source": [
    "#### kegg结果可视化"
   ]
  },
  {
   "cell_type": "code",
   "execution_count": 25,
   "id": "35621fb2-e426-4ba9-bbc7-6f8292fd7182",
   "metadata": {},
   "outputs": [],
   "source": [
    "kegg=data.frame(pway)"
   ]
  },
  {
   "cell_type": "markdown",
   "id": "528e4f2d-9743-4bb9-8e34-67fd2a31cdc0",
   "metadata": {},
   "source": [
    "## CBNplot绘图"
   ]
  },
  {
   "cell_type": "code",
   "execution_count": 27,
   "id": "5a2c0e0c-5c97-4d1b-932c-64634f2a642c",
   "metadata": {},
   "outputs": [],
   "source": [
    "library(CBNplot)"
   ]
  },
  {
   "cell_type": "code",
   "execution_count": 29,
   "id": "2043b8cd-b61f-4c4a-97c6-9ffcb234d2ab",
   "metadata": {},
   "outputs": [
    {
     "name": "stderr",
     "output_type": "stream",
     "text": [
      "'select()' returned 1:many mapping between keys and columns\n",
      "\n",
      "'select()' returned 1:1 mapping between keys and columns\n",
      "\n",
      "Warning message in averaged.network.backend(strength = strength, threshold = threshold):\n",
      "\"arc CCR5 -> PDE4C would introduce cycles in the graph, ignoring.\"\n",
      "Warning message in grid.Call(C_textBounds, as.graphicsAnnot(x$label), x$x, x$y, :\n",
      "\"font family not found in Windows font database\"\n",
      "Warning message in grid.Call(C_textBounds, as.graphicsAnnot(x$label), x$x, x$y, :\n",
      "\"font family not found in Windows font database\"\n",
      "Warning message in grid.Call(C_textBounds, as.graphicsAnnot(x$label), x$x, x$y, :\n",
      "\"font family not found in Windows font database\"\n",
      "Warning message in grid.Call(C_textBounds, as.graphicsAnnot(x$label), x$x, x$y, :\n",
      "\"font family not found in Windows font database\"\n",
      "Warning message in grid.Call(C_textBounds, as.graphicsAnnot(x$label), x$x, x$y, :\n",
      "\"font family not found in Windows font database\"\n",
      "Warning message in grid.Call(C_textBounds, as.graphicsAnnot(x$label), x$x, x$y, :\n",
      "\"font family not found in Windows font database\"\n",
      "Warning message in grid.Call(C_textBounds, as.graphicsAnnot(x$label), x$x, x$y, :\n",
      "\"font family not found in Windows font database\"\n",
      "Warning message in grid.Call(C_textBounds, as.graphicsAnnot(x$label), x$x, x$y, :\n",
      "\"font family not found in Windows font database\"\n",
      "Warning message in grid.Call(C_textBounds, as.graphicsAnnot(x$label), x$x, x$y, :\n",
      "\"font family not found in Windows font database\"\n",
      "Warning message in grid.Call(C_textBounds, as.graphicsAnnot(x$label), x$x, x$y, :\n",
      "\"font family not found in Windows font database\"\n",
      "Warning message in grid.Call(C_textBounds, as.graphicsAnnot(x$label), x$x, x$y, :\n",
      "\"font family not found in Windows font database\"\n",
      "Warning message in grid.Call(C_textBounds, as.graphicsAnnot(x$label), x$x, x$y, :\n",
      "\"font family not found in Windows font database\"\n"
     ]
    },
    {
     "data": {
      "image/png": "[encoded data removed]",
      "text/plain": [
       "plot without title"
      ]
     },
     "metadata": {
      "image/png": {
       "height": 420,
       "width": 420
      }
     },
     "output_type": "display_data"
    }
   ],
   "source": [
    "bngeneplot(results = pway, \n",
    "           exp = vsted, \n",
    "           pathNum = 2,###选择哪个通路\n",
    "           \n",
    "           R=20,#自举次数\n",
    "           convertSymbol = T,\n",
    "           strThresh = 0.6,\n",
    "           showDir = T, expRow = \"ENSEMBL\")  ####目前看来expRow只能选择\"ENSEMBL\"，选择“SYMBOL”会报错"
   ]
  }
 ],
 "metadata": {
  "kernelspec": {
   "display_name": "R",
   "language": "R",
   "name": "ir"
  },
  "language_info": {
   "codemirror_mode": "r",
   "file_extension": ".r",
   "mimetype": "text/x-r-source",
   "name": "R",
   "pygments_lexer": "r",
   "version": "4.3.0"
  }
 },
 "nbformat": 4,
 "nbformat_minor": 5
}
