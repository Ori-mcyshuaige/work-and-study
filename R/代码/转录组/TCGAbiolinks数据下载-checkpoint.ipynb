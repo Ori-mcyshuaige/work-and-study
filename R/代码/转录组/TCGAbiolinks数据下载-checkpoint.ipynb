{
 "cells": [
  {
   "cell_type": "code",
   "execution_count": 2,
   "id": "748a5555-e5cf-4ed9-898c-a904e3aba3ec",
   "metadata": {},
   "outputs": [],
   "source": [
    "rm(list = ls())\n",
    "options(stringsAsFactors = F)\n",
    "library(TCGAbiolinks)\n",
    "library(scRNAseq)\n",
    "library(data.table)\n",
    "library(limma)\n",
    "library(dplyr)\n",
    "library(DT)\n",
    "library(survival)\n",
    "library(survminer)"
   ]
  },
  {
   "cell_type": "markdown",
   "id": "a6fbb8e4-bd6c-4f22-aca6-8bf28c29d0f1",
   "metadata": {},
   "source": [
    "## 载入所需要的数据及类型"
   ]
  },
  {
   "cell_type": "code",
   "execution_count": 3,
   "id": "61e18cee-2439-417b-970f-c03bab6a7c86",
   "metadata": {
    "scrolled": true
   },
   "outputs": [
    {
     "name": "stderr",
     "output_type": "stream",
     "text": [
      "--------------------------------------\n",
      "\n",
      "o GDCquery: Searching in GDC database\n",
      "\n",
      "--------------------------------------\n",
      "\n",
      "Genome of reference: hg38\n",
      "\n",
      "--------------------------------------------\n",
      "\n",
      "oo Accessing GDC. This might take a while...\n",
      "\n",
      "--------------------------------------------\n",
      "\n",
      "ooo Project: TCGA-STAD\n",
      "\n",
      "--------------------\n",
      "\n",
      "oo Filtering results\n",
      "\n",
      "--------------------\n",
      "\n",
      "ooo By data.type\n",
      "\n",
      "ooo By workflow.type\n",
      "\n",
      "----------------\n",
      "\n",
      "oo Checking data\n",
      "\n",
      "----------------\n",
      "\n",
      "ooo Checking if there are duplicated cases\n",
      "\n",
      "ooo Checking if there are results for the query\n",
      "\n",
      "-------------------\n",
      "\n",
      "o Preparing output\n",
      "\n",
      "-------------------\n",
      "\n"
     ]
    }
   ],
   "source": [
    "query <- GDCquery(\n",
    "  project = \"TCGA-STAD\", ###输入所需要的癌症种类，可以使用getGDCprojects()$project_id得到各个癌种的项目id\n",
    "  data.category = \"Transcriptome Profiling\", ###选择数据类型，可以使用TCGAbiolinks:::getProjectSummary(project)查看project中有哪些数据类型\n",
    "  data.type = \"Gene Expression Quantification\", ##选择数据类型，这里选择的是基因表达定量\n",
    "  workflow.type = \"STAR - Counts\") ##可供选择的数据类型：HTSeq - FPKM-UQ：FPKM上四分位数标准化值;HTSeq - FPKM：FPKM值/表达量值\n",
    "                                        ##HTSeq - Counts：原始count数."
   ]
  },
  {
   "cell_type": "code",
   "execution_count": 4,
   "id": "eaea2658-7cf9-4c50-b8b3-b16939aee96c",
   "metadata": {
    "scrolled": true
   },
   "outputs": [
    {
     "name": "stderr",
     "output_type": "stream",
     "text": [
      "Downloading data for project TCGA-STAD\n",
      "\n",
      "GDCdownload will download 448 files. A total of 1.904420758 GB\n",
      "\n",
      "The total size of files is big. We will download files in chunks\n",
      "\n",
      "Downloading chunk 1 of 2 (235 files, size = 998.937245 MB) as Thu_Aug__3_13_41_36_2023_0.tar.gz\n",
      "\n"
     ]
    },
    {
     "name": "stdout",
     "output_type": "stream",
     "text": [
      "Downloading: 260 MB     "
     ]
    },
    {
     "name": "stderr",
     "output_type": "stream",
     "text": [
      "Downloading chunk 2 of 2 (213 files, size = 905.483513 MB) as Thu_Aug__3_13_41_36_2023_1.tar.gz\n",
      "\n"
     ]
    },
    {
     "name": "stdout",
     "output_type": "stream",
     "text": [
      "Downloading: 240 MB       "
     ]
    }
   ],
   "source": [
    "GDCdownload(query = query  #这里下载到了一个名为GDCdata的文件夹"
   ]
  },
  {
   "cell_type": "code",
   "execution_count": 5,
   "id": "4626f9dc-1018-4a45-9978-718311b6d102",
   "metadata": {
    "scrolled": true
   },
   "outputs": [
    {
     "name": "stdout",
     "output_type": "stream",
     "text": [
      "|====================================================|100%                      Completed after 14 s \n"
     ]
    },
    {
     "name": "stderr",
     "output_type": "stream",
     "text": [
      "Starting to add information to samples\n",
      "\n",
      " => Add clinical information to samples\n",
      "\n",
      " => Adding TCGA molecular information from marker papers\n",
      "\n",
      " => Information will have prefix 'paper_' \n",
      "\n",
      "stad subtype information from:doi:10.1038/nature13480\n",
      "\n",
      "Available assays in SummarizedExperiment : \n",
      "  => unstranded\n",
      "  => stranded_first\n",
      "  => stranded_second\n",
      "  => tpm_unstrand\n",
      "  => fpkm_unstrand\n",
      "  => fpkm_uq_unstrand\n",
      "\n",
      "=> Saving file: STAD_exp.rda\n",
      "\n",
      "=> File saved\n",
      "\n"
     ]
    }
   ],
   "source": [
    "expData <- GDCprepare(query = query,\n",
    "                      save = T,\n",
    "                      save.filename = \"STAD_exp.rda\")"
   ]
  },
  {
   "cell_type": "code",
   "execution_count": 21,
   "id": "6c5e9a9d-64ad-4694-b00d-bb3f9909c8ca",
   "metadata": {},
   "outputs": [],
   "source": [
    "tpm_data <- assay(expData,i = \"tpm_unstrand\") ###不懂为啥，但是tpm数据就是这么下的"
   ]
  },
  {
   "cell_type": "code",
   "execution_count": 22,
   "id": "ecaba8c0-db62-4df6-902d-0dec5dacf378",
   "metadata": {},
   "outputs": [
    {
     "data": {
      "text/html": [
       "<table class=\"dataframe\">\n",
       "<caption>A matrix: 6 × 448 of type dbl</caption>\n",
       "<thead>\n",
       "\t<tr><th></th><th scope=col>TCGA-BR-8362-01A-11R-2343-13</th><th scope=col>TCGA-3M-AB46-01A-11R-A414-31</th><th scope=col>TCGA-BR-4357-01A-01R-1157-13</th><th scope=col>TCGA-D7-A748-01A-12R-A32D-31</th><th scope=col>TCGA-CD-A487-01A-21R-A24K-31</th><th scope=col>TCGA-VQ-A8E2-01A-11R-A36D-31</th><th scope=col>TCGA-HU-A4GU-01A-11R-A251-31</th><th scope=col>TCGA-IN-8462-01A-11R-2343-13</th><th scope=col>TCGA-VQ-A8PM-01A-21R-A414-31</th><th scope=col>TCGA-CD-A4MI-01A-21R-A251-31</th><th scope=col>⋯</th><th scope=col>TCGA-BR-8483-01A-31R-2402-13</th><th scope=col>TCGA-MX-A663-01A-11R-A31P-31</th><th scope=col>TCGA-CG-5732-01A-11R-1602-13</th><th scope=col>TCGA-D7-8573-01A-11R-2343-13</th><th scope=col>TCGA-BR-8369-01A-11R-2343-13</th><th scope=col>TCGA-CD-A48C-01A-11R-A24K-31</th><th scope=col>TCGA-HU-A4GN-11A-12R-A251-31</th><th scope=col>TCGA-HU-A4GP-01A-11R-A251-31</th><th scope=col>TCGA-HU-A4GP-11A-21R-A251-31</th><th scope=col>TCGA-IN-A7NR-01A-11R-A354-31</th></tr>\n",
       "</thead>\n",
       "<tbody>\n",
       "\t<tr><th scope=row>ENSG00000000003.15</th><td>59.2364</td><td> 19.5851</td><td> 14.2098</td><td>25.9082</td><td> 29.2885</td><td>110.7458</td><td> 52.3122</td><td>24.7321</td><td>15.7989</td><td>12.7600</td><td>⋯</td><td> 36.7444</td><td> 34.6704</td><td> 12.0592</td><td> 52.3324</td><td>12.8526</td><td> 11.0419</td><td> 5.5090</td><td> 7.9106</td><td> 6.2648</td><td>31.4263</td></tr>\n",
       "\t<tr><th scope=row>ENSG00000000005.6</th><td> 0.0731</td><td>  0.1442</td><td>  0.0000</td><td> 4.2802</td><td>  0.0000</td><td>  0.1422</td><td>  0.0000</td><td> 0.0000</td><td> 0.0938</td><td> 0.0000</td><td>⋯</td><td>  0.0778</td><td>  3.5912</td><td>  0.0300</td><td>  0.0897</td><td> 1.6085</td><td>  0.5861</td><td> 0.0242</td><td> 0.0218</td><td> 0.4541</td><td> 0.0000</td></tr>\n",
       "\t<tr><th scope=row>ENSG00000000419.13</th><td>65.7239</td><td>103.8039</td><td>179.7869</td><td>51.9467</td><td>203.1705</td><td>223.5544</td><td>156.7371</td><td>56.7515</td><td>81.0291</td><td>81.0043</td><td>⋯</td><td>160.2547</td><td>105.5490</td><td>175.1918</td><td>150.2887</td><td>81.9953</td><td>169.2101</td><td>75.6365</td><td>75.9374</td><td>60.6077</td><td>57.4219</td></tr>\n",
       "\t<tr><th scope=row>ENSG00000000457.14</th><td> 7.3979</td><td>  4.9516</td><td>  7.2135</td><td> 3.7602</td><td>  4.1040</td><td>  9.3793</td><td>  7.4444</td><td> 3.6755</td><td> 5.8748</td><td> 3.8527</td><td>⋯</td><td>  7.9327</td><td>  4.7947</td><td>  4.6487</td><td>  6.2041</td><td> 9.9520</td><td>  5.1738</td><td> 3.7341</td><td> 3.7284</td><td> 4.2844</td><td> 3.9691</td></tr>\n",
       "\t<tr><th scope=row>ENSG00000000460.17</th><td> 3.6744</td><td>  3.8857</td><td>  6.8641</td><td> 1.1948</td><td>  3.5078</td><td> 14.6292</td><td>  6.7366</td><td> 1.0898</td><td> 2.1630</td><td> 0.9785</td><td>⋯</td><td>  4.3854</td><td>  3.4665</td><td>  1.7791</td><td>  4.6405</td><td> 4.4482</td><td>  4.7623</td><td> 0.6628</td><td> 4.0016</td><td> 1.1002</td><td> 2.1011</td></tr>\n",
       "\t<tr><th scope=row>ENSG00000000938.13</th><td> 6.7306</td><td>  1.2945</td><td> 18.0266</td><td>17.8965</td><td>  7.9721</td><td>  6.6422</td><td>  3.2699</td><td> 3.2980</td><td> 4.0230</td><td>16.1442</td><td>⋯</td><td>  1.4939</td><td>  6.5690</td><td>  6.0195</td><td>  4.1871</td><td> 6.6821</td><td>  4.1436</td><td> 4.0475</td><td> 2.4594</td><td> 4.1417</td><td> 3.3317</td></tr>\n",
       "</tbody>\n",
       "</table>\n"
      ],
      "text/latex": [
       "A matrix: 6 × 448 of type dbl\n",
       "\\begin{tabular}{r|lllllllllllllllllllll}\n",
       "  & TCGA-BR-8362-01A-11R-2343-13 & TCGA-3M-AB46-01A-11R-A414-31 & TCGA-BR-4357-01A-01R-1157-13 & TCGA-D7-A748-01A-12R-A32D-31 & TCGA-CD-A487-01A-21R-A24K-31 & TCGA-VQ-A8E2-01A-11R-A36D-31 & TCGA-HU-A4GU-01A-11R-A251-31 & TCGA-IN-8462-01A-11R-2343-13 & TCGA-VQ-A8PM-01A-21R-A414-31 & TCGA-CD-A4MI-01A-21R-A251-31 & ⋯ & TCGA-BR-8483-01A-31R-2402-13 & TCGA-MX-A663-01A-11R-A31P-31 & TCGA-CG-5732-01A-11R-1602-13 & TCGA-D7-8573-01A-11R-2343-13 & TCGA-BR-8369-01A-11R-2343-13 & TCGA-CD-A48C-01A-11R-A24K-31 & TCGA-HU-A4GN-11A-12R-A251-31 & TCGA-HU-A4GP-01A-11R-A251-31 & TCGA-HU-A4GP-11A-21R-A251-31 & TCGA-IN-A7NR-01A-11R-A354-31\\\\\n",
       "\\hline\n",
       "\tENSG00000000003.15 & 59.2364 &  19.5851 &  14.2098 & 25.9082 &  29.2885 & 110.7458 &  52.3122 & 24.7321 & 15.7989 & 12.7600 & ⋯ &  36.7444 &  34.6704 &  12.0592 &  52.3324 & 12.8526 &  11.0419 &  5.5090 &  7.9106 &  6.2648 & 31.4263\\\\\n",
       "\tENSG00000000005.6 &  0.0731 &   0.1442 &   0.0000 &  4.2802 &   0.0000 &   0.1422 &   0.0000 &  0.0000 &  0.0938 &  0.0000 & ⋯ &   0.0778 &   3.5912 &   0.0300 &   0.0897 &  1.6085 &   0.5861 &  0.0242 &  0.0218 &  0.4541 &  0.0000\\\\\n",
       "\tENSG00000000419.13 & 65.7239 & 103.8039 & 179.7869 & 51.9467 & 203.1705 & 223.5544 & 156.7371 & 56.7515 & 81.0291 & 81.0043 & ⋯ & 160.2547 & 105.5490 & 175.1918 & 150.2887 & 81.9953 & 169.2101 & 75.6365 & 75.9374 & 60.6077 & 57.4219\\\\\n",
       "\tENSG00000000457.14 &  7.3979 &   4.9516 &   7.2135 &  3.7602 &   4.1040 &   9.3793 &   7.4444 &  3.6755 &  5.8748 &  3.8527 & ⋯ &   7.9327 &   4.7947 &   4.6487 &   6.2041 &  9.9520 &   5.1738 &  3.7341 &  3.7284 &  4.2844 &  3.9691\\\\\n",
       "\tENSG00000000460.17 &  3.6744 &   3.8857 &   6.8641 &  1.1948 &   3.5078 &  14.6292 &   6.7366 &  1.0898 &  2.1630 &  0.9785 & ⋯ &   4.3854 &   3.4665 &   1.7791 &   4.6405 &  4.4482 &   4.7623 &  0.6628 &  4.0016 &  1.1002 &  2.1011\\\\\n",
       "\tENSG00000000938.13 &  6.7306 &   1.2945 &  18.0266 & 17.8965 &   7.9721 &   6.6422 &   3.2699 &  3.2980 &  4.0230 & 16.1442 & ⋯ &   1.4939 &   6.5690 &   6.0195 &   4.1871 &  6.6821 &   4.1436 &  4.0475 &  2.4594 &  4.1417 &  3.3317\\\\\n",
       "\\end{tabular}\n"
      ],
      "text/markdown": [
       "\n",
       "A matrix: 6 × 448 of type dbl\n",
       "\n",
       "| <!--/--> | TCGA-BR-8362-01A-11R-2343-13 | TCGA-3M-AB46-01A-11R-A414-31 | TCGA-BR-4357-01A-01R-1157-13 | TCGA-D7-A748-01A-12R-A32D-31 | TCGA-CD-A487-01A-21R-A24K-31 | TCGA-VQ-A8E2-01A-11R-A36D-31 | TCGA-HU-A4GU-01A-11R-A251-31 | TCGA-IN-8462-01A-11R-2343-13 | TCGA-VQ-A8PM-01A-21R-A414-31 | TCGA-CD-A4MI-01A-21R-A251-31 | ⋯ | TCGA-BR-8483-01A-31R-2402-13 | TCGA-MX-A663-01A-11R-A31P-31 | TCGA-CG-5732-01A-11R-1602-13 | TCGA-D7-8573-01A-11R-2343-13 | TCGA-BR-8369-01A-11R-2343-13 | TCGA-CD-A48C-01A-11R-A24K-31 | TCGA-HU-A4GN-11A-12R-A251-31 | TCGA-HU-A4GP-01A-11R-A251-31 | TCGA-HU-A4GP-11A-21R-A251-31 | TCGA-IN-A7NR-01A-11R-A354-31 |\n",
       "|---|---|---|---|---|---|---|---|---|---|---|---|---|---|---|---|---|---|---|---|---|---|\n",
       "| ENSG00000000003.15 | 59.2364 |  19.5851 |  14.2098 | 25.9082 |  29.2885 | 110.7458 |  52.3122 | 24.7321 | 15.7989 | 12.7600 | ⋯ |  36.7444 |  34.6704 |  12.0592 |  52.3324 | 12.8526 |  11.0419 |  5.5090 |  7.9106 |  6.2648 | 31.4263 |\n",
       "| ENSG00000000005.6 |  0.0731 |   0.1442 |   0.0000 |  4.2802 |   0.0000 |   0.1422 |   0.0000 |  0.0000 |  0.0938 |  0.0000 | ⋯ |   0.0778 |   3.5912 |   0.0300 |   0.0897 |  1.6085 |   0.5861 |  0.0242 |  0.0218 |  0.4541 |  0.0000 |\n",
       "| ENSG00000000419.13 | 65.7239 | 103.8039 | 179.7869 | 51.9467 | 203.1705 | 223.5544 | 156.7371 | 56.7515 | 81.0291 | 81.0043 | ⋯ | 160.2547 | 105.5490 | 175.1918 | 150.2887 | 81.9953 | 169.2101 | 75.6365 | 75.9374 | 60.6077 | 57.4219 |\n",
       "| ENSG00000000457.14 |  7.3979 |   4.9516 |   7.2135 |  3.7602 |   4.1040 |   9.3793 |   7.4444 |  3.6755 |  5.8748 |  3.8527 | ⋯ |   7.9327 |   4.7947 |   4.6487 |   6.2041 |  9.9520 |   5.1738 |  3.7341 |  3.7284 |  4.2844 |  3.9691 |\n",
       "| ENSG00000000460.17 |  3.6744 |   3.8857 |   6.8641 |  1.1948 |   3.5078 |  14.6292 |   6.7366 |  1.0898 |  2.1630 |  0.9785 | ⋯ |   4.3854 |   3.4665 |   1.7791 |   4.6405 |  4.4482 |   4.7623 |  0.6628 |  4.0016 |  1.1002 |  2.1011 |\n",
       "| ENSG00000000938.13 |  6.7306 |   1.2945 |  18.0266 | 17.8965 |   7.9721 |   6.6422 |   3.2699 |  3.2980 |  4.0230 | 16.1442 | ⋯ |   1.4939 |   6.5690 |   6.0195 |   4.1871 |  6.6821 |   4.1436 |  4.0475 |  2.4594 |  4.1417 |  3.3317 |\n",
       "\n"
      ],
      "text/plain": [
       "                   TCGA-BR-8362-01A-11R-2343-13 TCGA-3M-AB46-01A-11R-A414-31\n",
       "ENSG00000000003.15 59.2364                       19.5851                    \n",
       "ENSG00000000005.6   0.0731                        0.1442                    \n",
       "ENSG00000000419.13 65.7239                      103.8039                    \n",
       "ENSG00000000457.14  7.3979                        4.9516                    \n",
       "ENSG00000000460.17  3.6744                        3.8857                    \n",
       "ENSG00000000938.13  6.7306                        1.2945                    \n",
       "                   TCGA-BR-4357-01A-01R-1157-13 TCGA-D7-A748-01A-12R-A32D-31\n",
       "ENSG00000000003.15  14.2098                     25.9082                     \n",
       "ENSG00000000005.6    0.0000                      4.2802                     \n",
       "ENSG00000000419.13 179.7869                     51.9467                     \n",
       "ENSG00000000457.14   7.2135                      3.7602                     \n",
       "ENSG00000000460.17   6.8641                      1.1948                     \n",
       "ENSG00000000938.13  18.0266                     17.8965                     \n",
       "                   TCGA-CD-A487-01A-21R-A24K-31 TCGA-VQ-A8E2-01A-11R-A36D-31\n",
       "ENSG00000000003.15  29.2885                     110.7458                    \n",
       "ENSG00000000005.6    0.0000                       0.1422                    \n",
       "ENSG00000000419.13 203.1705                     223.5544                    \n",
       "ENSG00000000457.14   4.1040                       9.3793                    \n",
       "ENSG00000000460.17   3.5078                      14.6292                    \n",
       "ENSG00000000938.13   7.9721                       6.6422                    \n",
       "                   TCGA-HU-A4GU-01A-11R-A251-31 TCGA-IN-8462-01A-11R-2343-13\n",
       "ENSG00000000003.15  52.3122                     24.7321                     \n",
       "ENSG00000000005.6    0.0000                      0.0000                     \n",
       "ENSG00000000419.13 156.7371                     56.7515                     \n",
       "ENSG00000000457.14   7.4444                      3.6755                     \n",
       "ENSG00000000460.17   6.7366                      1.0898                     \n",
       "ENSG00000000938.13   3.2699                      3.2980                     \n",
       "                   TCGA-VQ-A8PM-01A-21R-A414-31 TCGA-CD-A4MI-01A-21R-A251-31 ⋯\n",
       "ENSG00000000003.15 15.7989                      12.7600                      ⋯\n",
       "ENSG00000000005.6   0.0938                       0.0000                      ⋯\n",
       "ENSG00000000419.13 81.0291                      81.0043                      ⋯\n",
       "ENSG00000000457.14  5.8748                       3.8527                      ⋯\n",
       "ENSG00000000460.17  2.1630                       0.9785                      ⋯\n",
       "ENSG00000000938.13  4.0230                      16.1442                      ⋯\n",
       "                   TCGA-BR-8483-01A-31R-2402-13 TCGA-MX-A663-01A-11R-A31P-31\n",
       "ENSG00000000003.15  36.7444                      34.6704                    \n",
       "ENSG00000000005.6    0.0778                       3.5912                    \n",
       "ENSG00000000419.13 160.2547                     105.5490                    \n",
       "ENSG00000000457.14   7.9327                       4.7947                    \n",
       "ENSG00000000460.17   4.3854                       3.4665                    \n",
       "ENSG00000000938.13   1.4939                       6.5690                    \n",
       "                   TCGA-CG-5732-01A-11R-1602-13 TCGA-D7-8573-01A-11R-2343-13\n",
       "ENSG00000000003.15  12.0592                      52.3324                    \n",
       "ENSG00000000005.6    0.0300                       0.0897                    \n",
       "ENSG00000000419.13 175.1918                     150.2887                    \n",
       "ENSG00000000457.14   4.6487                       6.2041                    \n",
       "ENSG00000000460.17   1.7791                       4.6405                    \n",
       "ENSG00000000938.13   6.0195                       4.1871                    \n",
       "                   TCGA-BR-8369-01A-11R-2343-13 TCGA-CD-A48C-01A-11R-A24K-31\n",
       "ENSG00000000003.15 12.8526                       11.0419                    \n",
       "ENSG00000000005.6   1.6085                        0.5861                    \n",
       "ENSG00000000419.13 81.9953                      169.2101                    \n",
       "ENSG00000000457.14  9.9520                        5.1738                    \n",
       "ENSG00000000460.17  4.4482                        4.7623                    \n",
       "ENSG00000000938.13  6.6821                        4.1436                    \n",
       "                   TCGA-HU-A4GN-11A-12R-A251-31 TCGA-HU-A4GP-01A-11R-A251-31\n",
       "ENSG00000000003.15  5.5090                       7.9106                     \n",
       "ENSG00000000005.6   0.0242                       0.0218                     \n",
       "ENSG00000000419.13 75.6365                      75.9374                     \n",
       "ENSG00000000457.14  3.7341                       3.7284                     \n",
       "ENSG00000000460.17  0.6628                       4.0016                     \n",
       "ENSG00000000938.13  4.0475                       2.4594                     \n",
       "                   TCGA-HU-A4GP-11A-21R-A251-31 TCGA-IN-A7NR-01A-11R-A354-31\n",
       "ENSG00000000003.15  6.2648                      31.4263                     \n",
       "ENSG00000000005.6   0.4541                       0.0000                     \n",
       "ENSG00000000419.13 60.6077                      57.4219                     \n",
       "ENSG00000000457.14  4.2844                       3.9691                     \n",
       "ENSG00000000460.17  1.1002                       2.1011                     \n",
       "ENSG00000000938.13  4.1417                       3.3317                     "
      ]
     },
     "metadata": {},
     "output_type": "display_data"
    }
   ],
   "source": [
    "head(tpm_data)"
   ]
  },
  {
   "cell_type": "code",
   "execution_count": 23,
   "id": "e92a7ed2-ba6f-4255-98c5-11ebbc9702b6",
   "metadata": {},
   "outputs": [],
   "source": [
    "row_file <- data.table::fread(\"./GDCdata/TCGA-STAD/Transcriptome_Profiling/Gene_Expression_Quantification/01095104-f0a7-402f-b10f-c7bbee6171f5/9d96d6d4-36d4-482c-adc0-81c2fa1f2b90.rna_seq.augmented_star_gene_counts.tsv\",\n",
    "                              data.table = F)\n",
    "row_file <- row_file[-c(1:4),]\n",
    "rownames(row_file) <- row_file[,1]"
   ]
  },
  {
   "cell_type": "code",
   "execution_count": 24,
   "id": "f9037a34-144f-4ba3-ae7f-dc9007f1d35d",
   "metadata": {},
   "outputs": [
    {
     "data": {
      "text/html": [
       "<table class=\"dataframe\">\n",
       "<caption>A data.frame: 6 × 9</caption>\n",
       "<thead>\n",
       "\t<tr><th></th><th scope=col>gene_id</th><th scope=col>gene_name</th><th scope=col>gene_type</th><th scope=col>unstranded</th><th scope=col>stranded_first</th><th scope=col>stranded_second</th><th scope=col>tpm_unstranded</th><th scope=col>fpkm_unstranded</th><th scope=col>fpkm_uq_unstranded</th></tr>\n",
       "\t<tr><th></th><th scope=col>&lt;chr&gt;</th><th scope=col>&lt;chr&gt;</th><th scope=col>&lt;chr&gt;</th><th scope=col>&lt;int&gt;</th><th scope=col>&lt;int&gt;</th><th scope=col>&lt;int&gt;</th><th scope=col>&lt;dbl&gt;</th><th scope=col>&lt;dbl&gt;</th><th scope=col>&lt;dbl&gt;</th></tr>\n",
       "</thead>\n",
       "<tbody>\n",
       "\t<tr><th scope=row>ENSG00000000003.15</th><td>ENSG00000000003.15</td><td>TSPAN6  </td><td>protein_coding</td><td> 326</td><td>164</td><td>162</td><td>  8.2770</td><td> 3.8338</td><td>  5.1951</td></tr>\n",
       "\t<tr><th scope=row>ENSG00000000005.6</th><td>ENSG00000000005.6 </td><td>TNMD    </td><td>protein_coding</td><td>   5</td><td>  1</td><td>  4</td><td>  0.3901</td><td> 0.1807</td><td>  0.2449</td></tr>\n",
       "\t<tr><th scope=row>ENSG00000000419.13</th><td>ENSG00000000419.13</td><td>DPM1    </td><td>protein_coding</td><td>1777</td><td>902</td><td>877</td><td>169.5548</td><td>78.5361</td><td>106.4216</td></tr>\n",
       "\t<tr><th scope=row>ENSG00000000457.14</th><td>ENSG00000000457.14</td><td>SCYL3   </td><td>protein_coding</td><td> 180</td><td>179</td><td>164</td><td>  3.0118</td><td> 1.3950</td><td>  1.8904</td></tr>\n",
       "\t<tr><th scope=row>ENSG00000000460.17</th><td>ENSG00000000460.17</td><td>C1orf112</td><td>protein_coding</td><td> 222</td><td>193</td><td>215</td><td>  4.2826</td><td> 1.9837</td><td>  2.6880</td></tr>\n",
       "\t<tr><th scope=row>ENSG00000000938.13</th><td>ENSG00000000938.13</td><td>FGR     </td><td>protein_coding</td><td> 456</td><td>234</td><td>223</td><td> 15.5282</td><td> 7.1925</td><td>  9.7463</td></tr>\n",
       "</tbody>\n",
       "</table>\n"
      ],
      "text/latex": [
       "A data.frame: 6 × 9\n",
       "\\begin{tabular}{r|lllllllll}\n",
       "  & gene\\_id & gene\\_name & gene\\_type & unstranded & stranded\\_first & stranded\\_second & tpm\\_unstranded & fpkm\\_unstranded & fpkm\\_uq\\_unstranded\\\\\n",
       "  & <chr> & <chr> & <chr> & <int> & <int> & <int> & <dbl> & <dbl> & <dbl>\\\\\n",
       "\\hline\n",
       "\tENSG00000000003.15 & ENSG00000000003.15 & TSPAN6   & protein\\_coding &  326 & 164 & 162 &   8.2770 &  3.8338 &   5.1951\\\\\n",
       "\tENSG00000000005.6 & ENSG00000000005.6  & TNMD     & protein\\_coding &    5 &   1 &   4 &   0.3901 &  0.1807 &   0.2449\\\\\n",
       "\tENSG00000000419.13 & ENSG00000000419.13 & DPM1     & protein\\_coding & 1777 & 902 & 877 & 169.5548 & 78.5361 & 106.4216\\\\\n",
       "\tENSG00000000457.14 & ENSG00000000457.14 & SCYL3    & protein\\_coding &  180 & 179 & 164 &   3.0118 &  1.3950 &   1.8904\\\\\n",
       "\tENSG00000000460.17 & ENSG00000000460.17 & C1orf112 & protein\\_coding &  222 & 193 & 215 &   4.2826 &  1.9837 &   2.6880\\\\\n",
       "\tENSG00000000938.13 & ENSG00000000938.13 & FGR      & protein\\_coding &  456 & 234 & 223 &  15.5282 &  7.1925 &   9.7463\\\\\n",
       "\\end{tabular}\n"
      ],
      "text/markdown": [
       "\n",
       "A data.frame: 6 × 9\n",
       "\n",
       "| <!--/--> | gene_id &lt;chr&gt; | gene_name &lt;chr&gt; | gene_type &lt;chr&gt; | unstranded &lt;int&gt; | stranded_first &lt;int&gt; | stranded_second &lt;int&gt; | tpm_unstranded &lt;dbl&gt; | fpkm_unstranded &lt;dbl&gt; | fpkm_uq_unstranded &lt;dbl&gt; |\n",
       "|---|---|---|---|---|---|---|---|---|---|\n",
       "| ENSG00000000003.15 | ENSG00000000003.15 | TSPAN6   | protein_coding |  326 | 164 | 162 |   8.2770 |  3.8338 |   5.1951 |\n",
       "| ENSG00000000005.6 | ENSG00000000005.6  | TNMD     | protein_coding |    5 |   1 |   4 |   0.3901 |  0.1807 |   0.2449 |\n",
       "| ENSG00000000419.13 | ENSG00000000419.13 | DPM1     | protein_coding | 1777 | 902 | 877 | 169.5548 | 78.5361 | 106.4216 |\n",
       "| ENSG00000000457.14 | ENSG00000000457.14 | SCYL3    | protein_coding |  180 | 179 | 164 |   3.0118 |  1.3950 |   1.8904 |\n",
       "| ENSG00000000460.17 | ENSG00000000460.17 | C1orf112 | protein_coding |  222 | 193 | 215 |   4.2826 |  1.9837 |   2.6880 |\n",
       "| ENSG00000000938.13 | ENSG00000000938.13 | FGR      | protein_coding |  456 | 234 | 223 |  15.5282 |  7.1925 |   9.7463 |\n",
       "\n"
      ],
      "text/plain": [
       "                   gene_id            gene_name gene_type      unstranded\n",
       "ENSG00000000003.15 ENSG00000000003.15 TSPAN6    protein_coding  326      \n",
       "ENSG00000000005.6  ENSG00000000005.6  TNMD      protein_coding    5      \n",
       "ENSG00000000419.13 ENSG00000000419.13 DPM1      protein_coding 1777      \n",
       "ENSG00000000457.14 ENSG00000000457.14 SCYL3     protein_coding  180      \n",
       "ENSG00000000460.17 ENSG00000000460.17 C1orf112  protein_coding  222      \n",
       "ENSG00000000938.13 ENSG00000000938.13 FGR       protein_coding  456      \n",
       "                   stranded_first stranded_second tpm_unstranded\n",
       "ENSG00000000003.15 164            162               8.2770      \n",
       "ENSG00000000005.6    1              4               0.3901      \n",
       "ENSG00000000419.13 902            877             169.5548      \n",
       "ENSG00000000457.14 179            164               3.0118      \n",
       "ENSG00000000460.17 193            215               4.2826      \n",
       "ENSG00000000938.13 234            223              15.5282      \n",
       "                   fpkm_unstranded fpkm_uq_unstranded\n",
       "ENSG00000000003.15  3.8338           5.1951          \n",
       "ENSG00000000005.6   0.1807           0.2449          \n",
       "ENSG00000000419.13 78.5361         106.4216          \n",
       "ENSG00000000457.14  1.3950           1.8904          \n",
       "ENSG00000000460.17  1.9837           2.6880          \n",
       "ENSG00000000938.13  7.1925           9.7463          "
      ]
     },
     "metadata": {},
     "output_type": "display_data"
    }
   ],
   "source": [
    "head(row_file)"
   ]
  },
  {
   "cell_type": "markdown",
   "id": "837a0930-302f-4bbe-ba3c-a337c936783b",
   "metadata": {},
   "source": [
    "## 将row_file和tpm_data根据行名整合到一起"
   ]
  },
  {
   "cell_type": "code",
   "execution_count": 25,
   "id": "7d015d4d-69f1-4482-a788-2657fffa1de1",
   "metadata": {},
   "outputs": [
    {
     "data": {
      "text/html": [
       "60660"
      ],
      "text/latex": [
       "60660"
      ],
      "text/markdown": [
       "60660"
      ],
      "text/plain": [
       "[1] 60660"
      ]
     },
     "metadata": {},
     "output_type": "display_data"
    }
   ],
   "source": [
    "same <- intersect(row.names(row_file),row.names(tpm_data))\n",
    "length(same)\n",
    "STAD_tpm <- cbind(row_file[same,],tpm_data[same,])\n",
    "STAD_tpm <- STAD_tpm[,-c(1,3:9)]"
   ]
  },
  {
   "cell_type": "code",
   "execution_count": 26,
   "id": "f91f114a-d942-4487-abff-98d549f440b6",
   "metadata": {},
   "outputs": [
    {
     "data": {
      "text/html": [
       "<table class=\"dataframe\">\n",
       "<caption>A data.frame: 6 × 449</caption>\n",
       "<thead>\n",
       "\t<tr><th></th><th scope=col>gene_name</th><th scope=col>TCGA-BR-8362-01A-11R-2343-13</th><th scope=col>TCGA-3M-AB46-01A-11R-A414-31</th><th scope=col>TCGA-BR-4357-01A-01R-1157-13</th><th scope=col>TCGA-D7-A748-01A-12R-A32D-31</th><th scope=col>TCGA-CD-A487-01A-21R-A24K-31</th><th scope=col>TCGA-VQ-A8E2-01A-11R-A36D-31</th><th scope=col>TCGA-HU-A4GU-01A-11R-A251-31</th><th scope=col>TCGA-IN-8462-01A-11R-2343-13</th><th scope=col>TCGA-VQ-A8PM-01A-21R-A414-31</th><th scope=col>⋯</th><th scope=col>TCGA-BR-8483-01A-31R-2402-13</th><th scope=col>TCGA-MX-A663-01A-11R-A31P-31</th><th scope=col>TCGA-CG-5732-01A-11R-1602-13</th><th scope=col>TCGA-D7-8573-01A-11R-2343-13</th><th scope=col>TCGA-BR-8369-01A-11R-2343-13</th><th scope=col>TCGA-CD-A48C-01A-11R-A24K-31</th><th scope=col>TCGA-HU-A4GN-11A-12R-A251-31</th><th scope=col>TCGA-HU-A4GP-01A-11R-A251-31</th><th scope=col>TCGA-HU-A4GP-11A-21R-A251-31</th><th scope=col>TCGA-IN-A7NR-01A-11R-A354-31</th></tr>\n",
       "\t<tr><th></th><th scope=col>&lt;chr&gt;</th><th scope=col>&lt;dbl&gt;</th><th scope=col>&lt;dbl&gt;</th><th scope=col>&lt;dbl&gt;</th><th scope=col>&lt;dbl&gt;</th><th scope=col>&lt;dbl&gt;</th><th scope=col>&lt;dbl&gt;</th><th scope=col>&lt;dbl&gt;</th><th scope=col>&lt;dbl&gt;</th><th scope=col>&lt;dbl&gt;</th><th scope=col>⋯</th><th scope=col>&lt;dbl&gt;</th><th scope=col>&lt;dbl&gt;</th><th scope=col>&lt;dbl&gt;</th><th scope=col>&lt;dbl&gt;</th><th scope=col>&lt;dbl&gt;</th><th scope=col>&lt;dbl&gt;</th><th scope=col>&lt;dbl&gt;</th><th scope=col>&lt;dbl&gt;</th><th scope=col>&lt;dbl&gt;</th><th scope=col>&lt;dbl&gt;</th></tr>\n",
       "</thead>\n",
       "<tbody>\n",
       "\t<tr><th scope=row>ENSG00000000003.15</th><td>TSPAN6  </td><td>59.2364</td><td> 19.5851</td><td> 14.2098</td><td>25.9082</td><td> 29.2885</td><td>110.7458</td><td> 52.3122</td><td>24.7321</td><td>15.7989</td><td>⋯</td><td> 36.7444</td><td> 34.6704</td><td> 12.0592</td><td> 52.3324</td><td>12.8526</td><td> 11.0419</td><td> 5.5090</td><td> 7.9106</td><td> 6.2648</td><td>31.4263</td></tr>\n",
       "\t<tr><th scope=row>ENSG00000000005.6</th><td>TNMD    </td><td> 0.0731</td><td>  0.1442</td><td>  0.0000</td><td> 4.2802</td><td>  0.0000</td><td>  0.1422</td><td>  0.0000</td><td> 0.0000</td><td> 0.0938</td><td>⋯</td><td>  0.0778</td><td>  3.5912</td><td>  0.0300</td><td>  0.0897</td><td> 1.6085</td><td>  0.5861</td><td> 0.0242</td><td> 0.0218</td><td> 0.4541</td><td> 0.0000</td></tr>\n",
       "\t<tr><th scope=row>ENSG00000000419.13</th><td>DPM1    </td><td>65.7239</td><td>103.8039</td><td>179.7869</td><td>51.9467</td><td>203.1705</td><td>223.5544</td><td>156.7371</td><td>56.7515</td><td>81.0291</td><td>⋯</td><td>160.2547</td><td>105.5490</td><td>175.1918</td><td>150.2887</td><td>81.9953</td><td>169.2101</td><td>75.6365</td><td>75.9374</td><td>60.6077</td><td>57.4219</td></tr>\n",
       "\t<tr><th scope=row>ENSG00000000457.14</th><td>SCYL3   </td><td> 7.3979</td><td>  4.9516</td><td>  7.2135</td><td> 3.7602</td><td>  4.1040</td><td>  9.3793</td><td>  7.4444</td><td> 3.6755</td><td> 5.8748</td><td>⋯</td><td>  7.9327</td><td>  4.7947</td><td>  4.6487</td><td>  6.2041</td><td> 9.9520</td><td>  5.1738</td><td> 3.7341</td><td> 3.7284</td><td> 4.2844</td><td> 3.9691</td></tr>\n",
       "\t<tr><th scope=row>ENSG00000000460.17</th><td>C1orf112</td><td> 3.6744</td><td>  3.8857</td><td>  6.8641</td><td> 1.1948</td><td>  3.5078</td><td> 14.6292</td><td>  6.7366</td><td> 1.0898</td><td> 2.1630</td><td>⋯</td><td>  4.3854</td><td>  3.4665</td><td>  1.7791</td><td>  4.6405</td><td> 4.4482</td><td>  4.7623</td><td> 0.6628</td><td> 4.0016</td><td> 1.1002</td><td> 2.1011</td></tr>\n",
       "\t<tr><th scope=row>ENSG00000000938.13</th><td>FGR     </td><td> 6.7306</td><td>  1.2945</td><td> 18.0266</td><td>17.8965</td><td>  7.9721</td><td>  6.6422</td><td>  3.2699</td><td> 3.2980</td><td> 4.0230</td><td>⋯</td><td>  1.4939</td><td>  6.5690</td><td>  6.0195</td><td>  4.1871</td><td> 6.6821</td><td>  4.1436</td><td> 4.0475</td><td> 2.4594</td><td> 4.1417</td><td> 3.3317</td></tr>\n",
       "</tbody>\n",
       "</table>\n"
      ],
      "text/latex": [
       "A data.frame: 6 × 449\n",
       "\\begin{tabular}{r|lllllllllllllllllllll}\n",
       "  & gene\\_name & TCGA-BR-8362-01A-11R-2343-13 & TCGA-3M-AB46-01A-11R-A414-31 & TCGA-BR-4357-01A-01R-1157-13 & TCGA-D7-A748-01A-12R-A32D-31 & TCGA-CD-A487-01A-21R-A24K-31 & TCGA-VQ-A8E2-01A-11R-A36D-31 & TCGA-HU-A4GU-01A-11R-A251-31 & TCGA-IN-8462-01A-11R-2343-13 & TCGA-VQ-A8PM-01A-21R-A414-31 & ⋯ & TCGA-BR-8483-01A-31R-2402-13 & TCGA-MX-A663-01A-11R-A31P-31 & TCGA-CG-5732-01A-11R-1602-13 & TCGA-D7-8573-01A-11R-2343-13 & TCGA-BR-8369-01A-11R-2343-13 & TCGA-CD-A48C-01A-11R-A24K-31 & TCGA-HU-A4GN-11A-12R-A251-31 & TCGA-HU-A4GP-01A-11R-A251-31 & TCGA-HU-A4GP-11A-21R-A251-31 & TCGA-IN-A7NR-01A-11R-A354-31\\\\\n",
       "  & <chr> & <dbl> & <dbl> & <dbl> & <dbl> & <dbl> & <dbl> & <dbl> & <dbl> & <dbl> & ⋯ & <dbl> & <dbl> & <dbl> & <dbl> & <dbl> & <dbl> & <dbl> & <dbl> & <dbl> & <dbl>\\\\\n",
       "\\hline\n",
       "\tENSG00000000003.15 & TSPAN6   & 59.2364 &  19.5851 &  14.2098 & 25.9082 &  29.2885 & 110.7458 &  52.3122 & 24.7321 & 15.7989 & ⋯ &  36.7444 &  34.6704 &  12.0592 &  52.3324 & 12.8526 &  11.0419 &  5.5090 &  7.9106 &  6.2648 & 31.4263\\\\\n",
       "\tENSG00000000005.6 & TNMD     &  0.0731 &   0.1442 &   0.0000 &  4.2802 &   0.0000 &   0.1422 &   0.0000 &  0.0000 &  0.0938 & ⋯ &   0.0778 &   3.5912 &   0.0300 &   0.0897 &  1.6085 &   0.5861 &  0.0242 &  0.0218 &  0.4541 &  0.0000\\\\\n",
       "\tENSG00000000419.13 & DPM1     & 65.7239 & 103.8039 & 179.7869 & 51.9467 & 203.1705 & 223.5544 & 156.7371 & 56.7515 & 81.0291 & ⋯ & 160.2547 & 105.5490 & 175.1918 & 150.2887 & 81.9953 & 169.2101 & 75.6365 & 75.9374 & 60.6077 & 57.4219\\\\\n",
       "\tENSG00000000457.14 & SCYL3    &  7.3979 &   4.9516 &   7.2135 &  3.7602 &   4.1040 &   9.3793 &   7.4444 &  3.6755 &  5.8748 & ⋯ &   7.9327 &   4.7947 &   4.6487 &   6.2041 &  9.9520 &   5.1738 &  3.7341 &  3.7284 &  4.2844 &  3.9691\\\\\n",
       "\tENSG00000000460.17 & C1orf112 &  3.6744 &   3.8857 &   6.8641 &  1.1948 &   3.5078 &  14.6292 &   6.7366 &  1.0898 &  2.1630 & ⋯ &   4.3854 &   3.4665 &   1.7791 &   4.6405 &  4.4482 &   4.7623 &  0.6628 &  4.0016 &  1.1002 &  2.1011\\\\\n",
       "\tENSG00000000938.13 & FGR      &  6.7306 &   1.2945 &  18.0266 & 17.8965 &   7.9721 &   6.6422 &   3.2699 &  3.2980 &  4.0230 & ⋯ &   1.4939 &   6.5690 &   6.0195 &   4.1871 &  6.6821 &   4.1436 &  4.0475 &  2.4594 &  4.1417 &  3.3317\\\\\n",
       "\\end{tabular}\n"
      ],
      "text/markdown": [
       "\n",
       "A data.frame: 6 × 449\n",
       "\n",
       "| <!--/--> | gene_name &lt;chr&gt; | TCGA-BR-8362-01A-11R-2343-13 &lt;dbl&gt; | TCGA-3M-AB46-01A-11R-A414-31 &lt;dbl&gt; | TCGA-BR-4357-01A-01R-1157-13 &lt;dbl&gt; | TCGA-D7-A748-01A-12R-A32D-31 &lt;dbl&gt; | TCGA-CD-A487-01A-21R-A24K-31 &lt;dbl&gt; | TCGA-VQ-A8E2-01A-11R-A36D-31 &lt;dbl&gt; | TCGA-HU-A4GU-01A-11R-A251-31 &lt;dbl&gt; | TCGA-IN-8462-01A-11R-2343-13 &lt;dbl&gt; | TCGA-VQ-A8PM-01A-21R-A414-31 &lt;dbl&gt; | ⋯ ⋯ | TCGA-BR-8483-01A-31R-2402-13 &lt;dbl&gt; | TCGA-MX-A663-01A-11R-A31P-31 &lt;dbl&gt; | TCGA-CG-5732-01A-11R-1602-13 &lt;dbl&gt; | TCGA-D7-8573-01A-11R-2343-13 &lt;dbl&gt; | TCGA-BR-8369-01A-11R-2343-13 &lt;dbl&gt; | TCGA-CD-A48C-01A-11R-A24K-31 &lt;dbl&gt; | TCGA-HU-A4GN-11A-12R-A251-31 &lt;dbl&gt; | TCGA-HU-A4GP-01A-11R-A251-31 &lt;dbl&gt; | TCGA-HU-A4GP-11A-21R-A251-31 &lt;dbl&gt; | TCGA-IN-A7NR-01A-11R-A354-31 &lt;dbl&gt; |\n",
       "|---|---|---|---|---|---|---|---|---|---|---|---|---|---|---|---|---|---|---|---|---|---|\n",
       "| ENSG00000000003.15 | TSPAN6   | 59.2364 |  19.5851 |  14.2098 | 25.9082 |  29.2885 | 110.7458 |  52.3122 | 24.7321 | 15.7989 | ⋯ |  36.7444 |  34.6704 |  12.0592 |  52.3324 | 12.8526 |  11.0419 |  5.5090 |  7.9106 |  6.2648 | 31.4263 |\n",
       "| ENSG00000000005.6 | TNMD     |  0.0731 |   0.1442 |   0.0000 |  4.2802 |   0.0000 |   0.1422 |   0.0000 |  0.0000 |  0.0938 | ⋯ |   0.0778 |   3.5912 |   0.0300 |   0.0897 |  1.6085 |   0.5861 |  0.0242 |  0.0218 |  0.4541 |  0.0000 |\n",
       "| ENSG00000000419.13 | DPM1     | 65.7239 | 103.8039 | 179.7869 | 51.9467 | 203.1705 | 223.5544 | 156.7371 | 56.7515 | 81.0291 | ⋯ | 160.2547 | 105.5490 | 175.1918 | 150.2887 | 81.9953 | 169.2101 | 75.6365 | 75.9374 | 60.6077 | 57.4219 |\n",
       "| ENSG00000000457.14 | SCYL3    |  7.3979 |   4.9516 |   7.2135 |  3.7602 |   4.1040 |   9.3793 |   7.4444 |  3.6755 |  5.8748 | ⋯ |   7.9327 |   4.7947 |   4.6487 |   6.2041 |  9.9520 |   5.1738 |  3.7341 |  3.7284 |  4.2844 |  3.9691 |\n",
       "| ENSG00000000460.17 | C1orf112 |  3.6744 |   3.8857 |   6.8641 |  1.1948 |   3.5078 |  14.6292 |   6.7366 |  1.0898 |  2.1630 | ⋯ |   4.3854 |   3.4665 |   1.7791 |   4.6405 |  4.4482 |   4.7623 |  0.6628 |  4.0016 |  1.1002 |  2.1011 |\n",
       "| ENSG00000000938.13 | FGR      |  6.7306 |   1.2945 |  18.0266 | 17.8965 |   7.9721 |   6.6422 |   3.2699 |  3.2980 |  4.0230 | ⋯ |   1.4939 |   6.5690 |   6.0195 |   4.1871 |  6.6821 |   4.1436 |  4.0475 |  2.4594 |  4.1417 |  3.3317 |\n",
       "\n"
      ],
      "text/plain": [
       "                   gene_name TCGA-BR-8362-01A-11R-2343-13\n",
       "ENSG00000000003.15 TSPAN6    59.2364                     \n",
       "ENSG00000000005.6  TNMD       0.0731                     \n",
       "ENSG00000000419.13 DPM1      65.7239                     \n",
       "ENSG00000000457.14 SCYL3      7.3979                     \n",
       "ENSG00000000460.17 C1orf112   3.6744                     \n",
       "ENSG00000000938.13 FGR        6.7306                     \n",
       "                   TCGA-3M-AB46-01A-11R-A414-31 TCGA-BR-4357-01A-01R-1157-13\n",
       "ENSG00000000003.15  19.5851                      14.2098                    \n",
       "ENSG00000000005.6    0.1442                       0.0000                    \n",
       "ENSG00000000419.13 103.8039                     179.7869                    \n",
       "ENSG00000000457.14   4.9516                       7.2135                    \n",
       "ENSG00000000460.17   3.8857                       6.8641                    \n",
       "ENSG00000000938.13   1.2945                      18.0266                    \n",
       "                   TCGA-D7-A748-01A-12R-A32D-31 TCGA-CD-A487-01A-21R-A24K-31\n",
       "ENSG00000000003.15 25.9082                       29.2885                    \n",
       "ENSG00000000005.6   4.2802                        0.0000                    \n",
       "ENSG00000000419.13 51.9467                      203.1705                    \n",
       "ENSG00000000457.14  3.7602                        4.1040                    \n",
       "ENSG00000000460.17  1.1948                        3.5078                    \n",
       "ENSG00000000938.13 17.8965                        7.9721                    \n",
       "                   TCGA-VQ-A8E2-01A-11R-A36D-31 TCGA-HU-A4GU-01A-11R-A251-31\n",
       "ENSG00000000003.15 110.7458                      52.3122                    \n",
       "ENSG00000000005.6    0.1422                       0.0000                    \n",
       "ENSG00000000419.13 223.5544                     156.7371                    \n",
       "ENSG00000000457.14   9.3793                       7.4444                    \n",
       "ENSG00000000460.17  14.6292                       6.7366                    \n",
       "ENSG00000000938.13   6.6422                       3.2699                    \n",
       "                   TCGA-IN-8462-01A-11R-2343-13 TCGA-VQ-A8PM-01A-21R-A414-31 ⋯\n",
       "ENSG00000000003.15 24.7321                      15.7989                      ⋯\n",
       "ENSG00000000005.6   0.0000                       0.0938                      ⋯\n",
       "ENSG00000000419.13 56.7515                      81.0291                      ⋯\n",
       "ENSG00000000457.14  3.6755                       5.8748                      ⋯\n",
       "ENSG00000000460.17  1.0898                       2.1630                      ⋯\n",
       "ENSG00000000938.13  3.2980                       4.0230                      ⋯\n",
       "                   TCGA-BR-8483-01A-31R-2402-13 TCGA-MX-A663-01A-11R-A31P-31\n",
       "ENSG00000000003.15  36.7444                      34.6704                    \n",
       "ENSG00000000005.6    0.0778                       3.5912                    \n",
       "ENSG00000000419.13 160.2547                     105.5490                    \n",
       "ENSG00000000457.14   7.9327                       4.7947                    \n",
       "ENSG00000000460.17   4.3854                       3.4665                    \n",
       "ENSG00000000938.13   1.4939                       6.5690                    \n",
       "                   TCGA-CG-5732-01A-11R-1602-13 TCGA-D7-8573-01A-11R-2343-13\n",
       "ENSG00000000003.15  12.0592                      52.3324                    \n",
       "ENSG00000000005.6    0.0300                       0.0897                    \n",
       "ENSG00000000419.13 175.1918                     150.2887                    \n",
       "ENSG00000000457.14   4.6487                       6.2041                    \n",
       "ENSG00000000460.17   1.7791                       4.6405                    \n",
       "ENSG00000000938.13   6.0195                       4.1871                    \n",
       "                   TCGA-BR-8369-01A-11R-2343-13 TCGA-CD-A48C-01A-11R-A24K-31\n",
       "ENSG00000000003.15 12.8526                       11.0419                    \n",
       "ENSG00000000005.6   1.6085                        0.5861                    \n",
       "ENSG00000000419.13 81.9953                      169.2101                    \n",
       "ENSG00000000457.14  9.9520                        5.1738                    \n",
       "ENSG00000000460.17  4.4482                        4.7623                    \n",
       "ENSG00000000938.13  6.6821                        4.1436                    \n",
       "                   TCGA-HU-A4GN-11A-12R-A251-31 TCGA-HU-A4GP-01A-11R-A251-31\n",
       "ENSG00000000003.15  5.5090                       7.9106                     \n",
       "ENSG00000000005.6   0.0242                       0.0218                     \n",
       "ENSG00000000419.13 75.6365                      75.9374                     \n",
       "ENSG00000000457.14  3.7341                       3.7284                     \n",
       "ENSG00000000460.17  0.6628                       4.0016                     \n",
       "ENSG00000000938.13  4.0475                       2.4594                     \n",
       "                   TCGA-HU-A4GP-11A-21R-A251-31 TCGA-IN-A7NR-01A-11R-A354-31\n",
       "ENSG00000000003.15  6.2648                      31.4263                     \n",
       "ENSG00000000005.6   0.4541                       0.0000                     \n",
       "ENSG00000000419.13 60.6077                      57.4219                     \n",
       "ENSG00000000457.14  4.2844                       3.9691                     \n",
       "ENSG00000000460.17  1.1002                       2.1011                     \n",
       "ENSG00000000938.13  4.1417                       3.3317                     "
      ]
     },
     "metadata": {},
     "output_type": "display_data"
    }
   ],
   "source": [
    "head(STAD_tpm)"
   ]
  },
  {
   "cell_type": "markdown",
   "id": "7d2f9cb1-876b-448e-bf4d-986dde261da1",
   "metadata": {},
   "source": [
    "#### 将gene_name转变成行名"
   ]
  },
  {
   "cell_type": "code",
   "execution_count": 28,
   "id": "27381be7-8d1f-4245-9bc6-634b0cbb0781",
   "metadata": {},
   "outputs": [],
   "source": [
    "rt <- as.matrix(STAD_tpm)\n",
    "rownames(rt) <- rt[,1]\n",
    "exp <- rt[,2:ncol(rt)]"
   ]
  },
  {
   "cell_type": "code",
   "execution_count": 29,
   "id": "ceac0260-94f3-4495-8288-84b9ca392ea9",
   "metadata": {},
   "outputs": [
    {
     "data": {
      "text/html": [
       "<table class=\"dataframe\">\n",
       "<caption>A matrix: 6 × 448 of type chr</caption>\n",
       "<thead>\n",
       "\t<tr><th></th><th scope=col>TCGA-BR-8362-01A-11R-2343-13</th><th scope=col>TCGA-3M-AB46-01A-11R-A414-31</th><th scope=col>TCGA-BR-4357-01A-01R-1157-13</th><th scope=col>TCGA-D7-A748-01A-12R-A32D-31</th><th scope=col>TCGA-CD-A487-01A-21R-A24K-31</th><th scope=col>TCGA-VQ-A8E2-01A-11R-A36D-31</th><th scope=col>TCGA-HU-A4GU-01A-11R-A251-31</th><th scope=col>TCGA-IN-8462-01A-11R-2343-13</th><th scope=col>TCGA-VQ-A8PM-01A-21R-A414-31</th><th scope=col>TCGA-CD-A4MI-01A-21R-A251-31</th><th scope=col>⋯</th><th scope=col>TCGA-BR-8483-01A-31R-2402-13</th><th scope=col>TCGA-MX-A663-01A-11R-A31P-31</th><th scope=col>TCGA-CG-5732-01A-11R-1602-13</th><th scope=col>TCGA-D7-8573-01A-11R-2343-13</th><th scope=col>TCGA-BR-8369-01A-11R-2343-13</th><th scope=col>TCGA-CD-A48C-01A-11R-A24K-31</th><th scope=col>TCGA-HU-A4GN-11A-12R-A251-31</th><th scope=col>TCGA-HU-A4GP-01A-11R-A251-31</th><th scope=col>TCGA-HU-A4GP-11A-21R-A251-31</th><th scope=col>TCGA-IN-A7NR-01A-11R-A354-31</th></tr>\n",
       "</thead>\n",
       "<tbody>\n",
       "\t<tr><th scope=row>TSPAN6</th><td>   59.2364</td><td>   19.5851</td><td>   14.2098</td><td>   25.9082</td><td>   29.2885</td><td>  110.7458</td><td>   52.3122</td><td>   24.7321</td><td>   15.7989</td><td>   12.7600</td><td>⋯</td><td>   36.7444</td><td>   34.6704</td><td>   12.0592</td><td>   52.3324</td><td>   12.8526</td><td>   11.0419</td><td>    5.5090</td><td>    7.9106</td><td>    6.2648</td><td>   31.4263</td></tr>\n",
       "\t<tr><th scope=row>TNMD</th><td>    0.0731</td><td>    0.1442</td><td>    0.0000</td><td>    4.2802</td><td>    0.0000</td><td>    0.1422</td><td>    0.0000</td><td>    0.0000</td><td>    0.0938</td><td>    0.0000</td><td>⋯</td><td>    0.0778</td><td>    3.5912</td><td>    0.0300</td><td>    0.0897</td><td>    1.6085</td><td>    0.5861</td><td>    0.0242</td><td>    0.0218</td><td>    0.4541</td><td>    0.0000</td></tr>\n",
       "\t<tr><th scope=row>DPM1</th><td>   65.7239</td><td>  103.8039</td><td>  179.7869</td><td>   51.9467</td><td>  203.1705</td><td>  223.5544</td><td>  156.7371</td><td>   56.7515</td><td>   81.0291</td><td>   81.0043</td><td>⋯</td><td>  160.2547</td><td>  105.5490</td><td>  175.1918</td><td>  150.2887</td><td>   81.9953</td><td>  169.2101</td><td>   75.6365</td><td>   75.9374</td><td>   60.6077</td><td>   57.4219</td></tr>\n",
       "\t<tr><th scope=row>SCYL3</th><td>    7.3979</td><td>    4.9516</td><td>    7.2135</td><td>    3.7602</td><td>    4.1040</td><td>    9.3793</td><td>    7.4444</td><td>    3.6755</td><td>    5.8748</td><td>    3.8527</td><td>⋯</td><td>    7.9327</td><td>    4.7947</td><td>    4.6487</td><td>    6.2041</td><td>    9.9520</td><td>    5.1738</td><td>    3.7341</td><td>    3.7284</td><td>    4.2844</td><td>    3.9691</td></tr>\n",
       "\t<tr><th scope=row>C1orf112</th><td>    3.6744</td><td>    3.8857</td><td>    6.8641</td><td>    1.1948</td><td>    3.5078</td><td>   14.6292</td><td>    6.7366</td><td>    1.0898</td><td>    2.1630</td><td>    0.9785</td><td>⋯</td><td>    4.3854</td><td>    3.4665</td><td>    1.7791</td><td>    4.6405</td><td>    4.4482</td><td>    4.7623</td><td>    0.6628</td><td>    4.0016</td><td>    1.1002</td><td>    2.1011</td></tr>\n",
       "\t<tr><th scope=row>FGR</th><td>    6.7306</td><td>    1.2945</td><td>   18.0266</td><td>   17.8965</td><td>    7.9721</td><td>    6.6422</td><td>    3.2699</td><td>    3.2980</td><td>    4.0230</td><td>   16.1442</td><td>⋯</td><td>    1.4939</td><td>    6.5690</td><td>    6.0195</td><td>    4.1871</td><td>    6.6821</td><td>    4.1436</td><td>    4.0475</td><td>    2.4594</td><td>    4.1417</td><td>    3.3317</td></tr>\n",
       "</tbody>\n",
       "</table>\n"
      ],
      "text/latex": [
       "A matrix: 6 × 448 of type chr\n",
       "\\begin{tabular}{r|lllllllllllllllllllll}\n",
       "  & TCGA-BR-8362-01A-11R-2343-13 & TCGA-3M-AB46-01A-11R-A414-31 & TCGA-BR-4357-01A-01R-1157-13 & TCGA-D7-A748-01A-12R-A32D-31 & TCGA-CD-A487-01A-21R-A24K-31 & TCGA-VQ-A8E2-01A-11R-A36D-31 & TCGA-HU-A4GU-01A-11R-A251-31 & TCGA-IN-8462-01A-11R-2343-13 & TCGA-VQ-A8PM-01A-21R-A414-31 & TCGA-CD-A4MI-01A-21R-A251-31 & ⋯ & TCGA-BR-8483-01A-31R-2402-13 & TCGA-MX-A663-01A-11R-A31P-31 & TCGA-CG-5732-01A-11R-1602-13 & TCGA-D7-8573-01A-11R-2343-13 & TCGA-BR-8369-01A-11R-2343-13 & TCGA-CD-A48C-01A-11R-A24K-31 & TCGA-HU-A4GN-11A-12R-A251-31 & TCGA-HU-A4GP-01A-11R-A251-31 & TCGA-HU-A4GP-11A-21R-A251-31 & TCGA-IN-A7NR-01A-11R-A354-31\\\\\n",
       "\\hline\n",
       "\tTSPAN6 &    59.2364 &    19.5851 &    14.2098 &    25.9082 &    29.2885 &   110.7458 &    52.3122 &    24.7321 &    15.7989 &    12.7600 & ⋯ &    36.7444 &    34.6704 &    12.0592 &    52.3324 &    12.8526 &    11.0419 &     5.5090 &     7.9106 &     6.2648 &    31.4263\\\\\n",
       "\tTNMD &     0.0731 &     0.1442 &     0.0000 &     4.2802 &     0.0000 &     0.1422 &     0.0000 &     0.0000 &     0.0938 &     0.0000 & ⋯ &     0.0778 &     3.5912 &     0.0300 &     0.0897 &     1.6085 &     0.5861 &     0.0242 &     0.0218 &     0.4541 &     0.0000\\\\\n",
       "\tDPM1 &    65.7239 &   103.8039 &   179.7869 &    51.9467 &   203.1705 &   223.5544 &   156.7371 &    56.7515 &    81.0291 &    81.0043 & ⋯ &   160.2547 &   105.5490 &   175.1918 &   150.2887 &    81.9953 &   169.2101 &    75.6365 &    75.9374 &    60.6077 &    57.4219\\\\\n",
       "\tSCYL3 &     7.3979 &     4.9516 &     7.2135 &     3.7602 &     4.1040 &     9.3793 &     7.4444 &     3.6755 &     5.8748 &     3.8527 & ⋯ &     7.9327 &     4.7947 &     4.6487 &     6.2041 &     9.9520 &     5.1738 &     3.7341 &     3.7284 &     4.2844 &     3.9691\\\\\n",
       "\tC1orf112 &     3.6744 &     3.8857 &     6.8641 &     1.1948 &     3.5078 &    14.6292 &     6.7366 &     1.0898 &     2.1630 &     0.9785 & ⋯ &     4.3854 &     3.4665 &     1.7791 &     4.6405 &     4.4482 &     4.7623 &     0.6628 &     4.0016 &     1.1002 &     2.1011\\\\\n",
       "\tFGR &     6.7306 &     1.2945 &    18.0266 &    17.8965 &     7.9721 &     6.6422 &     3.2699 &     3.2980 &     4.0230 &    16.1442 & ⋯ &     1.4939 &     6.5690 &     6.0195 &     4.1871 &     6.6821 &     4.1436 &     4.0475 &     2.4594 &     4.1417 &     3.3317\\\\\n",
       "\\end{tabular}\n"
      ],
      "text/markdown": [
       "\n",
       "A matrix: 6 × 448 of type chr\n",
       "\n",
       "| <!--/--> | TCGA-BR-8362-01A-11R-2343-13 | TCGA-3M-AB46-01A-11R-A414-31 | TCGA-BR-4357-01A-01R-1157-13 | TCGA-D7-A748-01A-12R-A32D-31 | TCGA-CD-A487-01A-21R-A24K-31 | TCGA-VQ-A8E2-01A-11R-A36D-31 | TCGA-HU-A4GU-01A-11R-A251-31 | TCGA-IN-8462-01A-11R-2343-13 | TCGA-VQ-A8PM-01A-21R-A414-31 | TCGA-CD-A4MI-01A-21R-A251-31 | ⋯ | TCGA-BR-8483-01A-31R-2402-13 | TCGA-MX-A663-01A-11R-A31P-31 | TCGA-CG-5732-01A-11R-1602-13 | TCGA-D7-8573-01A-11R-2343-13 | TCGA-BR-8369-01A-11R-2343-13 | TCGA-CD-A48C-01A-11R-A24K-31 | TCGA-HU-A4GN-11A-12R-A251-31 | TCGA-HU-A4GP-01A-11R-A251-31 | TCGA-HU-A4GP-11A-21R-A251-31 | TCGA-IN-A7NR-01A-11R-A354-31 |\n",
       "|---|---|---|---|---|---|---|---|---|---|---|---|---|---|---|---|---|---|---|---|---|---|\n",
       "| TSPAN6 |    59.2364 |    19.5851 |    14.2098 |    25.9082 |    29.2885 |   110.7458 |    52.3122 |    24.7321 |    15.7989 |    12.7600 | ⋯ |    36.7444 |    34.6704 |    12.0592 |    52.3324 |    12.8526 |    11.0419 |     5.5090 |     7.9106 |     6.2648 |    31.4263 |\n",
       "| TNMD |     0.0731 |     0.1442 |     0.0000 |     4.2802 |     0.0000 |     0.1422 |     0.0000 |     0.0000 |     0.0938 |     0.0000 | ⋯ |     0.0778 |     3.5912 |     0.0300 |     0.0897 |     1.6085 |     0.5861 |     0.0242 |     0.0218 |     0.4541 |     0.0000 |\n",
       "| DPM1 |    65.7239 |   103.8039 |   179.7869 |    51.9467 |   203.1705 |   223.5544 |   156.7371 |    56.7515 |    81.0291 |    81.0043 | ⋯ |   160.2547 |   105.5490 |   175.1918 |   150.2887 |    81.9953 |   169.2101 |    75.6365 |    75.9374 |    60.6077 |    57.4219 |\n",
       "| SCYL3 |     7.3979 |     4.9516 |     7.2135 |     3.7602 |     4.1040 |     9.3793 |     7.4444 |     3.6755 |     5.8748 |     3.8527 | ⋯ |     7.9327 |     4.7947 |     4.6487 |     6.2041 |     9.9520 |     5.1738 |     3.7341 |     3.7284 |     4.2844 |     3.9691 |\n",
       "| C1orf112 |     3.6744 |     3.8857 |     6.8641 |     1.1948 |     3.5078 |    14.6292 |     6.7366 |     1.0898 |     2.1630 |     0.9785 | ⋯ |     4.3854 |     3.4665 |     1.7791 |     4.6405 |     4.4482 |     4.7623 |     0.6628 |     4.0016 |     1.1002 |     2.1011 |\n",
       "| FGR |     6.7306 |     1.2945 |    18.0266 |    17.8965 |     7.9721 |     6.6422 |     3.2699 |     3.2980 |     4.0230 |    16.1442 | ⋯ |     1.4939 |     6.5690 |     6.0195 |     4.1871 |     6.6821 |     4.1436 |     4.0475 |     2.4594 |     4.1417 |     3.3317 |\n",
       "\n"
      ],
      "text/plain": [
       "         TCGA-BR-8362-01A-11R-2343-13 TCGA-3M-AB46-01A-11R-A414-31\n",
       "TSPAN6      59.2364                      19.5851                  \n",
       "TNMD         0.0731                       0.1442                  \n",
       "DPM1        65.7239                     103.8039                  \n",
       "SCYL3        7.3979                       4.9516                  \n",
       "C1orf112     3.6744                       3.8857                  \n",
       "FGR          6.7306                       1.2945                  \n",
       "         TCGA-BR-4357-01A-01R-1157-13 TCGA-D7-A748-01A-12R-A32D-31\n",
       "TSPAN6      14.2098                      25.9082                  \n",
       "TNMD         0.0000                       4.2802                  \n",
       "DPM1       179.7869                      51.9467                  \n",
       "SCYL3        7.2135                       3.7602                  \n",
       "C1orf112     6.8641                       1.1948                  \n",
       "FGR         18.0266                      17.8965                  \n",
       "         TCGA-CD-A487-01A-21R-A24K-31 TCGA-VQ-A8E2-01A-11R-A36D-31\n",
       "TSPAN6      29.2885                     110.7458                  \n",
       "TNMD         0.0000                       0.1422                  \n",
       "DPM1       203.1705                     223.5544                  \n",
       "SCYL3        4.1040                       9.3793                  \n",
       "C1orf112     3.5078                      14.6292                  \n",
       "FGR          7.9721                       6.6422                  \n",
       "         TCGA-HU-A4GU-01A-11R-A251-31 TCGA-IN-8462-01A-11R-2343-13\n",
       "TSPAN6      52.3122                      24.7321                  \n",
       "TNMD         0.0000                       0.0000                  \n",
       "DPM1       156.7371                      56.7515                  \n",
       "SCYL3        7.4444                       3.6755                  \n",
       "C1orf112     6.7366                       1.0898                  \n",
       "FGR          3.2699                       3.2980                  \n",
       "         TCGA-VQ-A8PM-01A-21R-A414-31 TCGA-CD-A4MI-01A-21R-A251-31 ⋯\n",
       "TSPAN6      15.7989                      12.7600                   ⋯\n",
       "TNMD         0.0938                       0.0000                   ⋯\n",
       "DPM1        81.0291                      81.0043                   ⋯\n",
       "SCYL3        5.8748                       3.8527                   ⋯\n",
       "C1orf112     2.1630                       0.9785                   ⋯\n",
       "FGR          4.0230                      16.1442                   ⋯\n",
       "         TCGA-BR-8483-01A-31R-2402-13 TCGA-MX-A663-01A-11R-A31P-31\n",
       "TSPAN6      36.7444                      34.6704                  \n",
       "TNMD         0.0778                       3.5912                  \n",
       "DPM1       160.2547                     105.5490                  \n",
       "SCYL3        7.9327                       4.7947                  \n",
       "C1orf112     4.3854                       3.4665                  \n",
       "FGR          1.4939                       6.5690                  \n",
       "         TCGA-CG-5732-01A-11R-1602-13 TCGA-D7-8573-01A-11R-2343-13\n",
       "TSPAN6      12.0592                      52.3324                  \n",
       "TNMD         0.0300                       0.0897                  \n",
       "DPM1       175.1918                     150.2887                  \n",
       "SCYL3        4.6487                       6.2041                  \n",
       "C1orf112     1.7791                       4.6405                  \n",
       "FGR          6.0195                       4.1871                  \n",
       "         TCGA-BR-8369-01A-11R-2343-13 TCGA-CD-A48C-01A-11R-A24K-31\n",
       "TSPAN6      12.8526                      11.0419                  \n",
       "TNMD         1.6085                       0.5861                  \n",
       "DPM1        81.9953                     169.2101                  \n",
       "SCYL3        9.9520                       5.1738                  \n",
       "C1orf112     4.4482                       4.7623                  \n",
       "FGR          6.6821                       4.1436                  \n",
       "         TCGA-HU-A4GN-11A-12R-A251-31 TCGA-HU-A4GP-01A-11R-A251-31\n",
       "TSPAN6       5.5090                       7.9106                  \n",
       "TNMD         0.0242                       0.0218                  \n",
       "DPM1        75.6365                      75.9374                  \n",
       "SCYL3        3.7341                       3.7284                  \n",
       "C1orf112     0.6628                       4.0016                  \n",
       "FGR          4.0475                       2.4594                  \n",
       "         TCGA-HU-A4GP-11A-21R-A251-31 TCGA-IN-A7NR-01A-11R-A354-31\n",
       "TSPAN6       6.2648                      31.4263                  \n",
       "TNMD         0.4541                       0.0000                  \n",
       "DPM1        60.6077                      57.4219                  \n",
       "SCYL3        4.2844                       3.9691                  \n",
       "C1orf112     1.1002                       2.1011                  \n",
       "FGR          4.1417                       3.3317                  "
      ]
     },
     "metadata": {},
     "output_type": "display_data"
    }
   ],
   "source": [
    "head(exp)"
   ]
  },
  {
   "cell_type": "code",
   "execution_count": 30,
   "id": "28f31eea-4c90-4859-b358-28dd3c084639",
   "metadata": {},
   "outputs": [],
   "source": [
    "dimnames <-list(rownames(exp),colnames(exp)) \n",
    "data <- matrix(as.numeric(as.matrix(exp)),nrow=nrow(exp),dimnames=dimnames)\n",
    "data <- avereps(data)  \n",
    "STAD_exp <- data[rowMeans(data)>0,] "
   ]
  },
  {
   "cell_type": "code",
   "execution_count": 31,
   "id": "dde783ac-1133-47a9-a46d-965241a13ea5",
   "metadata": {},
   "outputs": [
    {
     "data": {
      "text/html": [
       "<table class=\"dataframe\">\n",
       "<caption>A matrix: 6 × 448 of type dbl</caption>\n",
       "<thead>\n",
       "\t<tr><th></th><th scope=col>TCGA-BR-8362-01A-11R-2343-13</th><th scope=col>TCGA-3M-AB46-01A-11R-A414-31</th><th scope=col>TCGA-BR-4357-01A-01R-1157-13</th><th scope=col>TCGA-D7-A748-01A-12R-A32D-31</th><th scope=col>TCGA-CD-A487-01A-21R-A24K-31</th><th scope=col>TCGA-VQ-A8E2-01A-11R-A36D-31</th><th scope=col>TCGA-HU-A4GU-01A-11R-A251-31</th><th scope=col>TCGA-IN-8462-01A-11R-2343-13</th><th scope=col>TCGA-VQ-A8PM-01A-21R-A414-31</th><th scope=col>TCGA-CD-A4MI-01A-21R-A251-31</th><th scope=col>⋯</th><th scope=col>TCGA-BR-8483-01A-31R-2402-13</th><th scope=col>TCGA-MX-A663-01A-11R-A31P-31</th><th scope=col>TCGA-CG-5732-01A-11R-1602-13</th><th scope=col>TCGA-D7-8573-01A-11R-2343-13</th><th scope=col>TCGA-BR-8369-01A-11R-2343-13</th><th scope=col>TCGA-CD-A48C-01A-11R-A24K-31</th><th scope=col>TCGA-HU-A4GN-11A-12R-A251-31</th><th scope=col>TCGA-HU-A4GP-01A-11R-A251-31</th><th scope=col>TCGA-HU-A4GP-11A-21R-A251-31</th><th scope=col>TCGA-IN-A7NR-01A-11R-A354-31</th></tr>\n",
       "</thead>\n",
       "<tbody>\n",
       "\t<tr><th scope=row>TSPAN6</th><td>59.2364</td><td> 19.5851</td><td> 14.2098</td><td>25.9082</td><td> 29.2885</td><td>110.7458</td><td> 52.3122</td><td>24.7321</td><td>15.7989</td><td>12.7600</td><td>⋯</td><td> 36.7444</td><td> 34.6704</td><td> 12.0592</td><td> 52.3324</td><td>12.8526</td><td> 11.0419</td><td> 5.5090</td><td> 7.9106</td><td> 6.2648</td><td>31.4263</td></tr>\n",
       "\t<tr><th scope=row>TNMD</th><td> 0.0731</td><td>  0.1442</td><td>  0.0000</td><td> 4.2802</td><td>  0.0000</td><td>  0.1422</td><td>  0.0000</td><td> 0.0000</td><td> 0.0938</td><td> 0.0000</td><td>⋯</td><td>  0.0778</td><td>  3.5912</td><td>  0.0300</td><td>  0.0897</td><td> 1.6085</td><td>  0.5861</td><td> 0.0242</td><td> 0.0218</td><td> 0.4541</td><td> 0.0000</td></tr>\n",
       "\t<tr><th scope=row>DPM1</th><td>65.7239</td><td>103.8039</td><td>179.7869</td><td>51.9467</td><td>203.1705</td><td>223.5544</td><td>156.7371</td><td>56.7515</td><td>81.0291</td><td>81.0043</td><td>⋯</td><td>160.2547</td><td>105.5490</td><td>175.1918</td><td>150.2887</td><td>81.9953</td><td>169.2101</td><td>75.6365</td><td>75.9374</td><td>60.6077</td><td>57.4219</td></tr>\n",
       "\t<tr><th scope=row>SCYL3</th><td> 7.3979</td><td>  4.9516</td><td>  7.2135</td><td> 3.7602</td><td>  4.1040</td><td>  9.3793</td><td>  7.4444</td><td> 3.6755</td><td> 5.8748</td><td> 3.8527</td><td>⋯</td><td>  7.9327</td><td>  4.7947</td><td>  4.6487</td><td>  6.2041</td><td> 9.9520</td><td>  5.1738</td><td> 3.7341</td><td> 3.7284</td><td> 4.2844</td><td> 3.9691</td></tr>\n",
       "\t<tr><th scope=row>C1orf112</th><td> 3.6744</td><td>  3.8857</td><td>  6.8641</td><td> 1.1948</td><td>  3.5078</td><td> 14.6292</td><td>  6.7366</td><td> 1.0898</td><td> 2.1630</td><td> 0.9785</td><td>⋯</td><td>  4.3854</td><td>  3.4665</td><td>  1.7791</td><td>  4.6405</td><td> 4.4482</td><td>  4.7623</td><td> 0.6628</td><td> 4.0016</td><td> 1.1002</td><td> 2.1011</td></tr>\n",
       "\t<tr><th scope=row>FGR</th><td> 6.7306</td><td>  1.2945</td><td> 18.0266</td><td>17.8965</td><td>  7.9721</td><td>  6.6422</td><td>  3.2699</td><td> 3.2980</td><td> 4.0230</td><td>16.1442</td><td>⋯</td><td>  1.4939</td><td>  6.5690</td><td>  6.0195</td><td>  4.1871</td><td> 6.6821</td><td>  4.1436</td><td> 4.0475</td><td> 2.4594</td><td> 4.1417</td><td> 3.3317</td></tr>\n",
       "</tbody>\n",
       "</table>\n"
      ],
      "text/latex": [
       "A matrix: 6 × 448 of type dbl\n",
       "\\begin{tabular}{r|lllllllllllllllllllll}\n",
       "  & TCGA-BR-8362-01A-11R-2343-13 & TCGA-3M-AB46-01A-11R-A414-31 & TCGA-BR-4357-01A-01R-1157-13 & TCGA-D7-A748-01A-12R-A32D-31 & TCGA-CD-A487-01A-21R-A24K-31 & TCGA-VQ-A8E2-01A-11R-A36D-31 & TCGA-HU-A4GU-01A-11R-A251-31 & TCGA-IN-8462-01A-11R-2343-13 & TCGA-VQ-A8PM-01A-21R-A414-31 & TCGA-CD-A4MI-01A-21R-A251-31 & ⋯ & TCGA-BR-8483-01A-31R-2402-13 & TCGA-MX-A663-01A-11R-A31P-31 & TCGA-CG-5732-01A-11R-1602-13 & TCGA-D7-8573-01A-11R-2343-13 & TCGA-BR-8369-01A-11R-2343-13 & TCGA-CD-A48C-01A-11R-A24K-31 & TCGA-HU-A4GN-11A-12R-A251-31 & TCGA-HU-A4GP-01A-11R-A251-31 & TCGA-HU-A4GP-11A-21R-A251-31 & TCGA-IN-A7NR-01A-11R-A354-31\\\\\n",
       "\\hline\n",
       "\tTSPAN6 & 59.2364 &  19.5851 &  14.2098 & 25.9082 &  29.2885 & 110.7458 &  52.3122 & 24.7321 & 15.7989 & 12.7600 & ⋯ &  36.7444 &  34.6704 &  12.0592 &  52.3324 & 12.8526 &  11.0419 &  5.5090 &  7.9106 &  6.2648 & 31.4263\\\\\n",
       "\tTNMD &  0.0731 &   0.1442 &   0.0000 &  4.2802 &   0.0000 &   0.1422 &   0.0000 &  0.0000 &  0.0938 &  0.0000 & ⋯ &   0.0778 &   3.5912 &   0.0300 &   0.0897 &  1.6085 &   0.5861 &  0.0242 &  0.0218 &  0.4541 &  0.0000\\\\\n",
       "\tDPM1 & 65.7239 & 103.8039 & 179.7869 & 51.9467 & 203.1705 & 223.5544 & 156.7371 & 56.7515 & 81.0291 & 81.0043 & ⋯ & 160.2547 & 105.5490 & 175.1918 & 150.2887 & 81.9953 & 169.2101 & 75.6365 & 75.9374 & 60.6077 & 57.4219\\\\\n",
       "\tSCYL3 &  7.3979 &   4.9516 &   7.2135 &  3.7602 &   4.1040 &   9.3793 &   7.4444 &  3.6755 &  5.8748 &  3.8527 & ⋯ &   7.9327 &   4.7947 &   4.6487 &   6.2041 &  9.9520 &   5.1738 &  3.7341 &  3.7284 &  4.2844 &  3.9691\\\\\n",
       "\tC1orf112 &  3.6744 &   3.8857 &   6.8641 &  1.1948 &   3.5078 &  14.6292 &   6.7366 &  1.0898 &  2.1630 &  0.9785 & ⋯ &   4.3854 &   3.4665 &   1.7791 &   4.6405 &  4.4482 &   4.7623 &  0.6628 &  4.0016 &  1.1002 &  2.1011\\\\\n",
       "\tFGR &  6.7306 &   1.2945 &  18.0266 & 17.8965 &   7.9721 &   6.6422 &   3.2699 &  3.2980 &  4.0230 & 16.1442 & ⋯ &   1.4939 &   6.5690 &   6.0195 &   4.1871 &  6.6821 &   4.1436 &  4.0475 &  2.4594 &  4.1417 &  3.3317\\\\\n",
       "\\end{tabular}\n"
      ],
      "text/markdown": [
       "\n",
       "A matrix: 6 × 448 of type dbl\n",
       "\n",
       "| <!--/--> | TCGA-BR-8362-01A-11R-2343-13 | TCGA-3M-AB46-01A-11R-A414-31 | TCGA-BR-4357-01A-01R-1157-13 | TCGA-D7-A748-01A-12R-A32D-31 | TCGA-CD-A487-01A-21R-A24K-31 | TCGA-VQ-A8E2-01A-11R-A36D-31 | TCGA-HU-A4GU-01A-11R-A251-31 | TCGA-IN-8462-01A-11R-2343-13 | TCGA-VQ-A8PM-01A-21R-A414-31 | TCGA-CD-A4MI-01A-21R-A251-31 | ⋯ | TCGA-BR-8483-01A-31R-2402-13 | TCGA-MX-A663-01A-11R-A31P-31 | TCGA-CG-5732-01A-11R-1602-13 | TCGA-D7-8573-01A-11R-2343-13 | TCGA-BR-8369-01A-11R-2343-13 | TCGA-CD-A48C-01A-11R-A24K-31 | TCGA-HU-A4GN-11A-12R-A251-31 | TCGA-HU-A4GP-01A-11R-A251-31 | TCGA-HU-A4GP-11A-21R-A251-31 | TCGA-IN-A7NR-01A-11R-A354-31 |\n",
       "|---|---|---|---|---|---|---|---|---|---|---|---|---|---|---|---|---|---|---|---|---|---|\n",
       "| TSPAN6 | 59.2364 |  19.5851 |  14.2098 | 25.9082 |  29.2885 | 110.7458 |  52.3122 | 24.7321 | 15.7989 | 12.7600 | ⋯ |  36.7444 |  34.6704 |  12.0592 |  52.3324 | 12.8526 |  11.0419 |  5.5090 |  7.9106 |  6.2648 | 31.4263 |\n",
       "| TNMD |  0.0731 |   0.1442 |   0.0000 |  4.2802 |   0.0000 |   0.1422 |   0.0000 |  0.0000 |  0.0938 |  0.0000 | ⋯ |   0.0778 |   3.5912 |   0.0300 |   0.0897 |  1.6085 |   0.5861 |  0.0242 |  0.0218 |  0.4541 |  0.0000 |\n",
       "| DPM1 | 65.7239 | 103.8039 | 179.7869 | 51.9467 | 203.1705 | 223.5544 | 156.7371 | 56.7515 | 81.0291 | 81.0043 | ⋯ | 160.2547 | 105.5490 | 175.1918 | 150.2887 | 81.9953 | 169.2101 | 75.6365 | 75.9374 | 60.6077 | 57.4219 |\n",
       "| SCYL3 |  7.3979 |   4.9516 |   7.2135 |  3.7602 |   4.1040 |   9.3793 |   7.4444 |  3.6755 |  5.8748 |  3.8527 | ⋯ |   7.9327 |   4.7947 |   4.6487 |   6.2041 |  9.9520 |   5.1738 |  3.7341 |  3.7284 |  4.2844 |  3.9691 |\n",
       "| C1orf112 |  3.6744 |   3.8857 |   6.8641 |  1.1948 |   3.5078 |  14.6292 |   6.7366 |  1.0898 |  2.1630 |  0.9785 | ⋯ |   4.3854 |   3.4665 |   1.7791 |   4.6405 |  4.4482 |   4.7623 |  0.6628 |  4.0016 |  1.1002 |  2.1011 |\n",
       "| FGR |  6.7306 |   1.2945 |  18.0266 | 17.8965 |   7.9721 |   6.6422 |   3.2699 |  3.2980 |  4.0230 | 16.1442 | ⋯ |   1.4939 |   6.5690 |   6.0195 |   4.1871 |  6.6821 |   4.1436 |  4.0475 |  2.4594 |  4.1417 |  3.3317 |\n",
       "\n"
      ],
      "text/plain": [
       "         TCGA-BR-8362-01A-11R-2343-13 TCGA-3M-AB46-01A-11R-A414-31\n",
       "TSPAN6   59.2364                       19.5851                    \n",
       "TNMD      0.0731                        0.1442                    \n",
       "DPM1     65.7239                      103.8039                    \n",
       "SCYL3     7.3979                        4.9516                    \n",
       "C1orf112  3.6744                        3.8857                    \n",
       "FGR       6.7306                        1.2945                    \n",
       "         TCGA-BR-4357-01A-01R-1157-13 TCGA-D7-A748-01A-12R-A32D-31\n",
       "TSPAN6    14.2098                     25.9082                     \n",
       "TNMD       0.0000                      4.2802                     \n",
       "DPM1     179.7869                     51.9467                     \n",
       "SCYL3      7.2135                      3.7602                     \n",
       "C1orf112   6.8641                      1.1948                     \n",
       "FGR       18.0266                     17.8965                     \n",
       "         TCGA-CD-A487-01A-21R-A24K-31 TCGA-VQ-A8E2-01A-11R-A36D-31\n",
       "TSPAN6    29.2885                     110.7458                    \n",
       "TNMD       0.0000                       0.1422                    \n",
       "DPM1     203.1705                     223.5544                    \n",
       "SCYL3      4.1040                       9.3793                    \n",
       "C1orf112   3.5078                      14.6292                    \n",
       "FGR        7.9721                       6.6422                    \n",
       "         TCGA-HU-A4GU-01A-11R-A251-31 TCGA-IN-8462-01A-11R-2343-13\n",
       "TSPAN6    52.3122                     24.7321                     \n",
       "TNMD       0.0000                      0.0000                     \n",
       "DPM1     156.7371                     56.7515                     \n",
       "SCYL3      7.4444                      3.6755                     \n",
       "C1orf112   6.7366                      1.0898                     \n",
       "FGR        3.2699                      3.2980                     \n",
       "         TCGA-VQ-A8PM-01A-21R-A414-31 TCGA-CD-A4MI-01A-21R-A251-31 ⋯\n",
       "TSPAN6   15.7989                      12.7600                      ⋯\n",
       "TNMD      0.0938                       0.0000                      ⋯\n",
       "DPM1     81.0291                      81.0043                      ⋯\n",
       "SCYL3     5.8748                       3.8527                      ⋯\n",
       "C1orf112  2.1630                       0.9785                      ⋯\n",
       "FGR       4.0230                      16.1442                      ⋯\n",
       "         TCGA-BR-8483-01A-31R-2402-13 TCGA-MX-A663-01A-11R-A31P-31\n",
       "TSPAN6    36.7444                      34.6704                    \n",
       "TNMD       0.0778                       3.5912                    \n",
       "DPM1     160.2547                     105.5490                    \n",
       "SCYL3      7.9327                       4.7947                    \n",
       "C1orf112   4.3854                       3.4665                    \n",
       "FGR        1.4939                       6.5690                    \n",
       "         TCGA-CG-5732-01A-11R-1602-13 TCGA-D7-8573-01A-11R-2343-13\n",
       "TSPAN6    12.0592                      52.3324                    \n",
       "TNMD       0.0300                       0.0897                    \n",
       "DPM1     175.1918                     150.2887                    \n",
       "SCYL3      4.6487                       6.2041                    \n",
       "C1orf112   1.7791                       4.6405                    \n",
       "FGR        6.0195                       4.1871                    \n",
       "         TCGA-BR-8369-01A-11R-2343-13 TCGA-CD-A48C-01A-11R-A24K-31\n",
       "TSPAN6   12.8526                       11.0419                    \n",
       "TNMD      1.6085                        0.5861                    \n",
       "DPM1     81.9953                      169.2101                    \n",
       "SCYL3     9.9520                        5.1738                    \n",
       "C1orf112  4.4482                        4.7623                    \n",
       "FGR       6.6821                        4.1436                    \n",
       "         TCGA-HU-A4GN-11A-12R-A251-31 TCGA-HU-A4GP-01A-11R-A251-31\n",
       "TSPAN6    5.5090                       7.9106                     \n",
       "TNMD      0.0242                       0.0218                     \n",
       "DPM1     75.6365                      75.9374                     \n",
       "SCYL3     3.7341                       3.7284                     \n",
       "C1orf112  0.6628                       4.0016                     \n",
       "FGR       4.0475                       2.4594                     \n",
       "         TCGA-HU-A4GP-11A-21R-A251-31 TCGA-IN-A7NR-01A-11R-A354-31\n",
       "TSPAN6    6.2648                      31.4263                     \n",
       "TNMD      0.4541                       0.0000                     \n",
       "DPM1     60.6077                      57.4219                     \n",
       "SCYL3     4.2844                       3.9691                     \n",
       "C1orf112  1.1002                       2.1011                     \n",
       "FGR       4.1417                       3.3317                     "
      ]
     },
     "metadata": {},
     "output_type": "display_data"
    }
   ],
   "source": [
    "head(STAD_exp)"
   ]
  },
  {
   "cell_type": "markdown",
   "id": "3af79850-41f8-4d8b-be1e-468d93d4ee8c",
   "metadata": {},
   "source": [
    "## 保存数据"
   ]
  },
  {
   "cell_type": "code",
   "execution_count": null,
   "id": "07e5ada8-d7d7-43d4-a9a3-a93d0a2bc19f",
   "metadata": {},
   "outputs": [],
   "source": [
    "Out=rbind(colnames(STAD_exp), STAD_exp)\n",
    "write.table(Out, file=\"../step3-survival analysis/STAD_exp.txt\", sep=\"\\t\", quote=F, col.names=F)  "
   ]
  },
  {
   "cell_type": "markdown",
   "id": "84a7b392-1ec0-45b8-83c5-5a055e9f3b45",
   "metadata": {},
   "source": [
    "## 下载临床数据"
   ]
  },
  {
   "cell_type": "code",
   "execution_count": 33,
   "id": "5a9cab02-8cd0-46da-bf0c-50f19eae9596",
   "metadata": {
    "scrolled": true
   },
   "outputs": [
    {
     "name": "stderr",
     "output_type": "stream",
     "text": [
      "--------------------------------------\n",
      "\n",
      "o GDCquery: Searching in GDC database\n",
      "\n",
      "--------------------------------------\n",
      "\n",
      "Genome of reference: hg38\n",
      "\n",
      "--------------------------------------------\n",
      "\n",
      "oo Accessing GDC. This might take a while...\n",
      "\n",
      "--------------------------------------------\n",
      "\n",
      "ooo Project: TCGA-STAD\n",
      "\n",
      "--------------------\n",
      "\n",
      "oo Filtering results\n",
      "\n",
      "--------------------\n",
      "\n",
      "ooo By data.format\n",
      "\n",
      "ooo By data.type\n",
      "\n",
      "----------------\n",
      "\n",
      "oo Checking data\n",
      "\n",
      "----------------\n",
      "\n",
      "ooo Checking if there are duplicated cases\n",
      "\n",
      "ooo Checking if there are results for the query\n",
      "\n",
      "-------------------\n",
      "\n",
      "o Preparing output\n",
      "\n",
      "-------------------\n",
      "\n"
     ]
    }
   ],
   "source": [
    "query <- GDCquery(\n",
    "  project = \"TCGA-STAD\", \n",
    "  data.category = \"Clinical\",\n",
    "  data.type = \"Clinical Supplement\", \n",
    "  data.format = \"BCR XML\"\n",
    ")"
   ]
  },
  {
   "cell_type": "code",
   "execution_count": 36,
   "id": "2d0548d2-9dc0-4bc7-905c-e2b6f9ac1e7f",
   "metadata": {},
   "outputs": [
    {
     "name": "stderr",
     "output_type": "stream",
     "text": [
      "Downloading data for project TCGA-STAD\n",
      "\n",
      "GDCdownload will download 443 files. A total of 18.303488 MB\n",
      "\n",
      "Downloading as: Thu_Aug__3_14_23_12_2023.tar.gz\n",
      "\n"
     ]
    },
    {
     "name": "stdout",
     "output_type": "stream",
     "text": [
      "Downloading: 1.7 MB       "
     ]
    }
   ],
   "source": [
    "GDCdownload(query)"
   ]
  },
  {
   "cell_type": "code",
   "execution_count": 37,
   "id": "8a674fca-1ffb-4a69-b430-6a6d70af4bbb",
   "metadata": {},
   "outputs": [
    {
     "name": "stderr",
     "output_type": "stream",
     "text": [
      "Parsing follow up version: follow_up_v1.0\n",
      "\n"
     ]
    },
    {
     "name": "stdout",
     "output_type": "stream",
     "text": [
      "  |======================================================================| 100%\n"
     ]
    }
   ],
   "source": [
    "cli <- GDCprepare_clinic(query,'follow_up') ###‘follow_up’可能表示生存数据"
   ]
  },
  {
   "cell_type": "code",
   "execution_count": 38,
   "id": "80899566-8979-49b8-91b3-34e4a7bf1aea",
   "metadata": {},
   "outputs": [],
   "source": [
    "cli <- cli%>%\n",
    "  select(bcr_followup_barcode,vital_status,\n",
    "         days_to_death,days_to_last_followup)%>%\n",
    "  distinct(bcr_followup_barcode,.keep_all = T)"
   ]
  },
  {
   "cell_type": "code",
   "execution_count": 39,
   "id": "e378d0b0-d96a-401b-bbed-b97aa0ef27d9",
   "metadata": {},
   "outputs": [
    {
     "data": {
      "text/html": [
       "<table class=\"dataframe\">\n",
       "<caption>A data.frame: 6 × 4</caption>\n",
       "<thead>\n",
       "\t<tr><th></th><th scope=col>bcr_followup_barcode</th><th scope=col>vital_status</th><th scope=col>days_to_death</th><th scope=col>days_to_last_followup</th></tr>\n",
       "\t<tr><th></th><th scope=col>&lt;chr&gt;</th><th scope=col>&lt;fct&gt;</th><th scope=col>&lt;int&gt;</th><th scope=col>&lt;int&gt;</th></tr>\n",
       "</thead>\n",
       "<tbody>\n",
       "\t<tr><th scope=row>1</th><td>TCGA-BR-8362-F53209</td><td>Dead </td><td>398</td><td>  NA</td></tr>\n",
       "\t<tr><th scope=row>2</th><td>TCGA-3M-AB46-F66616</td><td>Alive</td><td> NA</td><td>1765</td></tr>\n",
       "\t<tr><th scope=row>3</th><td>TCGA-BR-4357-F57731</td><td>     </td><td> NA</td><td>  NA</td></tr>\n",
       "\t<tr><th scope=row>4</th><td>TCGA-D7-A748-F58328</td><td>Dead </td><td>132</td><td>  NA</td></tr>\n",
       "\t<tr><th scope=row>5</th><td>TCGA-F1-A448-F43607</td><td>Alive</td><td> NA</td><td> 501</td></tr>\n",
       "\t<tr><th scope=row>6</th><td>TCGA-F1-A448-F50395</td><td>Alive</td><td> NA</td><td> 647</td></tr>\n",
       "</tbody>\n",
       "</table>\n"
      ],
      "text/latex": [
       "A data.frame: 6 × 4\n",
       "\\begin{tabular}{r|llll}\n",
       "  & bcr\\_followup\\_barcode & vital\\_status & days\\_to\\_death & days\\_to\\_last\\_followup\\\\\n",
       "  & <chr> & <fct> & <int> & <int>\\\\\n",
       "\\hline\n",
       "\t1 & TCGA-BR-8362-F53209 & Dead  & 398 &   NA\\\\\n",
       "\t2 & TCGA-3M-AB46-F66616 & Alive &  NA & 1765\\\\\n",
       "\t3 & TCGA-BR-4357-F57731 &       &  NA &   NA\\\\\n",
       "\t4 & TCGA-D7-A748-F58328 & Dead  & 132 &   NA\\\\\n",
       "\t5 & TCGA-F1-A448-F43607 & Alive &  NA &  501\\\\\n",
       "\t6 & TCGA-F1-A448-F50395 & Alive &  NA &  647\\\\\n",
       "\\end{tabular}\n"
      ],
      "text/markdown": [
       "\n",
       "A data.frame: 6 × 4\n",
       "\n",
       "| <!--/--> | bcr_followup_barcode &lt;chr&gt; | vital_status &lt;fct&gt; | days_to_death &lt;int&gt; | days_to_last_followup &lt;int&gt; |\n",
       "|---|---|---|---|---|\n",
       "| 1 | TCGA-BR-8362-F53209 | Dead  | 398 |   NA |\n",
       "| 2 | TCGA-3M-AB46-F66616 | Alive |  NA | 1765 |\n",
       "| 3 | TCGA-BR-4357-F57731 | <!----> |  NA |   NA |\n",
       "| 4 | TCGA-D7-A748-F58328 | Dead  | 132 |   NA |\n",
       "| 5 | TCGA-F1-A448-F43607 | Alive |  NA |  501 |\n",
       "| 6 | TCGA-F1-A448-F50395 | Alive |  NA |  647 |\n",
       "\n"
      ],
      "text/plain": [
       "  bcr_followup_barcode vital_status days_to_death days_to_last_followup\n",
       "1 TCGA-BR-8362-F53209  Dead         398             NA                 \n",
       "2 TCGA-3M-AB46-F66616  Alive         NA           1765                 \n",
       "3 TCGA-BR-4357-F57731                NA             NA                 \n",
       "4 TCGA-D7-A748-F58328  Dead         132             NA                 \n",
       "5 TCGA-F1-A448-F43607  Alive         NA            501                 \n",
       "6 TCGA-F1-A448-F50395  Alive         NA            647                 "
      ]
     },
     "metadata": {},
     "output_type": "display_data"
    }
   ],
   "source": [
    "head(cli)  ###在cli数据中，死亡病例的days_to_last_followup数据为缺失值；存活病例中day_to_death为缺失值\n",
    "        ###我们需要存活时间，所以要分开整理死亡和存活数据，然后拼接在一起"
   ]
  },
  {
   "cell_type": "code",
   "execution_count": 40,
   "id": "fa7d6ba4-ebbe-49cf-8cfd-16416842d23a",
   "metadata": {},
   "outputs": [
    {
     "data": {
      "text/plain": [
       "\n",
       "      Alive  Dead \n",
       "   17   340   114 "
      ]
     },
     "metadata": {},
     "output_type": "display_data"
    }
   ],
   "source": [
    "table(cli$vital_status)"
   ]
  },
  {
   "cell_type": "markdown",
   "id": "07730870-af9f-4d33-9f42-7eb99e0c3e92",
   "metadata": {},
   "source": [
    "### 整理死亡病例数据"
   ]
  },
  {
   "cell_type": "code",
   "execution_count": 41,
   "id": "27c7705b-5a49-4df9-a6f4-48c465186dba",
   "metadata": {},
   "outputs": [],
   "source": [
    " dead_patient <- cli %>%\n",
    "    dplyr::filter(vital_status == 'Dead')%>%\n",
    "    dplyr::select(-days_to_last_followup) \n",
    "  colnames(dead_patient) <- c('Barcode','fustat','futime')\n",
    "  dead_patient <- dead_patient %>% mutate(fustat=ifelse(fustat=='Dead',1,0))%>%\n",
    "  mutate(futime=futime/365)"
   ]
  },
  {
   "cell_type": "code",
   "execution_count": 42,
   "id": "00c864ad-0f24-4025-88cc-7e4ad35a4759",
   "metadata": {},
   "outputs": [
    {
     "data": {
      "text/html": [
       "<table class=\"dataframe\">\n",
       "<caption>A data.frame: 6 × 3</caption>\n",
       "<thead>\n",
       "\t<tr><th></th><th scope=col>Barcode</th><th scope=col>fustat</th><th scope=col>futime</th></tr>\n",
       "\t<tr><th></th><th scope=col>&lt;chr&gt;</th><th scope=col>&lt;dbl&gt;</th><th scope=col>&lt;dbl&gt;</th></tr>\n",
       "</thead>\n",
       "<tbody>\n",
       "\t<tr><th scope=row>1</th><td>TCGA-BR-8362-F53209</td><td>1</td><td>1.0904110</td></tr>\n",
       "\t<tr><th scope=row>2</th><td>TCGA-D7-A748-F58328</td><td>1</td><td>0.3616438</td></tr>\n",
       "\t<tr><th scope=row>3</th><td>TCGA-BR-8590-F53252</td><td>1</td><td>0.7780822</td></tr>\n",
       "\t<tr><th scope=row>4</th><td>TCGA-D7-6527-F22127</td><td>1</td><td>0.8547945</td></tr>\n",
       "\t<tr><th scope=row>5</th><td>TCGA-CG-5732-F39805</td><td>1</td><td>5.7534247</td></tr>\n",
       "\t<tr><th scope=row>6</th><td>TCGA-MX-A663-F59876</td><td>1</td><td>0.8219178</td></tr>\n",
       "</tbody>\n",
       "</table>\n"
      ],
      "text/latex": [
       "A data.frame: 6 × 3\n",
       "\\begin{tabular}{r|lll}\n",
       "  & Barcode & fustat & futime\\\\\n",
       "  & <chr> & <dbl> & <dbl>\\\\\n",
       "\\hline\n",
       "\t1 & TCGA-BR-8362-F53209 & 1 & 1.0904110\\\\\n",
       "\t2 & TCGA-D7-A748-F58328 & 1 & 0.3616438\\\\\n",
       "\t3 & TCGA-BR-8590-F53252 & 1 & 0.7780822\\\\\n",
       "\t4 & TCGA-D7-6527-F22127 & 1 & 0.8547945\\\\\n",
       "\t5 & TCGA-CG-5732-F39805 & 1 & 5.7534247\\\\\n",
       "\t6 & TCGA-MX-A663-F59876 & 1 & 0.8219178\\\\\n",
       "\\end{tabular}\n"
      ],
      "text/markdown": [
       "\n",
       "A data.frame: 6 × 3\n",
       "\n",
       "| <!--/--> | Barcode &lt;chr&gt; | fustat &lt;dbl&gt; | futime &lt;dbl&gt; |\n",
       "|---|---|---|---|\n",
       "| 1 | TCGA-BR-8362-F53209 | 1 | 1.0904110 |\n",
       "| 2 | TCGA-D7-A748-F58328 | 1 | 0.3616438 |\n",
       "| 3 | TCGA-BR-8590-F53252 | 1 | 0.7780822 |\n",
       "| 4 | TCGA-D7-6527-F22127 | 1 | 0.8547945 |\n",
       "| 5 | TCGA-CG-5732-F39805 | 1 | 5.7534247 |\n",
       "| 6 | TCGA-MX-A663-F59876 | 1 | 0.8219178 |\n",
       "\n"
      ],
      "text/plain": [
       "  Barcode             fustat futime   \n",
       "1 TCGA-BR-8362-F53209 1      1.0904110\n",
       "2 TCGA-D7-A748-F58328 1      0.3616438\n",
       "3 TCGA-BR-8590-F53252 1      0.7780822\n",
       "4 TCGA-D7-6527-F22127 1      0.8547945\n",
       "5 TCGA-CG-5732-F39805 1      5.7534247\n",
       "6 TCGA-MX-A663-F59876 1      0.8219178"
      ]
     },
     "metadata": {},
     "output_type": "display_data"
    }
   ],
   "source": [
    "head(dead_patient)"
   ]
  },
  {
   "cell_type": "markdown",
   "id": "fcb8f6d1-6683-45af-b478-076b51a3c9fe",
   "metadata": {},
   "source": [
    "## 整理存活病人数据"
   ]
  },
  {
   "cell_type": "code",
   "execution_count": 43,
   "id": "54e03ff0-a7c2-49a9-89a1-cc3ace7ee5e0",
   "metadata": {},
   "outputs": [],
   "source": [
    "alive_patient <- cli %>%\n",
    "    dplyr::filter(vital_status == 'Alive')%>%\n",
    "    dplyr::select(-days_to_death) \n",
    "  colnames(alive_patient) <- c('Barcode','fustat','futime')\n",
    "  alive_patient <- alive_patient %>% mutate(fustat=ifelse(fustat=='Dead',1,0))%>%\n",
    "    mutate(futime=futime/365) "
   ]
  },
  {
   "cell_type": "code",
   "execution_count": 44,
   "id": "ce0430c8-fa8a-448a-8fcd-587dae78233f",
   "metadata": {},
   "outputs": [],
   "source": [
    "survival_data <- rbind(dead_patient,alive_patient)"
   ]
  },
  {
   "cell_type": "markdown",
   "id": "a68635f8-8a6e-455b-b034-2659342e551a",
   "metadata": {},
   "source": [
    "### 至此所有数据下载完成"
   ]
  }
 ],
 "metadata": {
  "kernelspec": {
   "display_name": "R",
   "language": "R",
   "name": "ir"
  },
  "language_info": {
   "codemirror_mode": "r",
   "file_extension": ".r",
   "mimetype": "text/x-r-source",
   "name": "R",
   "pygments_lexer": "r",
   "version": "4.3.1"
  }
 },
 "nbformat": 4,
 "nbformat_minor": 5
}
