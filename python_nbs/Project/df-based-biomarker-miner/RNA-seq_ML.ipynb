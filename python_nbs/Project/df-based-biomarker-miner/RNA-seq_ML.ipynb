{
 "cells": [
  {
   "cell_type": "code",
   "execution_count": 1,
   "id": "7e02ad50-d591-48f2-9d43-497f10e6bb75",
   "metadata": {},
   "outputs": [],
   "source": [
    "%reload_ext autoreload\n",
    "%autoreload 2\n",
    "%matplotlib inline"
   ]
  },
  {
   "cell_type": "code",
   "execution_count": 34,
   "id": "e8bebb04-bede-4421-9bc2-db3bc150ea1b",
   "metadata": {},
   "outputs": [],
   "source": [
    "#Export\n",
    "#!/data/users/machiyu/anaconda3/envs/Flask/bin/python\n",
    "\n",
    "from support_f_and_m import *"
   ]
  },
  {
   "cell_type": "code",
   "execution_count": 32,
   "id": "f231d88e-6183-48f5-9959-49fa2eafd4f8",
   "metadata": {},
   "outputs": [
    {
     "name": "stdout",
     "output_type": "stream",
     "text": [
      "Collecting rpy2\n",
      "  Using cached rpy2-3.5.13-cp38-cp38-linux_x86_64.whl\n",
      "Requirement already satisfied: cffi>=1.10.0 in /home/hwsw/miniconda3/envs/jupyter/lib/python3.8/site-packages (from rpy2) (1.15.1)\n",
      "Requirement already satisfied: jinja2 in /home/hwsw/miniconda3/envs/jupyter/lib/python3.8/site-packages (from rpy2) (3.1.2)\n",
      "Collecting tzlocal (from rpy2)\n",
      "  Using cached tzlocal-5.0.1-py3-none-any.whl (20 kB)\n",
      "Collecting backports.zoneinfo (from rpy2)\n",
      "  Using cached backports.zoneinfo-0.2.1-cp38-cp38-manylinux1_x86_64.whl (74 kB)\n",
      "Requirement already satisfied: pycparser in /home/hwsw/miniconda3/envs/jupyter/lib/python3.8/site-packages (from cffi>=1.10.0->rpy2) (2.21)\n",
      "Requirement already satisfied: MarkupSafe>=2.0 in /home/hwsw/miniconda3/envs/jupyter/lib/python3.8/site-packages (from jinja2->rpy2) (2.1.3)\n",
      "Installing collected packages: backports.zoneinfo, tzlocal, rpy2\n",
      "Successfully installed backports.zoneinfo-0.2.1 rpy2-3.5.13 tzlocal-5.0.1\n",
      "Note: you may need to restart the kernel to use updated packages.\n"
     ]
    }
   ],
   "source": [
    "pip install rpy2"
   ]
  },
  {
   "cell_type": "code",
   "execution_count": null,
   "id": "bec9bb4b-55d5-4e03-97f3-ee15c6063da3",
   "metadata": {},
   "outputs": [],
   "source": []
  }
 ],
 "metadata": {
  "kernelspec": {
   "display_name": "Python 3 (ipykernel)",
   "language": "python",
   "name": "python3"
  },
  "language_info": {
   "codemirror_mode": {
    "name": "ipython",
    "version": 3
   },
   "file_extension": ".py",
   "mimetype": "text/x-python",
   "name": "python",
   "nbconvert_exporter": "python",
   "pygments_lexer": "ipython3",
   "version": "3.8.16"
  }
 },
 "nbformat": 4,
 "nbformat_minor": 5
}
