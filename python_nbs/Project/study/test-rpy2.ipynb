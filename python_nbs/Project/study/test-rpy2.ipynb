{
 "cells": [
  {
   "cell_type": "code",
   "execution_count": 3,
   "id": "e631fde9-ea92-4f16-b0ab-660db36800a0",
   "metadata": {},
   "outputs": [],
   "source": [
    "import pandas as pd\n",
    "import numpy as np\n",
    "import rpy2.robjects as ro\n",
    "from rpy2.robjects.packages import importr\n",
    "from rpy2.robjects import r,pandas2ri\n",
    "from rpy2.robjects.conversion import localconverter"
   ]
  },
  {
   "cell_type": "code",
   "execution_count": 68,
   "id": "71e7e864-71a6-41d7-b8be-c00726abb2fe",
   "metadata": {},
   "outputs": [
    {
     "name": "stdout",
     "output_type": "stream",
     "text": [
      "3.141592653589793\n"
     ]
    }
   ],
   "source": [
    "t0=ro.r['pi']\n",
    "print(t0[0])"
   ]
  },
  {
   "cell_type": "code",
   "execution_count": 69,
   "id": "b271e613-15e4-4e19-8739-bec62df27617",
   "metadata": {},
   "outputs": [
    {
     "name": "stdout",
     "output_type": "stream",
     "text": [
      "3.141592653589793\n",
      "[1] 1 2 3\n",
      "\n"
     ]
    }
   ],
   "source": [
    "t1=ro.r('pi')# 这种方法从某种程度上讲是万能的，因为可以将任意大小和长度的R代码写成一个python字符串，之后通过ro.r('Rcode')调用执行\n",
    "print(t1[0])\n",
    "a = ro.r('a<-c(1,2,3)')\n",
    "print(a)"
   ]
  },
  {
   "cell_type": "code",
   "execution_count": 70,
   "id": "c27dabfd-337e-4402-9a8b-f63df483d069",
   "metadata": {},
   "outputs": [
    {
     "name": "stdout",
     "output_type": "stream",
     "text": [
      "3.141592653589793\n"
     ]
    }
   ],
   "source": [
    "t2=ro.r.pi# 这种方法对于名称中有“点号”的变量会出问题，比如data.frame/read.csv等\n",
    "print(t2[0])"
   ]
  },
  {
   "cell_type": "code",
   "execution_count": 71,
   "id": "6434f06b-63c4-4de6-b29b-fa97bfd63736",
   "metadata": {},
   "outputs": [
    {
     "name": "stdout",
     "output_type": "stream",
     "text": [
      "$a\n",
      "     [,1] [,2] [,3] [,4] [,5]\n",
      "[1,]    1    3    5    7    9\n",
      "[2,]    2    4    6    8   10\n",
      "\n",
      "$b\n",
      "[1] \"Hello\"\n",
      "\n",
      "\n",
      "[1] \"a\" \"b\"\n",
      "\n",
      "$a\n",
      "     [,1] [,2] [,3] [,4] [,5]\n",
      "[1,]    1    3    5    7    9\n",
      "[2,]    2    4    6    8   10\n",
      "\n",
      "\n",
      "$a\n",
      "     [,1] [,2] [,3] [,4] [,5]\n",
      "[1,]    1    3    5    7    9\n",
      "[2,]    2    4    6    8   10\n",
      "\n",
      "\n",
      "     [,1] [,2] [,3] [,4] [,5]\n",
      "[1,]    1    3    5    7    9\n",
      "[2,]    2    4    6    8   10\n",
      "\n",
      "[1] 1\n",
      "\n",
      "[1] 1 3 5 7 9\n",
      "\n"
     ]
    }
   ],
   "source": [
    "tmp = ro.r(\"list(a = matrix(1:10, nrow = 2), b = 'Hello')\")\n",
    "print(tmp)\n",
    "print(tmp.names)\n",
    "print(tmp.rx('a'))\n",
    "print(tmp.rx(1))\n",
    "print(tmp.rx2(1))\n",
    "print(tmp.rx2('a').rx(1, 1)) # first element of 'a'\n",
    "print(tmp.rx2('a').rx(1, True))# first row of 'a'"
   ]
  },
  {
   "cell_type": "code",
   "execution_count": 72,
   "id": "3d291dc5-ed34-4019-ac4c-b86237103cfb",
   "metadata": {},
   "outputs": [
    {
     "name": "stdout",
     "output_type": "stream",
     "text": [
      "9.425\n"
     ]
    }
   ],
   "source": [
    "ro.r('''\n",
    "           f <- function(r){pi * r}\n",
    "           ''')\n",
    "t3=ro.r['f'](3)\n",
    "print('%.3f'%t3[0])"
   ]
  },
  {
   "cell_type": "code",
   "execution_count": 79,
   "id": "5a780776-f985-46d7-8b68-459bdd85f27f",
   "metadata": {},
   "outputs": [
    {
     "name": "stdout",
     "output_type": "stream",
     "text": [
      "[1] \"--------here is the random model-------\"\n",
      "\n",
      "Call:\n",
      " randomForest(formula = Species ~ ., data = data, importance = T,      proximity = T) \n",
      "               Type of random forest: classification\n",
      "                     Number of trees: 500\n",
      "No. of variables tried at each split: 2\n",
      "\n",
      "        OOB estimate of  error rate: 4.67%\n",
      "Confusion matrix:\n",
      "           setosa versicolor virginica class.error\n",
      "setosa         50          0         0        0.00\n",
      "versicolor      0         47         3        0.06\n",
      "virginica       0          4        46        0.08\n",
      "[1] \"--------here is the names of model-----\"\n",
      " [1] \"call\"            \"type\"            \"predicted\"       \"err.rate\"       \n",
      " [5] \"confusion\"       \"votes\"           \"oob.times\"       \"classes\"        \n",
      " [9] \"importance\"      \"importanceSD\"    \"localImportance\" \"proximity\"      \n",
      "[13] \"ntree\"           \"mtry\"            \"forest\"          \"y\"              \n",
      "[17] \"test\"            \"inbag\"           \"terms\"          \n",
      "           setosa versicolor virginica class.error\n",
      "setosa         50          0         0        0.00\n",
      "versicolor      0         47         3        0.06\n",
      "virginica       0          4        46        0.08\n"
     ]
    },
    {
     "data": {
      "text/plain": [
       "<rpy2.robjects.functions.SignatureTranslatedFunction object at 0x7fbf7df44280> [RTYPES.CLOSXP]\n",
       "R classes: ('function',)"
      ]
     },
     "execution_count": 79,
     "metadata": {},
     "output_type": "execute_result"
    }
   ],
   "source": [
    "r_script = '''\n",
    "library(randomForest) # 导入随机森林包\n",
    "## use data set iris\n",
    "data = iris # 使用鸢尾花数据集\n",
    "table(data$Species)\n",
    "## create a randomForest model to classfy the iris species\n",
    "# 创建随机森林模型给鸢尾花分类\n",
    "iris.rf <- randomForest(Species~., data = data, importance=T, proximity=T)\n",
    "print('--------here is the random model-------')\n",
    "print(iris.rf)\n",
    "print('--------here is the names of model-----')\n",
    "print(names(iris.rf))\n",
    "confusion = iris.rf$confusion\n",
    "print(confusion)\n",
    "table\n",
    "'''\n",
    "ro.r(r_script)"
   ]
  },
  {
   "cell_type": "code",
   "execution_count": 5,
   "id": "5e590066-c0d7-44ac-bee1-3363885f88b6",
   "metadata": {},
   "outputs": [
    {
     "data": {
      "text/html": [
       "\n",
       "        <span>R/rpy2 DataFrame (1 x 4)</span>\n",
       "        <table>\n",
       "          <thead>\n",
       "            <tr>\n",
       "              \n",
       "              <th>a.1L</th>\n",
       "              \n",
       "              <th>a.2L</th>\n",
       "              \n",
       "              <th>b.3L</th>\n",
       "              \n",
       "              <th>b.4L</th>\n",
       "              \n",
       "            </tr>\n",
       "          </thead>\n",
       "          <tbody>\n",
       "          \n",
       "          <tr>\n",
       "            \n",
       "            <td>\n",
       "              ...\n",
       "            </td>\n",
       "            \n",
       "            <td>\n",
       "              ...\n",
       "            </td>\n",
       "            \n",
       "            <td>\n",
       "              ...\n",
       "            </td>\n",
       "            \n",
       "            <td>\n",
       "              ...\n",
       "            </td>\n",
       "            \n",
       "          </tr>\n",
       "          \n",
       "          </tbody>\n",
       "        </table>\n",
       "    "
      ],
      "text/plain": [
       "<rpy2.robjects.vectors.DataFrame object at 0x7fdcc568a180> [RTYPES.VECSXP]\n",
       "R classes: ('data.frame',)\n",
       "[IntSexpVec..., IntSexpVec..., IntSexpVec..., IntSexpVec...]\n",
       "  a.1L: <class 'rpy2.rinterface.IntSexpVector'>\n",
       "  <rpy2.rinterface.IntSexpVector object at 0x7fdcc56dedc0> [RTYPES.INTSXP]\n",
       "  a.2L: <class 'rpy2.rinterface.IntSexpVector'>\n",
       "  <rpy2.rinterface.IntSexpVector object at 0x7fdcc54eccc0> [RTYPES.INTSXP]\n",
       "  b.3L: <class 'rpy2.rinterface.IntSexpVector'>\n",
       "  <rpy2.rinterface.IntSexpVector object at 0x7fdcc54ecb40> [RTYPES.INTSXP]\n",
       "  b.4L: <class 'rpy2.rinterface.IntSexpVector'>\n",
       "  <rpy2.rinterface.IntSexpVector object at 0x7fdcc54eccc0> [RTYPES.INTSXP]"
      ]
     },
     "execution_count": 5,
     "metadata": {},
     "output_type": "execute_result"
    }
   ],
   "source": [
    "##python to R\n",
    "test = ro.DataFrame({'a':[1,2],'b':[3,4]})\n",
    "test"
   ]
  },
  {
   "cell_type": "code",
   "execution_count": 6,
   "id": "c1bad0d4-86bd-4b1d-af53-86d96ca19810",
   "metadata": {},
   "outputs": [
    {
     "data": {
      "text/plain": [
       "{'a': [1, 2], 'b': [3, 4]}"
      ]
     },
     "execution_count": 6,
     "metadata": {},
     "output_type": "execute_result"
    }
   ],
   "source": [
    "{'a':[1,2],'b':[3,4]}"
   ]
  },
  {
   "cell_type": "code",
   "execution_count": 85,
   "id": "53c28a48-1cbc-4268-b74f-9de117aeb7f4",
   "metadata": {},
   "outputs": [
    {
     "ename": "SyntaxError",
     "evalue": "invalid syntax. Maybe you meant '==' or ':=' instead of '='? (2180645451.py, line 3)",
     "output_type": "error",
     "traceback": [
      "\u001b[0;36m  Input \u001b[0;32mIn [85]\u001b[0;36m\u001b[0m\n\u001b[0;31m    sum_=x+y\u001b[0m\n\u001b[0m    ^\u001b[0m\n\u001b[0;31mSyntaxError\u001b[0m\u001b[0;31m:\u001b[0m invalid syntax. Maybe you meant '==' or ':=' instead of '='?\n"
     ]
    }
   ],
   "source": [
    "##返回数字和传递参数\n",
    "add <- function(x,y){\n",
    "  sum_=x+y\n",
    "  cat('In R:\\t',x,'+',y,'=',sum_,sep = ' ')\n",
    "  return(sum_)\n",
    "}\n",
    "\n",
    "x=4\n",
    "y=5\n",
    "res_int =robjects.r.add(x,y)\n",
    "print(type(res_int))\n",
    "print(type(res_int[0]))\n",
    "print(x,' + ',y,' = ',res_int[0])"
   ]
  },
  {
   "cell_type": "code",
   "execution_count": null,
   "id": "ab8941d9-32a3-4f61-84e8-db202dd31412",
   "metadata": {},
   "outputs": [],
   "source": []
  }
 ],
 "metadata": {
  "kernelspec": {
   "display_name": "Flask",
   "language": "python",
   "name": "flask"
  },
  "language_info": {
   "codemirror_mode": {
    "name": "ipython",
    "version": 3
   },
   "file_extension": ".py",
   "mimetype": "text/x-python",
   "name": "python",
   "nbconvert_exporter": "python",
   "pygments_lexer": "ipython3",
   "version": "3.10.5"
  }
 },
 "nbformat": 4,
 "nbformat_minor": 5
}
