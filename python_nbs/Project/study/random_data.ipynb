{
 "cells": [
  {
   "cell_type": "code",
   "execution_count": 14,
   "id": "36242bfa-64dd-49b5-908e-457ff39604c4",
   "metadata": {},
   "outputs": [],
   "source": [
    "import numpy as np\n",
    "import pandas as pd\n",
    "import matplotlib.pyplot as plt\n",
    "\n",
    "from sklearn.datasets import make_regression,make_hastie_10_2,make_classification,make_multilabel_classification,make_blobs,make_gaussian_quantiles\n",
    "from sklearn.covariance import EllipticEnvelope\n",
    "from sklearn.impute import KNNImputer\n",
    "from sklearn.ensemble import IsolationForest\n",
    "from sklearn.neighbors import LocalOutlierFactor"
   ]
  },
  {
   "cell_type": "code",
   "execution_count": 15,
   "id": "582621de-e131-4ef5-9f8e-bbce9dc6d27a",
   "metadata": {},
   "outputs": [],
   "source": [
    "data,_ = make_regression(n_samples=100,\n",
    "    n_features=200,\n",
    "    n_informative=10,\n",
    "    n_targets=1,\n",
    "    bias=0.0,\n",
    "    effective_rank=None,\n",
    "    tail_strength=0.5,\n",
    "    noise=0.0,\n",
    "    shuffle=True,\n",
    "    coef=False,\n",
    "    random_state=None)"
   ]
  },
  {
   "cell_type": "code",
   "execution_count": 18,
   "id": "2fb791af-e640-4736-98bd-659e207f0cb5",
   "metadata": {},
   "outputs": [
    {
     "name": "stderr",
     "output_type": "stream",
     "text": [
      "/data/users/machiyu/anaconda3/envs/Flask/lib/python3.10/site-packages/sklearn/covariance/_robust_covariance.py:738: UserWarning: The covariance matrix associated to your dataset is not full rank\n",
      "  warnings.warn(\n"
     ]
    },
    {
     "data": {
      "text/plain": [
       "array([ 1,  1,  1,  1,  1,  1,  1,  1,  1,  1,  1,  1,  1,  1,  1,  1, -1,\n",
       "        1, -1,  1,  1,  1,  1, -1,  1,  1,  1,  1,  1,  1,  1,  1,  1,  1,\n",
       "        1,  1,  1,  1,  1,  1,  1,  1,  1,  1,  1,  1,  1,  1,  1,  1,  1,\n",
       "        1,  1, -1,  1,  1,  1, -1,  1,  1,  1,  1,  1,  1, -1,  1,  1,  1,\n",
       "        1,  1,  1,  1,  1,  1,  1,  1,  1,  1,  1,  1,  1,  1,  1,  1,  1,\n",
       "        1,  1,  1,  1,  1,  1,  1,  1, -1,  1,  1,  1,  1,  1,  1])"
      ]
     },
     "execution_count": 18,
     "metadata": {},
     "output_type": "execute_result"
    }
   ],
   "source": [
    "detector = EllipticEnvelope()\n",
    "detector.fit(data)##拟合识别器\n",
    "detector.predict(data)##预测异常值"
   ]
  },
  {
   "cell_type": "code",
   "execution_count": 17,
   "id": "8227c435-b014-425b-a4e4-f6ffad12540b",
   "metadata": {},
   "outputs": [
    {
     "data": {
      "text/plain": [
       "array([ -75.47168667,  440.91494904,   80.16059595, -195.46450169,\n",
       "       -138.36843004,  146.76265678,   38.2671595 ,   95.89049717,\n",
       "       -314.69687899,   39.10481518,   42.43969168, -109.08364777,\n",
       "       -214.5283417 , -222.97344728,  -60.51987853, -308.945736  ,\n",
       "          6.4238039 ,  173.29106108,  131.92443587,  253.54153106,\n",
       "        115.54338427,  -52.42261396,  -14.66006221,  102.7363209 ,\n",
       "       -105.78463449,  165.82198124,  101.38001253,  228.51596516,\n",
       "       -138.30136682,  389.02014555,  389.1938125 ,   83.28281831,\n",
       "       -132.85992126,  200.13886997, -173.32166829, -107.79824224,\n",
       "         20.45306982,  -51.42735613, -362.83123744,  -29.77311833,\n",
       "        444.72396242,  117.83602757,  228.53550139, -173.49822153,\n",
       "       -179.38879859,  -65.81435289,   -2.32972954,  259.81819332,\n",
       "       -194.00732243,  452.93877115,   73.26697234,  123.09745213,\n",
       "         -5.61274605, -562.43212203,  -49.35251269,  228.62081278,\n",
       "        171.06581588,  -11.02200836, -107.06569853,  166.80784471,\n",
       "         16.38367474,    2.35241772,  114.90179363,  330.19750816,\n",
       "         13.725104  ,  684.9337065 ,  103.12759588,   19.74771176,\n",
       "       -153.33875001, -152.73597734, -407.04781149,  141.73019956,\n",
       "       -150.04265568, -139.61284341, -126.83388969,   34.66295471,\n",
       "        -68.77929292, -146.01111807,   50.22831581,  -87.56137637,\n",
       "       -237.16663207,  258.54096672,  297.87685263,  206.78909627,\n",
       "        -33.05411628,    9.9228512 ,  357.93889498, -343.63756105,\n",
       "        -25.57822156,   90.84497691,  -80.09901667,  102.32804185,\n",
       "        -65.99461161,  -94.132406  , -338.77612645,  174.8739358 ,\n",
       "       -113.98726174,  -63.10757562,  -73.3387553 , -274.70257205])"
      ]
     },
     "execution_count": 17,
     "metadata": {},
     "output_type": "execute_result"
    }
   ],
   "source": []
  },
  {
   "cell_type": "code",
   "execution_count": null,
   "id": "0e54ea77-9431-4046-ac48-78aafc548643",
   "metadata": {},
   "outputs": [],
   "source": []
  }
 ],
 "metadata": {
  "kernelspec": {
   "display_name": "Flask",
   "language": "python",
   "name": "flask"
  },
  "language_info": {
   "codemirror_mode": {
    "name": "ipython",
    "version": 3
   },
   "file_extension": ".py",
   "mimetype": "text/x-python",
   "name": "python",
   "nbconvert_exporter": "python",
   "pygments_lexer": "ipython3",
   "version": "3.10.5"
  }
 },
 "nbformat": 4,
 "nbformat_minor": 5
}
