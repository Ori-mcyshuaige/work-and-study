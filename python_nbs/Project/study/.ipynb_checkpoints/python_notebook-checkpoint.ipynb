{
 "cells": [
  {
   "cell_type": "code",
   "execution_count": 1,
   "id": "2b7147d6-3ee8-4c11-8a3a-07f13ab278eb",
   "metadata": {},
   "outputs": [],
   "source": [
    "import itertools as it"
   ]
  },
  {
   "cell_type": "code",
   "execution_count": 2,
   "id": "ce3e2649-f759-4628-b86c-b06554408a77",
   "metadata": {},
   "outputs": [
    {
     "name": "stdout",
     "output_type": "stream",
     "text": [
      "AC, AD, BC, BD, \n",
      "---------\n",
      "AA, AB, BA, BB, \n",
      "---------\n",
      "AB, AC, AD, BA, BC, BD, CA, CB, CD, DA, DB, DC, \n",
      "---------\n",
      "AB, AC, AD, BC, BD, CD, \n",
      "---------\n",
      "AA, AB, AC, AD, BB, BC, BD, CC, CD, DD, "
     ]
    }
   ],
   "source": [
    "# 使用两个序列进行排列组合\n",
    "for e in it.product('AB', 'CD'):\n",
    "    print(''.join(e), end=', ') # AC, AD, BC, BD,\n",
    "print('\\n---------')\n",
    "# 使用一个序列、重复2次进行全排列\n",
    "for e in it.product('AB', repeat=2):\n",
    "    print(''.join(e), end=', ') # AA, AB, BA, BB,\n",
    "print('\\n---------')\n",
    "# 从序列中取2个元素进行排列\n",
    "for e in it.permutations('ABCD', 2):\n",
    "    print(''.join(e), end=', ') # AB, AC, AD, BA, BC, BD, CA, CB, CD, DA, DB, DC,\n",
    "print('\\n---------')\n",
    "# 从序列中取2个元素进行组合、元素不允许重复\n",
    "for e in it.combinations('ABCD', 2):\n",
    "    print(''.join(e), end=', ') # AB, AC, AD, BC, BD, CD,\n",
    "print('\\n---------')\n",
    "# 从序列中取2个元素进行组合、元素允许重复\n",
    "for e in it.combinations_with_replacement('ABCD', 2):\n",
    "    print(''.join(e), end=', ') # AA, AB, AC, AD, BB, BC, BD, CC, CD, DD,"
   ]
  },
  {
   "cell_type": "code",
   "execution_count": null,
   "id": "fcc7243b-bb6c-41f0-8607-4376a20a726e",
   "metadata": {},
   "outputs": [],
   "source": []
  }
 ],
 "metadata": {
  "kernelspec": {
   "display_name": "Flask",
   "language": "python",
   "name": "flask"
  },
  "language_info": {
   "codemirror_mode": {
    "name": "ipython",
    "version": 3
   },
   "file_extension": ".py",
   "mimetype": "text/x-python",
   "name": "python",
   "nbconvert_exporter": "python",
   "pygments_lexer": "ipython3",
   "version": "3.10.5"
  }
 },
 "nbformat": 4,
 "nbformat_minor": 5
}
