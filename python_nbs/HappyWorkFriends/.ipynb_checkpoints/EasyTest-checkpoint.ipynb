{
 "cells": [
  {
   "cell_type": "code",
   "execution_count": 1,
   "metadata": {},
   "outputs": [],
   "source": [
    "import sys\n",
    "sys.path.append('/home/danxu/python_nbs/HappyWorkFriends')\n",
    "from QCtest import *\n",
    "\n",
    "path = ''\n",
    "ofile = f'{path}/your_name.xlsx'\n",
    "writer = pd.ExcelWriter(ofile)"
   ]
  },
  {
   "cell_type": "code",
   "execution_count": null,
   "metadata": {},
   "outputs": [],
   "source": [
    "# QC info\n",
    "smpls = os.listdir(f'{path}/qc/')\n",
    "qc_info = {}\n",
    "for s in smpls:\n",
    "    qc_info.update(read_qc_info(s, path))\n",
    "    \n",
    "df_qc = pd.DataFrame(qc_info).T\n",
    "cols = ordered_cols(df_qc.columns.values)\n",
    "df_qc = df_qc[cols]\n",
    "df_qc.to_excel(ofile, index_label='Sample', sheet_name='QC')"
   ]
  },
  {
   "cell_type": "code",
   "execution_count": null,
   "metadata": {},
   "outputs": [],
   "source": [
    "# Mutation Results\n",
    "mdir = f'{path}/somatic/overlap'; tdir = f'{path}/somatic/varscan'\n",
    "pairs = !ls {mdir}\n",
    "\n",
    "# 标准品预知突变位点\n",
    "#df_cmp0 = pd.read_excel('/home/danxu/2.files/Test/3chips/JL_biaozhunpin.xlsx', sheet_name='强阳1% - 24.5%')\n",
    "df_cmp0 = pd.read_excel('/home/danxu/2.files/Test/20190225.Novaseq/gDNA_FFPA_DNA-Horizon.xlsx', sheet_name='Tru-Q 1 HD728 5%')\n",
    "df_cmp0['Chr_Pos'] = [f\"chr{re.split('p|q', c)[0]}_{s}\" for c,s in zip(df_cmp0.Chromosome, df_cmp0['Position (GRCh37)'])]\n",
    "c_sites = [f\"chr{re.split('p|q', c)[0]}\\t{s}\" for c,s in zip(df_cmp0.Chromosome, df_cmp0['Position (GRCh37)'])]\n",
    "c_sites = np.unique(c_sites)\n",
    "\n",
    "#load Hotspot\n",
    "with open('/home/danxu/python_nbs/Dumps/hotspot_list', 'rb') as fo:\n",
    "    hotspot = pickle.load(fo)"
   ]
  },
  {
   "cell_type": "code",
   "execution_count": null,
   "metadata": {},
   "outputs": [],
   "source": [
    "muts = pd.Series(); css = []\n",
    "sites = []; names = []; d = defaultdict(dict)\n",
    "for s in pairs:\n",
    "    me = re.search('(.*)-VS-', s); name = me.group(1)\n",
    "    names.append(name)\n",
    "    with open(f'{mdir}/{s}/{s}.snv.sindel.AAchange.xls', 'r') as f:\n",
    "        f.readline()\n",
    "        for l in f:\n",
    "            l = l.split('\\t')\n",
    "            site = 'chr' + l[0] + '\\t' + l[1]\n",
    "            sites.append(site); d[name][site] = f'{l[2]}/{l[3]}'\n",
    "sites = np.unique(sites); \n",
    "#all_sites = np.append(sites,c_sites); all_sites = np.unique(all_sites)\n",
    "df_AA = pd.DataFrame(d)\n",
    "df_AA = df_AA.reindex(sites); if_same = (df_AA.eq(df_AA.iloc[:,0], axis=0)).all(1)\n",
    "css.extend([get_coding_size(i,f'{path}/qc') for i in df_AA.columns])\n",
    "muts = muts.append(df_AA.notna().sum())\n",
    "\n",
    "arr = []\n",
    "for pos in sites:\n",
    "    tmp = {}; tmp['Chr_Pos'] = pos.replace('\\t', '_')\n",
    "    tmp['if_hotspot'] = 'Y' if tmp['Chr_Pos'] in hotspot else 'N'\n",
    "    for s in pairs:\n",
    "        me = re.search('(.*)-VS-(.*)', s)\n",
    "        tumor,normal = me.group(1,2)\n",
    "        line = !grep $'{pos}' {tdir}/{s}/{s}_sindel.snp.raw\n",
    "        if not line:\n",
    "            line = !grep $'{pos}' {tdir}/{s}/{s}_sindel.indel.raw\n",
    "        if line:\n",
    "            l = line[0].split('\\t')\n",
    "            var = f'{l[2]}/{l[3]}'; reads = int(l[9]); per = float(l[10].strip('%'))\n",
    "        else:\n",
    "            var = f'-/-'; reads = 0; per = 0\n",
    "\n",
    "        if pos not in df_AA.index or df_AA.loc[pos, tumor] is np.nan:\n",
    "            fail_info = !grep $'{pos}' {tdir}/{s}/{s}*strict |cut -f5\n",
    "            if not fail_info: fail_info = 'Null'\n",
    "            var = f'{var}({fail_info})'        \n",
    "        tmp[f'{normal}_reads'] = int(l[5]); tmp[f'{normal}_per(%)'] = float(l[6].strip('%'))\n",
    "        tmp[f'{tumor}.var'] = var; tmp[f'{tumor}.reads'] = reads; tmp[f'{tumor}.per(%)'] = per\n",
    "    arr.append(tmp)\n",
    "\n",
    "df_all = pd.DataFrame(arr)\n",
    "df = df_all.loc[df_all.Chr_Pos.isin(np.char.replace(sites, '\\t', '_'))].copy()\n",
    "pnames = [f'{i}.per(%)' for i in names]; gt_2 = (df[pnames] > 2).any(1); gt_5 = (df[pnames] > 5).any(1)\n",
    "df['if_same'] = if_same.values; df['>2%'] = gt_2.values\n",
    "ixs = df[df['>2%']]['Chr_Pos'].replace('_', '\\t', regex=True)\n",
    "muts2 = df_AA[gt_2.values].notna().sum(); muts3 = df_AA[gt_5.values].notna().sum()\n",
    "#print(f'一致率\\t{df[\"if_same\"].mean().round(4)}  {df[gt_2][\"if_same\"].mean().round(4)}')\n",
    "df.to_excel(writer, sheet_name='Mutation_Result', index=False)\n",
    "\n",
    "css = np.array(css)\n",
    "df_tmb = pd.DataFrame({'Muts':muts, 'tmb':round(muts/css,2), '>2 tmb':round(muts2/css,2), '>5 tmb':round(muts3/css,2)})\n",
    "df_tmb.to_excel(writer, sheet_name='TMB')\n",
    "dfw = pd.DataFrame({'突变一致率':f'{(df[\"if_same\"].mean()*100).round(2)}%', \n",
    "                    '>2 一致率':f'{(df[gt_2][\"if_same\"].mean()*100).round(2)}%',\n",
    "                    '>5 一致率':f'{(df[gt_5][\"if_same\"].mean()*100).round(2)}%'}, index=['rate'],\n",
    "                    )\n",
    "dfw.to_excel(writer, index=False, sheet_name='TMB', startcol=df_tmb.shape[1]+3)"
   ]
  },
  {
   "cell_type": "code",
   "execution_count": null,
   "metadata": {},
   "outputs": [],
   "source": [
    "# 已知突变一致性\n",
    "#left_cols = ['Chr_Pos','Ref.','Alt.','Germline']\n",
    "left_cols = ['Chr_Pos','Ref.','Alt.','Type','Gene','Variant','Expected Allelic Frequency, %']\n",
    "df_cmp = df_cmp0[left_cols].copy()\n",
    "ref = df_cmp['Ref.'].groupby(df_cmp.Chr_Pos).apply(lambda x: '|'.join(x))\n",
    "alt = df_cmp['Alt.'].groupby(df_cmp.Chr_Pos).apply(lambda x: '|'.join(x))\n",
    "df_cmp.drop_duplicates(subset='Chr_Pos', inplace=True)\n",
    "ix = df_cmp.Chr_Pos; ref = ref.loc[ix]; alt = alt.loc[ix]\n",
    "df_cmp['Ref.'] = ref.values; df_cmp['Alt.'] = alt.values\n",
    "df_cmp1 = df_cmp.merge(df, on='Chr_Pos', how='left'); df_cmp1.drop_duplicates(subset='Chr_Pos', inplace=True)\n",
    "df_cmp2 = df_cmp.merge(df_all, on='Chr_Pos', how='outer'); df_cmp2.drop_duplicates(subset='Chr_Pos', inplace=True)\n",
    "df_cmp1['在部分样品检出'] = [True if i.replace('_','\\t') in sites else False for i in df_cmp1.Chr_Pos]\n",
    "df_cmp1['在全部样品检出'] = [True if x1 and x2 else False for x1,x2 in zip(df_cmp1['在部分样品检出'],df_cmp1.if_same)]\n",
    "dfw = pd.DataFrame({'在部分样品检出':f'{(df_cmp1[\"在部分样品检出\"].mean()*100).round(2)}%',\n",
    "                   '在全部样品检出':f'{(df_cmp1[\"在全部样品检出\"].mean()*100).round(2)}%'}, index=['rate'])\n",
    "print(dfw)\n",
    "df_cmp2.to_excel(writer, index=False, sheet_name='已知突变检出率')\n",
    "dfw.T.to_excel(writer,sheet_name='已知突变检出率',header=False,startrow=len(df_cmp2)+3)"
   ]
  },
  {
   "cell_type": "code",
   "execution_count": null,
   "metadata": {},
   "outputs": [],
   "source": [
    "writer.save(); writer.close()"
   ]
  }
 ],
 "metadata": {
  "kernelspec": {
   "display_name": "Python 3",
   "language": "python",
   "name": "python3"
  },
  "language_info": {
   "codemirror_mode": {
    "name": "ipython",
    "version": 3
   },
   "file_extension": ".py",
   "mimetype": "text/x-python",
   "name": "python",
   "nbconvert_exporter": "python",
   "pygments_lexer": "ipython3",
   "version": "3.6.8"
  }
 },
 "nbformat": 4,
 "nbformat_minor": 2
}
